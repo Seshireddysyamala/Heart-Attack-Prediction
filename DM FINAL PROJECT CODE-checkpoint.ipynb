{
 "cells": [
  {
   "cell_type": "code",
   "execution_count": 1,
   "id": "a3e15c02",
   "metadata": {},
   "outputs": [],
   "source": [
    "import pandas as pd\n",
    "import numpy as np\n",
    "import matplotlib.pyplot as plt\n",
    "import seaborn as sns\n",
    "\n",
    "from sklearn.preprocessing import scale\n",
    "from sklearn.model_selection import train_test_split\n",
    "from sklearn.linear_model import Ridge, RidgeCV, Lasso, LassoCV\n",
    "from sklearn.linear_model import LinearRegression\n",
    "from sklearn.metrics import mean_squared_error\n",
    "from sklearn.metrics import mean_absolute_error\n",
    "from sklearn.metrics import r2_score\n",
    "import statsmodels.api as sm\n",
    "\n",
    "\n",
    "from sklearn.neighbors import KNeighborsClassifier\n",
    "from sklearn.model_selection import train_test_split\n",
    "from sklearn.preprocessing import MinMaxScaler\n",
    "import matplotlib.pyplot as plt\n",
    "\n",
    "from sklearn.metrics import accuracy_score\n",
    "\n",
    "from sklearn.metrics import confusion_matrix"
   ]
  },
  {
   "cell_type": "code",
   "execution_count": 2,
   "id": "afa04296",
   "metadata": {},
   "outputs": [],
   "source": [
    "## LOADING THE DATA"
   ]
  },
  {
   "cell_type": "code",
   "execution_count": 3,
   "id": "e4dd7923",
   "metadata": {},
   "outputs": [],
   "source": [
    "project_data = pd.read_csv(\"C:/Users/seshi/Downloads/heart_attack_prediction_dataset.csv\")"
   ]
  },
  {
   "cell_type": "code",
   "execution_count": 4,
   "id": "2fc17235",
   "metadata": {},
   "outputs": [
    {
     "name": "stdout",
     "output_type": "stream",
     "text": [
      "Index(['Patient ID', 'Age', 'Sex', 'Cholesterol', 'Blood Pressure',\n",
      "       'Heart Rate', 'Diabetes', 'Family History', 'Smoking', 'Obesity',\n",
      "       'Alcohol Consumption', 'Exercise Hours Per Week', 'Diet',\n",
      "       'Previous Heart Problems', 'Medication Use', 'Stress Level',\n",
      "       'Sedentary Hours Per Day', 'Income', 'BMI', 'Triglycerides',\n",
      "       'Physical Activity Days Per Week', 'Sleep Hours Per Day', 'Country',\n",
      "       'Continent', 'Hemisphere', 'Heart Attack Risk'],\n",
      "      dtype='object')\n"
     ]
    }
   ],
   "source": [
    "## Checking the coloumns\n",
    "print(project_data.columns)"
   ]
  },
  {
   "cell_type": "code",
   "execution_count": 5,
   "id": "9f9ec542",
   "metadata": {},
   "outputs": [
    {
     "name": "stdout",
     "output_type": "stream",
     "text": [
      "Patient ID                          object\n",
      "Age                                  int64\n",
      "Sex                                 object\n",
      "Cholesterol                          int64\n",
      "Blood Pressure                      object\n",
      "Heart Rate                           int64\n",
      "Diabetes                             int64\n",
      "Family History                       int64\n",
      "Smoking                              int64\n",
      "Obesity                              int64\n",
      "Alcohol Consumption                  int64\n",
      "Exercise Hours Per Week            float64\n",
      "Diet                                object\n",
      "Previous Heart Problems              int64\n",
      "Medication Use                       int64\n",
      "Stress Level                         int64\n",
      "Sedentary Hours Per Day            float64\n",
      "Income                               int64\n",
      "BMI                                float64\n",
      "Triglycerides                        int64\n",
      "Physical Activity Days Per Week      int64\n",
      "Sleep Hours Per Day                  int64\n",
      "Country                             object\n",
      "Continent                           object\n",
      "Hemisphere                          object\n",
      "Heart Attack Risk                    int64\n",
      "dtype: object\n"
     ]
    },
    {
     "data": {
      "text/html": [
       "<div>\n",
       "<style scoped>\n",
       "    .dataframe tbody tr th:only-of-type {\n",
       "        vertical-align: middle;\n",
       "    }\n",
       "\n",
       "    .dataframe tbody tr th {\n",
       "        vertical-align: top;\n",
       "    }\n",
       "\n",
       "    .dataframe thead th {\n",
       "        text-align: right;\n",
       "    }\n",
       "</style>\n",
       "<table border=\"1\" class=\"dataframe\">\n",
       "  <thead>\n",
       "    <tr style=\"text-align: right;\">\n",
       "      <th></th>\n",
       "      <th>Patient ID</th>\n",
       "      <th>Age</th>\n",
       "      <th>Sex</th>\n",
       "      <th>Cholesterol</th>\n",
       "      <th>Blood Pressure</th>\n",
       "      <th>Heart Rate</th>\n",
       "      <th>Diabetes</th>\n",
       "      <th>Family History</th>\n",
       "      <th>Smoking</th>\n",
       "      <th>Obesity</th>\n",
       "      <th>...</th>\n",
       "      <th>Sedentary Hours Per Day</th>\n",
       "      <th>Income</th>\n",
       "      <th>BMI</th>\n",
       "      <th>Triglycerides</th>\n",
       "      <th>Physical Activity Days Per Week</th>\n",
       "      <th>Sleep Hours Per Day</th>\n",
       "      <th>Country</th>\n",
       "      <th>Continent</th>\n",
       "      <th>Hemisphere</th>\n",
       "      <th>Heart Attack Risk</th>\n",
       "    </tr>\n",
       "  </thead>\n",
       "  <tbody>\n",
       "    <tr>\n",
       "      <th>8758</th>\n",
       "      <td>MSV9918</td>\n",
       "      <td>60</td>\n",
       "      <td>Male</td>\n",
       "      <td>121</td>\n",
       "      <td>94/76</td>\n",
       "      <td>61</td>\n",
       "      <td>1</td>\n",
       "      <td>1</td>\n",
       "      <td>1</td>\n",
       "      <td>0</td>\n",
       "      <td>...</td>\n",
       "      <td>10.806373</td>\n",
       "      <td>235420</td>\n",
       "      <td>19.655895</td>\n",
       "      <td>67</td>\n",
       "      <td>7</td>\n",
       "      <td>7</td>\n",
       "      <td>Thailand</td>\n",
       "      <td>Asia</td>\n",
       "      <td>Northern Hemisphere</td>\n",
       "      <td>0</td>\n",
       "    </tr>\n",
       "    <tr>\n",
       "      <th>8759</th>\n",
       "      <td>QSV6764</td>\n",
       "      <td>28</td>\n",
       "      <td>Female</td>\n",
       "      <td>120</td>\n",
       "      <td>157/102</td>\n",
       "      <td>73</td>\n",
       "      <td>1</td>\n",
       "      <td>0</td>\n",
       "      <td>0</td>\n",
       "      <td>1</td>\n",
       "      <td>...</td>\n",
       "      <td>3.833038</td>\n",
       "      <td>217881</td>\n",
       "      <td>23.993866</td>\n",
       "      <td>617</td>\n",
       "      <td>4</td>\n",
       "      <td>9</td>\n",
       "      <td>Canada</td>\n",
       "      <td>North America</td>\n",
       "      <td>Northern Hemisphere</td>\n",
       "      <td>0</td>\n",
       "    </tr>\n",
       "    <tr>\n",
       "      <th>8760</th>\n",
       "      <td>XKA5925</td>\n",
       "      <td>47</td>\n",
       "      <td>Male</td>\n",
       "      <td>250</td>\n",
       "      <td>161/75</td>\n",
       "      <td>105</td>\n",
       "      <td>0</td>\n",
       "      <td>1</td>\n",
       "      <td>1</td>\n",
       "      <td>1</td>\n",
       "      <td>...</td>\n",
       "      <td>2.375214</td>\n",
       "      <td>36998</td>\n",
       "      <td>35.406146</td>\n",
       "      <td>527</td>\n",
       "      <td>4</td>\n",
       "      <td>4</td>\n",
       "      <td>Brazil</td>\n",
       "      <td>South America</td>\n",
       "      <td>Southern Hemisphere</td>\n",
       "      <td>1</td>\n",
       "    </tr>\n",
       "    <tr>\n",
       "      <th>8761</th>\n",
       "      <td>EPE6801</td>\n",
       "      <td>36</td>\n",
       "      <td>Male</td>\n",
       "      <td>178</td>\n",
       "      <td>119/67</td>\n",
       "      <td>60</td>\n",
       "      <td>1</td>\n",
       "      <td>0</td>\n",
       "      <td>1</td>\n",
       "      <td>0</td>\n",
       "      <td>...</td>\n",
       "      <td>0.029104</td>\n",
       "      <td>209943</td>\n",
       "      <td>27.294020</td>\n",
       "      <td>114</td>\n",
       "      <td>2</td>\n",
       "      <td>8</td>\n",
       "      <td>Brazil</td>\n",
       "      <td>South America</td>\n",
       "      <td>Southern Hemisphere</td>\n",
       "      <td>0</td>\n",
       "    </tr>\n",
       "    <tr>\n",
       "      <th>8762</th>\n",
       "      <td>ZWN9666</td>\n",
       "      <td>25</td>\n",
       "      <td>Female</td>\n",
       "      <td>356</td>\n",
       "      <td>138/67</td>\n",
       "      <td>75</td>\n",
       "      <td>1</td>\n",
       "      <td>1</td>\n",
       "      <td>0</td>\n",
       "      <td>0</td>\n",
       "      <td>...</td>\n",
       "      <td>9.005234</td>\n",
       "      <td>247338</td>\n",
       "      <td>32.914151</td>\n",
       "      <td>180</td>\n",
       "      <td>7</td>\n",
       "      <td>4</td>\n",
       "      <td>United Kingdom</td>\n",
       "      <td>Europe</td>\n",
       "      <td>Northern Hemisphere</td>\n",
       "      <td>1</td>\n",
       "    </tr>\n",
       "  </tbody>\n",
       "</table>\n",
       "<p>5 rows × 26 columns</p>\n",
       "</div>"
      ],
      "text/plain": [
       "     Patient ID  Age     Sex  Cholesterol Blood Pressure  Heart Rate  \\\n",
       "8758    MSV9918   60    Male          121          94/76          61   \n",
       "8759    QSV6764   28  Female          120        157/102          73   \n",
       "8760    XKA5925   47    Male          250         161/75         105   \n",
       "8761    EPE6801   36    Male          178         119/67          60   \n",
       "8762    ZWN9666   25  Female          356         138/67          75   \n",
       "\n",
       "      Diabetes  Family History  Smoking  Obesity  ...  \\\n",
       "8758         1               1        1        0  ...   \n",
       "8759         1               0        0        1  ...   \n",
       "8760         0               1        1        1  ...   \n",
       "8761         1               0        1        0  ...   \n",
       "8762         1               1        0        0  ...   \n",
       "\n",
       "      Sedentary Hours Per Day  Income        BMI  Triglycerides  \\\n",
       "8758                10.806373  235420  19.655895             67   \n",
       "8759                 3.833038  217881  23.993866            617   \n",
       "8760                 2.375214   36998  35.406146            527   \n",
       "8761                 0.029104  209943  27.294020            114   \n",
       "8762                 9.005234  247338  32.914151            180   \n",
       "\n",
       "      Physical Activity Days Per Week  Sleep Hours Per Day         Country  \\\n",
       "8758                                7                    7        Thailand   \n",
       "8759                                4                    9          Canada   \n",
       "8760                                4                    4          Brazil   \n",
       "8761                                2                    8          Brazil   \n",
       "8762                                7                    4  United Kingdom   \n",
       "\n",
       "          Continent           Hemisphere  Heart Attack Risk  \n",
       "8758           Asia  Northern Hemisphere                  0  \n",
       "8759  North America  Northern Hemisphere                  0  \n",
       "8760  South America  Southern Hemisphere                  1  \n",
       "8761  South America  Southern Hemisphere                  0  \n",
       "8762         Europe  Northern Hemisphere                  1  \n",
       "\n",
       "[5 rows x 26 columns]"
      ]
     },
     "execution_count": 5,
     "metadata": {},
     "output_type": "execute_result"
    }
   ],
   "source": [
    "# TO VIEW DATA TYPES OF DATA FEATURE \n",
    "project_data_types = project_data.dtypes\n",
    "\n",
    "print(project_data_types)#inspecting the data\n",
    "project_data.tail()"
   ]
  },
  {
   "cell_type": "code",
   "execution_count": 6,
   "id": "32cbddb5",
   "metadata": {},
   "outputs": [
    {
     "data": {
      "text/html": [
       "<div>\n",
       "<style scoped>\n",
       "    .dataframe tbody tr th:only-of-type {\n",
       "        vertical-align: middle;\n",
       "    }\n",
       "\n",
       "    .dataframe tbody tr th {\n",
       "        vertical-align: top;\n",
       "    }\n",
       "\n",
       "    .dataframe thead th {\n",
       "        text-align: right;\n",
       "    }\n",
       "</style>\n",
       "<table border=\"1\" class=\"dataframe\">\n",
       "  <thead>\n",
       "    <tr style=\"text-align: right;\">\n",
       "      <th></th>\n",
       "      <th>Patient ID</th>\n",
       "      <th>Age</th>\n",
       "      <th>Sex</th>\n",
       "      <th>Cholesterol</th>\n",
       "      <th>Blood Pressure</th>\n",
       "      <th>Heart Rate</th>\n",
       "      <th>Diabetes</th>\n",
       "      <th>Family History</th>\n",
       "      <th>Smoking</th>\n",
       "      <th>Obesity</th>\n",
       "      <th>...</th>\n",
       "      <th>Sedentary Hours Per Day</th>\n",
       "      <th>Income</th>\n",
       "      <th>BMI</th>\n",
       "      <th>Triglycerides</th>\n",
       "      <th>Physical Activity Days Per Week</th>\n",
       "      <th>Sleep Hours Per Day</th>\n",
       "      <th>Country</th>\n",
       "      <th>Continent</th>\n",
       "      <th>Hemisphere</th>\n",
       "      <th>Heart Attack Risk</th>\n",
       "    </tr>\n",
       "  </thead>\n",
       "  <tbody>\n",
       "    <tr>\n",
       "      <th>0</th>\n",
       "      <td>BMW7812</td>\n",
       "      <td>67</td>\n",
       "      <td>Male</td>\n",
       "      <td>208</td>\n",
       "      <td>158/88</td>\n",
       "      <td>72</td>\n",
       "      <td>0</td>\n",
       "      <td>0</td>\n",
       "      <td>1</td>\n",
       "      <td>0</td>\n",
       "      <td>...</td>\n",
       "      <td>6.615001</td>\n",
       "      <td>261404</td>\n",
       "      <td>31.251233</td>\n",
       "      <td>286</td>\n",
       "      <td>0</td>\n",
       "      <td>6</td>\n",
       "      <td>Argentina</td>\n",
       "      <td>South America</td>\n",
       "      <td>Southern Hemisphere</td>\n",
       "      <td>0</td>\n",
       "    </tr>\n",
       "    <tr>\n",
       "      <th>1</th>\n",
       "      <td>CZE1114</td>\n",
       "      <td>21</td>\n",
       "      <td>Male</td>\n",
       "      <td>389</td>\n",
       "      <td>165/93</td>\n",
       "      <td>98</td>\n",
       "      <td>1</td>\n",
       "      <td>1</td>\n",
       "      <td>1</td>\n",
       "      <td>1</td>\n",
       "      <td>...</td>\n",
       "      <td>4.963459</td>\n",
       "      <td>285768</td>\n",
       "      <td>27.194973</td>\n",
       "      <td>235</td>\n",
       "      <td>1</td>\n",
       "      <td>7</td>\n",
       "      <td>Canada</td>\n",
       "      <td>North America</td>\n",
       "      <td>Northern Hemisphere</td>\n",
       "      <td>0</td>\n",
       "    </tr>\n",
       "    <tr>\n",
       "      <th>2</th>\n",
       "      <td>BNI9906</td>\n",
       "      <td>21</td>\n",
       "      <td>Female</td>\n",
       "      <td>324</td>\n",
       "      <td>174/99</td>\n",
       "      <td>72</td>\n",
       "      <td>1</td>\n",
       "      <td>0</td>\n",
       "      <td>0</td>\n",
       "      <td>0</td>\n",
       "      <td>...</td>\n",
       "      <td>9.463426</td>\n",
       "      <td>235282</td>\n",
       "      <td>28.176571</td>\n",
       "      <td>587</td>\n",
       "      <td>4</td>\n",
       "      <td>4</td>\n",
       "      <td>France</td>\n",
       "      <td>Europe</td>\n",
       "      <td>Northern Hemisphere</td>\n",
       "      <td>0</td>\n",
       "    </tr>\n",
       "    <tr>\n",
       "      <th>3</th>\n",
       "      <td>JLN3497</td>\n",
       "      <td>84</td>\n",
       "      <td>Male</td>\n",
       "      <td>383</td>\n",
       "      <td>163/100</td>\n",
       "      <td>73</td>\n",
       "      <td>1</td>\n",
       "      <td>1</td>\n",
       "      <td>1</td>\n",
       "      <td>0</td>\n",
       "      <td>...</td>\n",
       "      <td>7.648981</td>\n",
       "      <td>125640</td>\n",
       "      <td>36.464704</td>\n",
       "      <td>378</td>\n",
       "      <td>3</td>\n",
       "      <td>4</td>\n",
       "      <td>Canada</td>\n",
       "      <td>North America</td>\n",
       "      <td>Northern Hemisphere</td>\n",
       "      <td>0</td>\n",
       "    </tr>\n",
       "    <tr>\n",
       "      <th>4</th>\n",
       "      <td>GFO8847</td>\n",
       "      <td>66</td>\n",
       "      <td>Male</td>\n",
       "      <td>318</td>\n",
       "      <td>91/88</td>\n",
       "      <td>93</td>\n",
       "      <td>1</td>\n",
       "      <td>1</td>\n",
       "      <td>1</td>\n",
       "      <td>1</td>\n",
       "      <td>...</td>\n",
       "      <td>1.514821</td>\n",
       "      <td>160555</td>\n",
       "      <td>21.809144</td>\n",
       "      <td>231</td>\n",
       "      <td>1</td>\n",
       "      <td>5</td>\n",
       "      <td>Thailand</td>\n",
       "      <td>Asia</td>\n",
       "      <td>Northern Hemisphere</td>\n",
       "      <td>0</td>\n",
       "    </tr>\n",
       "  </tbody>\n",
       "</table>\n",
       "<p>5 rows × 26 columns</p>\n",
       "</div>"
      ],
      "text/plain": [
       "  Patient ID  Age     Sex  Cholesterol Blood Pressure  Heart Rate  Diabetes  \\\n",
       "0    BMW7812   67    Male          208         158/88          72         0   \n",
       "1    CZE1114   21    Male          389         165/93          98         1   \n",
       "2    BNI9906   21  Female          324         174/99          72         1   \n",
       "3    JLN3497   84    Male          383        163/100          73         1   \n",
       "4    GFO8847   66    Male          318          91/88          93         1   \n",
       "\n",
       "   Family History  Smoking  Obesity  ...  Sedentary Hours Per Day  Income  \\\n",
       "0               0        1        0  ...                 6.615001  261404   \n",
       "1               1        1        1  ...                 4.963459  285768   \n",
       "2               0        0        0  ...                 9.463426  235282   \n",
       "3               1        1        0  ...                 7.648981  125640   \n",
       "4               1        1        1  ...                 1.514821  160555   \n",
       "\n",
       "         BMI  Triglycerides  Physical Activity Days Per Week  \\\n",
       "0  31.251233            286                                0   \n",
       "1  27.194973            235                                1   \n",
       "2  28.176571            587                                4   \n",
       "3  36.464704            378                                3   \n",
       "4  21.809144            231                                1   \n",
       "\n",
       "   Sleep Hours Per Day    Country      Continent           Hemisphere  \\\n",
       "0                    6  Argentina  South America  Southern Hemisphere   \n",
       "1                    7     Canada  North America  Northern Hemisphere   \n",
       "2                    4     France         Europe  Northern Hemisphere   \n",
       "3                    4     Canada  North America  Northern Hemisphere   \n",
       "4                    5   Thailand           Asia  Northern Hemisphere   \n",
       "\n",
       "   Heart Attack Risk  \n",
       "0                  0  \n",
       "1                  0  \n",
       "2                  0  \n",
       "3                  0  \n",
       "4                  0  \n",
       "\n",
       "[5 rows x 26 columns]"
      ]
     },
     "execution_count": 6,
     "metadata": {},
     "output_type": "execute_result"
    }
   ],
   "source": [
    "#inspecting the data\n",
    "project_data.head()"
   ]
  },
  {
   "cell_type": "code",
   "execution_count": 7,
   "id": "5612dc1c",
   "metadata": {},
   "outputs": [
    {
     "data": {
      "text/plain": [
       "Patient ID                         0\n",
       "Age                                0\n",
       "Sex                                0\n",
       "Cholesterol                        0\n",
       "Blood Pressure                     0\n",
       "Heart Rate                         0\n",
       "Diabetes                           0\n",
       "Family History                     0\n",
       "Smoking                            0\n",
       "Obesity                            0\n",
       "Alcohol Consumption                0\n",
       "Exercise Hours Per Week            0\n",
       "Diet                               0\n",
       "Previous Heart Problems            0\n",
       "Medication Use                     0\n",
       "Stress Level                       0\n",
       "Sedentary Hours Per Day            0\n",
       "Income                             0\n",
       "BMI                                0\n",
       "Triglycerides                      0\n",
       "Physical Activity Days Per Week    0\n",
       "Sleep Hours Per Day                0\n",
       "Country                            0\n",
       "Continent                          0\n",
       "Hemisphere                         0\n",
       "Heart Attack Risk                  0\n",
       "dtype: int64"
      ]
     },
     "execution_count": 7,
     "metadata": {},
     "output_type": "execute_result"
    }
   ],
   "source": [
    "#are there any missing values?\n",
    "project_data.isna().sum()"
   ]
  },
  {
   "cell_type": "code",
   "execution_count": 8,
   "id": "bb618b26",
   "metadata": {},
   "outputs": [
    {
     "name": "stdout",
     "output_type": "stream",
     "text": [
      "<class 'pandas.core.frame.DataFrame'>\n",
      "RangeIndex: 8763 entries, 0 to 8762\n",
      "Data columns (total 26 columns):\n",
      " #   Column                           Non-Null Count  Dtype  \n",
      "---  ------                           --------------  -----  \n",
      " 0   Patient ID                       8763 non-null   object \n",
      " 1   Age                              8763 non-null   int64  \n",
      " 2   Sex                              8763 non-null   object \n",
      " 3   Cholesterol                      8763 non-null   int64  \n",
      " 4   Blood Pressure                   8763 non-null   object \n",
      " 5   Heart Rate                       8763 non-null   int64  \n",
      " 6   Diabetes                         8763 non-null   int64  \n",
      " 7   Family History                   8763 non-null   int64  \n",
      " 8   Smoking                          8763 non-null   int64  \n",
      " 9   Obesity                          8763 non-null   int64  \n",
      " 10  Alcohol Consumption              8763 non-null   int64  \n",
      " 11  Exercise Hours Per Week          8763 non-null   float64\n",
      " 12  Diet                             8763 non-null   object \n",
      " 13  Previous Heart Problems          8763 non-null   int64  \n",
      " 14  Medication Use                   8763 non-null   int64  \n",
      " 15  Stress Level                     8763 non-null   int64  \n",
      " 16  Sedentary Hours Per Day          8763 non-null   float64\n",
      " 17  Income                           8763 non-null   int64  \n",
      " 18  BMI                              8763 non-null   float64\n",
      " 19  Triglycerides                    8763 non-null   int64  \n",
      " 20  Physical Activity Days Per Week  8763 non-null   int64  \n",
      " 21  Sleep Hours Per Day              8763 non-null   int64  \n",
      " 22  Country                          8763 non-null   object \n",
      " 23  Continent                        8763 non-null   object \n",
      " 24  Hemisphere                       8763 non-null   object \n",
      " 25  Heart Attack Risk                8763 non-null   int64  \n",
      "dtypes: float64(3), int64(16), object(7)\n",
      "memory usage: 1.7+ MB\n"
     ]
    }
   ],
   "source": [
    "#having a look at column names and data types\n",
    "project_data.info()"
   ]
  },
  {
   "cell_type": "code",
   "execution_count": 9,
   "id": "29aa0792",
   "metadata": {},
   "outputs": [
    {
     "data": {
      "image/png": "[encoded data removed]",
      "text/plain": [
       "<Figure size 1500x1000 with 20 Axes>"
      ]
     },
     "metadata": {},
     "output_type": "display_data"
    }
   ],
   "source": [
    "## To check the distributions of input features using histograms:\n",
    "project_data.hist(bins=30, figsize=(15, 10))\n",
    "plt.show()"
   ]
  },
  {
   "cell_type": "code",
   "execution_count": 10,
   "id": "a87901a9",
   "metadata": {},
   "outputs": [],
   "source": [
    "##Interpretations of the graphs:\n",
    "\n",
    "## Age: The risk of heart attack increases with age. This is because the arteries become less elastic and more prone to hardening as we age.\n",
    "\n",
    "## Cholesterol: High cholesterol levels are a major risk factor for heart attack. This is because cholesterol can build up in the arteries and form plaques, which can narrow the arteries and reduce blood flow to the heart.\n",
    "\n",
    "## Heart rate: A high resting heart rate is a sign of stress on the heart and can be a risk factor for heart attack.\n",
    "\n",
    "## Diabetes: People with diabetes have a higher risk of heart attack. This is because diabetes can damage the arteries and make them more likely to form plaques.\n",
    "\n",
    "## Smoking: Smoking is a major risk factor for heart attack. This is because smoking damages the arteries and makes them more likely to form plaques.\n",
    "\n",
    "## Family history: A family history of heart disease is a risk factor for heart attack. This is because some risk factors for heart disease are genetic.\n",
    "\n",
    "## Obesity: Obesity is a risk factor for heart attack. This is because obesity can increase blood pressure, cholesterol levels, and blood sugar levels.\n",
    "\n",
    "## Alcohol consumption: Excessive alcohol consumption can damage the heart and increase the risk of heart attack.\n",
    "\n",
    "## Exercise hours per week: Regular exercise is good for the heart and can help to reduce the risk of heart attack.\n",
    "\n",
    "## Previous heart problem: A previous heart problem is a major risk factor for heart attack.\n",
    "\n",
    "## Medication use: Some medications can increase the risk of heart attack. It is important to talk to your doctor about the risks and benefits of any medications you are taking.\n",
    "\n",
    "## Stress level: High levels of stress can increase the risk of heart attack.\n",
    "\n",
    "## Income: Low income is a risk factor for heart attack. This is because low income is associated with other risk factors for heart disease, such as obesity, smoking, and lack of access to healthcare.\n",
    "\n",
    "## Sedentary hours per day: Spending too much time sitting or lying down can increase the risk of heart attack. It is important to get up and move around regularly.\n",
    "\n",
    "## Triglycerides: High triglyceride levels are a risk factor for heart attack. Triglycerides are a type of fat that can build up in the arteries and form plaques.\n",
    "\n",
    "## Physical activity days per week: Getting regular physical activity can help to reduce the risk of heart attack.\n",
    "\n",
    "## It is important to note that these graphs are just a general overview of the relationship between different risk factors and the risk of heart attack. Your individual risk of heart attack may vary depending on your specific circumstances. It is important to talk to your doctor about your risk of heart disease and what you can do to reduce your risk."
   ]
  },
  {
   "cell_type": "code",
   "execution_count": 11,
   "id": "c94acf43",
   "metadata": {},
   "outputs": [
    {
     "name": "stderr",
     "output_type": "stream",
     "text": [
      "C:\\Users\\seshi\\AppData\\Local\\Temp\\ipykernel_11020\\1862765214.py:1: FutureWarning: The default value of numeric_only in DataFrame.corr is deprecated. In a future version, it will default to False. Select only valid columns or specify the value of numeric_only to silence this warning.\n",
      "  datacorr= project_data.corr()\n"
     ]
    },
    {
     "data": {
      "text/html": [
       "<style type=\"text/css\">\n",
       "#T_223f9_row0_col0, #T_223f9_row1_col1, #T_223f9_row2_col2, #T_223f9_row3_col3, #T_223f9_row4_col4, #T_223f9_row5_col5, #T_223f9_row6_col6, #T_223f9_row7_col7, #T_223f9_row8_col8, #T_223f9_row9_col9, #T_223f9_row10_col10, #T_223f9_row11_col11, #T_223f9_row12_col12, #T_223f9_row13_col13, #T_223f9_row14_col14, #T_223f9_row15_col15, #T_223f9_row16_col16, #T_223f9_row17_col17, #T_223f9_row18_col18 {\n",
       "  background-color: #023858;\n",
       "  color: #f1f1f1;\n",
       "}\n",
       "#T_223f9_row0_col1, #T_223f9_row0_col6, #T_223f9_row0_col7, #T_223f9_row0_col9, #T_223f9_row0_col16, #T_223f9_row1_col2, #T_223f9_row1_col7, #T_223f9_row1_col9, #T_223f9_row1_col10, #T_223f9_row2_col9, #T_223f9_row2_col11, #T_223f9_row2_col14, #T_223f9_row2_col16, #T_223f9_row2_col18, #T_223f9_row3_col5, #T_223f9_row3_col8, #T_223f9_row3_col9, #T_223f9_row3_col10, #T_223f9_row3_col12, #T_223f9_row3_col17, #T_223f9_row4_col8, #T_223f9_row4_col9, #T_223f9_row4_col12, #T_223f9_row4_col17, #T_223f9_row4_col18, #T_223f9_row5_col3, #T_223f9_row5_col9, #T_223f9_row5_col14, #T_223f9_row5_col18, #T_223f9_row6_col5, #T_223f9_row6_col10, #T_223f9_row6_col13, #T_223f9_row6_col16, #T_223f9_row7_col1, #T_223f9_row7_col2, #T_223f9_row7_col3, #T_223f9_row7_col8, #T_223f9_row7_col11, #T_223f9_row7_col16, #T_223f9_row8_col0, #T_223f9_row8_col4, #T_223f9_row8_col5, #T_223f9_row8_col7, #T_223f9_row8_col10, #T_223f9_row8_col11, #T_223f9_row8_col14, #T_223f9_row8_col16, #T_223f9_row9_col0, #T_223f9_row9_col1, #T_223f9_row9_col3, #T_223f9_row9_col4, #T_223f9_row9_col16, #T_223f9_row9_col18, #T_223f9_row10_col0, #T_223f9_row10_col6, #T_223f9_row10_col8, #T_223f9_row10_col13, #T_223f9_row10_col15, #T_223f9_row11_col7, #T_223f9_row11_col8, #T_223f9_row11_col16, #T_223f9_row11_col17, #T_223f9_row11_col18, #T_223f9_row12_col3, #T_223f9_row12_col9, #T_223f9_row12_col11, #T_223f9_row12_col18, #T_223f9_row13_col0, #T_223f9_row13_col2, #T_223f9_row13_col3, #T_223f9_row13_col5, #T_223f9_row13_col9, #T_223f9_row13_col10, #T_223f9_row13_col12, #T_223f9_row14_col2, #T_223f9_row14_col6, #T_223f9_row14_col12, #T_223f9_row14_col16, #T_223f9_row14_col17, #T_223f9_row14_col18, #T_223f9_row15_col0, #T_223f9_row15_col1, #T_223f9_row15_col4, #T_223f9_row15_col5, #T_223f9_row16_col0, #T_223f9_row16_col2, #T_223f9_row16_col14, #T_223f9_row16_col18, #T_223f9_row17_col0, #T_223f9_row17_col2, #T_223f9_row17_col6, #T_223f9_row17_col12, #T_223f9_row17_col13, #T_223f9_row18_col9 {\n",
       "  background-color: #fdf5fa;\n",
       "  color: #000000;\n",
       "}\n",
       "#T_223f9_row0_col2, #T_223f9_row0_col14, #T_223f9_row1_col6, #T_223f9_row2_col0, #T_223f9_row2_col4, #T_223f9_row3_col1, #T_223f9_row3_col14, #T_223f9_row3_col16, #T_223f9_row5_col10, #T_223f9_row6_col1, #T_223f9_row6_col12, #T_223f9_row9_col2, #T_223f9_row9_col5, #T_223f9_row9_col12, #T_223f9_row9_col15, #T_223f9_row10_col3, #T_223f9_row10_col17, #T_223f9_row11_col2, #T_223f9_row11_col5, #T_223f9_row11_col14, #T_223f9_row12_col7, #T_223f9_row12_col14, #T_223f9_row13_col16, #T_223f9_row14_col0, #T_223f9_row14_col3, #T_223f9_row14_col4, #T_223f9_row15_col10, #T_223f9_row16_col3, #T_223f9_row16_col10, #T_223f9_row17_col4, #T_223f9_row17_col11, #T_223f9_row18_col2, #T_223f9_row18_col5, #T_223f9_row18_col6, #T_223f9_row18_col7, #T_223f9_row18_col14, #T_223f9_row18_col17 {\n",
       "  background-color: #fef6fa;\n",
       "  color: #000000;\n",
       "}\n",
       "#T_223f9_row0_col3, #T_223f9_row1_col3, #T_223f9_row1_col4, #T_223f9_row1_col11, #T_223f9_row2_col5, #T_223f9_row2_col12, #T_223f9_row3_col0, #T_223f9_row4_col1, #T_223f9_row4_col2, #T_223f9_row4_col3, #T_223f9_row4_col14, #T_223f9_row5_col2, #T_223f9_row6_col7, #T_223f9_row7_col6, #T_223f9_row7_col12, #T_223f9_row7_col13, #T_223f9_row8_col13, #T_223f9_row10_col5, #T_223f9_row10_col16, #T_223f9_row11_col1, #T_223f9_row11_col9, #T_223f9_row12_col2, #T_223f9_row13_col7, #T_223f9_row13_col8, #T_223f9_row15_col9, #T_223f9_row15_col16, #T_223f9_row15_col17, #T_223f9_row17_col3, #T_223f9_row17_col10, #T_223f9_row17_col14, #T_223f9_row17_col15, #T_223f9_row17_col18 {\n",
       "  background-color: #fff7fb;\n",
       "  color: #000000;\n",
       "}\n",
       "#T_223f9_row0_col4, #T_223f9_row0_col12, #T_223f9_row1_col5, #T_223f9_row1_col14, #T_223f9_row2_col8, #T_223f9_row2_col10, #T_223f9_row2_col13, #T_223f9_row2_col17, #T_223f9_row3_col7, #T_223f9_row3_col11, #T_223f9_row5_col6, #T_223f9_row5_col12, #T_223f9_row6_col15, #T_223f9_row7_col9, #T_223f9_row7_col17, #T_223f9_row8_col15, #T_223f9_row8_col18, #T_223f9_row9_col6, #T_223f9_row9_col8, #T_223f9_row12_col0, #T_223f9_row13_col18, #T_223f9_row14_col10, #T_223f9_row15_col7, #T_223f9_row15_col18, #T_223f9_row16_col4, #T_223f9_row16_col6, #T_223f9_row16_col8, #T_223f9_row16_col11, #T_223f9_row17_col1, #T_223f9_row18_col3 {\n",
       "  background-color: #fbf3f9;\n",
       "  color: #000000;\n",
       "}\n",
       "#T_223f9_row0_col5 {\n",
       "  background-color: #9cb9d9;\n",
       "  color: #000000;\n",
       "}\n",
       "#T_223f9_row0_col8, #T_223f9_row0_col17, #T_223f9_row0_col18, #T_223f9_row1_col16, #T_223f9_row2_col1, #T_223f9_row2_col7, #T_223f9_row4_col5, #T_223f9_row4_col15, #T_223f9_row5_col13, #T_223f9_row6_col2, #T_223f9_row6_col3, #T_223f9_row6_col8, #T_223f9_row6_col9, #T_223f9_row7_col5, #T_223f9_row8_col6, #T_223f9_row8_col9, #T_223f9_row8_col17, #T_223f9_row9_col10, #T_223f9_row9_col14, #T_223f9_row10_col7, #T_223f9_row10_col9, #T_223f9_row10_col11, #T_223f9_row11_col15, #T_223f9_row12_col4, #T_223f9_row12_col5, #T_223f9_row12_col13, #T_223f9_row13_col1, #T_223f9_row14_col8, #T_223f9_row15_col2, #T_223f9_row15_col3, #T_223f9_row15_col6, #T_223f9_row15_col8, #T_223f9_row16_col7, #T_223f9_row16_col9, #T_223f9_row17_col16 {\n",
       "  background-color: #fbf4f9;\n",
       "  color: #000000;\n",
       "}\n",
       "#T_223f9_row0_col10, #T_223f9_row0_col13, #T_223f9_row1_col13, #T_223f9_row1_col15, #T_223f9_row2_col3, #T_223f9_row3_col2, #T_223f9_row3_col13, #T_223f9_row4_col0, #T_223f9_row4_col6, #T_223f9_row4_col10, #T_223f9_row4_col13, #T_223f9_row4_col16, #T_223f9_row5_col8, #T_223f9_row5_col11, #T_223f9_row5_col17, #T_223f9_row6_col4, #T_223f9_row6_col17, #T_223f9_row7_col10, #T_223f9_row7_col14, #T_223f9_row8_col2, #T_223f9_row8_col12, #T_223f9_row9_col13, #T_223f9_row10_col1, #T_223f9_row10_col2, #T_223f9_row10_col4, #T_223f9_row10_col14, #T_223f9_row10_col18, #T_223f9_row11_col3, #T_223f9_row11_col10, #T_223f9_row11_col13, #T_223f9_row12_col6, #T_223f9_row12_col15, #T_223f9_row13_col4, #T_223f9_row13_col6, #T_223f9_row13_col11, #T_223f9_row13_col14, #T_223f9_row13_col17, #T_223f9_row14_col5, #T_223f9_row14_col11, #T_223f9_row14_col15, #T_223f9_row15_col11, #T_223f9_row16_col13, #T_223f9_row16_col15, #T_223f9_row17_col7, #T_223f9_row17_col8, #T_223f9_row17_col9, #T_223f9_row18_col0, #T_223f9_row18_col4, #T_223f9_row18_col10, #T_223f9_row18_col11 {\n",
       "  background-color: #fcf4fa;\n",
       "  color: #000000;\n",
       "}\n",
       "#T_223f9_row0_col11, #T_223f9_row2_col15, #T_223f9_row4_col11, #T_223f9_row5_col1, #T_223f9_row12_col1, #T_223f9_row12_col10, #T_223f9_row14_col1, #T_223f9_row16_col1, #T_223f9_row16_col17, #T_223f9_row18_col1 {\n",
       "  background-color: #f9f2f8;\n",
       "  color: #000000;\n",
       "}\n",
       "#T_223f9_row0_col15, #T_223f9_row1_col12, #T_223f9_row1_col17, #T_223f9_row3_col18, #T_223f9_row5_col4, #T_223f9_row5_col15, #T_223f9_row6_col11, #T_223f9_row7_col4, #T_223f9_row7_col15, #T_223f9_row9_col7, #T_223f9_row9_col17, #T_223f9_row10_col12, #T_223f9_row11_col0, #T_223f9_row11_col6, #T_223f9_row12_col8, #T_223f9_row12_col17, #T_223f9_row14_col7, #T_223f9_row14_col9, #T_223f9_row14_col13, #T_223f9_row15_col13, #T_223f9_row18_col8, #T_223f9_row18_col13 {\n",
       "  background-color: #faf3f9;\n",
       "  color: #000000;\n",
       "}\n",
       "#T_223f9_row1_col0, #T_223f9_row3_col4, #T_223f9_row5_col16, #T_223f9_row6_col0, #T_223f9_row6_col14, #T_223f9_row6_col18, #T_223f9_row7_col0, #T_223f9_row7_col18, #T_223f9_row8_col3, #T_223f9_row9_col11, #T_223f9_row11_col12, #T_223f9_row12_col16, #T_223f9_row15_col12, #T_223f9_row15_col14, #T_223f9_row16_col5, #T_223f9_row16_col12, #T_223f9_row17_col5, #T_223f9_row18_col12, #T_223f9_row18_col16 {\n",
       "  background-color: #fef6fb;\n",
       "  color: #000000;\n",
       "}\n",
       "#T_223f9_row1_col8, #T_223f9_row8_col1 {\n",
       "  background-color: #f8f1f8;\n",
       "  color: #000000;\n",
       "}\n",
       "#T_223f9_row1_col18, #T_223f9_row2_col6, #T_223f9_row3_col6, #T_223f9_row3_col15, #T_223f9_row4_col7, #T_223f9_row5_col7, #T_223f9_row11_col4, #T_223f9_row13_col15, #T_223f9_row18_col15 {\n",
       "  background-color: #faf2f8;\n",
       "  color: #000000;\n",
       "}\n",
       "#T_223f9_row5_col0 {\n",
       "  background-color: #9ab8d8;\n",
       "  color: #000000;\n",
       "}\n",
       "</style>\n",
       "<table id=\"T_223f9\">\n",
       "  <thead>\n",
       "    <tr>\n",
       "      <th class=\"blank level0\" >&nbsp;</th>\n",
       "      <th id=\"T_223f9_level0_col0\" class=\"col_heading level0 col0\" >Age</th>\n",
       "      <th id=\"T_223f9_level0_col1\" class=\"col_heading level0 col1\" >Cholesterol</th>\n",
       "      <th id=\"T_223f9_level0_col2\" class=\"col_heading level0 col2\" >Heart Rate</th>\n",
       "      <th id=\"T_223f9_level0_col3\" class=\"col_heading level0 col3\" >Diabetes</th>\n",
       "      <th id=\"T_223f9_level0_col4\" class=\"col_heading level0 col4\" >Family History</th>\n",
       "      <th id=\"T_223f9_level0_col5\" class=\"col_heading level0 col5\" >Smoking</th>\n",
       "      <th id=\"T_223f9_level0_col6\" class=\"col_heading level0 col6\" >Obesity</th>\n",
       "      <th id=\"T_223f9_level0_col7\" class=\"col_heading level0 col7\" >Alcohol Consumption</th>\n",
       "      <th id=\"T_223f9_level0_col8\" class=\"col_heading level0 col8\" >Exercise Hours Per Week</th>\n",
       "      <th id=\"T_223f9_level0_col9\" class=\"col_heading level0 col9\" >Previous Heart Problems</th>\n",
       "      <th id=\"T_223f9_level0_col10\" class=\"col_heading level0 col10\" >Medication Use</th>\n",
       "      <th id=\"T_223f9_level0_col11\" class=\"col_heading level0 col11\" >Stress Level</th>\n",
       "      <th id=\"T_223f9_level0_col12\" class=\"col_heading level0 col12\" >Sedentary Hours Per Day</th>\n",
       "      <th id=\"T_223f9_level0_col13\" class=\"col_heading level0 col13\" >Income</th>\n",
       "      <th id=\"T_223f9_level0_col14\" class=\"col_heading level0 col14\" >BMI</th>\n",
       "      <th id=\"T_223f9_level0_col15\" class=\"col_heading level0 col15\" >Triglycerides</th>\n",
       "      <th id=\"T_223f9_level0_col16\" class=\"col_heading level0 col16\" >Physical Activity Days Per Week</th>\n",
       "      <th id=\"T_223f9_level0_col17\" class=\"col_heading level0 col17\" >Sleep Hours Per Day</th>\n",
       "      <th id=\"T_223f9_level0_col18\" class=\"col_heading level0 col18\" >Heart Attack Risk</th>\n",
       "    </tr>\n",
       "  </thead>\n",
       "  <tbody>\n",
       "    <tr>\n",
       "      <th id=\"T_223f9_level0_row0\" class=\"row_heading level0 row0\" >Age</th>\n",
       "      <td id=\"T_223f9_row0_col0\" class=\"data row0 col0\" >1.000000</td>\n",
       "      <td id=\"T_223f9_row0_col1\" class=\"data row0 col1\" >-0.009107</td>\n",
       "      <td id=\"T_223f9_row0_col2\" class=\"data row0 col2\" >-0.003844</td>\n",
       "      <td id=\"T_223f9_row0_col3\" class=\"data row0 col3\" >-0.014105</td>\n",
       "      <td id=\"T_223f9_row0_col4\" class=\"data row0 col4\" >0.008353</td>\n",
       "      <td id=\"T_223f9_row0_col5\" class=\"data row0 col5\" >0.394891</td>\n",
       "      <td id=\"T_223f9_row0_col6\" class=\"data row0 col6\" >-0.008140</td>\n",
       "      <td id=\"T_223f9_row0_col7\" class=\"data row0 col7\" >-0.006666</td>\n",
       "      <td id=\"T_223f9_row0_col8\" class=\"data row0 col8\" >0.001206</td>\n",
       "      <td id=\"T_223f9_row0_col9\" class=\"data row0 col9\" >0.000868</td>\n",
       "      <td id=\"T_223f9_row0_col10\" class=\"data row0 col10\" >0.000980</td>\n",
       "      <td id=\"T_223f9_row0_col11\" class=\"data row0 col11\" >0.018307</td>\n",
       "      <td id=\"T_223f9_row0_col12\" class=\"data row0 col12\" >0.017280</td>\n",
       "      <td id=\"T_223f9_row0_col13\" class=\"data row0 col13\" >-0.001733</td>\n",
       "      <td id=\"T_223f9_row0_col14\" class=\"data row0 col14\" >-0.002612</td>\n",
       "      <td id=\"T_223f9_row0_col15\" class=\"data row0 col15\" >0.003415</td>\n",
       "      <td id=\"T_223f9_row0_col16\" class=\"data row0 col16\" >0.001384</td>\n",
       "      <td id=\"T_223f9_row0_col17\" class=\"data row0 col17\" >-0.002185</td>\n",
       "      <td id=\"T_223f9_row0_col18\" class=\"data row0 col18\" >0.006403</td>\n",
       "    </tr>\n",
       "    <tr>\n",
       "      <th id=\"T_223f9_level0_row1\" class=\"row_heading level0 row1\" >Cholesterol</th>\n",
       "      <td id=\"T_223f9_row1_col0\" class=\"data row1 col0\" >-0.009107</td>\n",
       "      <td id=\"T_223f9_row1_col1\" class=\"data row1 col1\" >1.000000</td>\n",
       "      <td id=\"T_223f9_row1_col2\" class=\"data row1 col2\" >0.000315</td>\n",
       "      <td id=\"T_223f9_row1_col3\" class=\"data row1 col3\" >-0.013428</td>\n",
       "      <td id=\"T_223f9_row1_col4\" class=\"data row1 col4\" >-0.021608</td>\n",
       "      <td id=\"T_223f9_row1_col5\" class=\"data row1 col5\" >0.016342</td>\n",
       "      <td id=\"T_223f9_row1_col6\" class=\"data row1 col6\" >-0.014843</td>\n",
       "      <td id=\"T_223f9_row1_col7\" class=\"data row1 col7\" >-0.007261</td>\n",
       "      <td id=\"T_223f9_row1_col8\" class=\"data row1 col8\" >0.021517</td>\n",
       "      <td id=\"T_223f9_row1_col9\" class=\"data row1 col9\" >-0.006070</td>\n",
       "      <td id=\"T_223f9_row1_col10\" class=\"data row1 col10\" >-0.000905</td>\n",
       "      <td id=\"T_223f9_row1_col11\" class=\"data row1 col11\" >-0.024487</td>\n",
       "      <td id=\"T_223f9_row1_col12\" class=\"data row1 col12\" >0.018914</td>\n",
       "      <td id=\"T_223f9_row1_col13\" class=\"data row1 col13\" >0.000007</td>\n",
       "      <td id=\"T_223f9_row1_col14\" class=\"data row1 col14\" >0.017292</td>\n",
       "      <td id=\"T_223f9_row1_col15\" class=\"data row1 col15\" >-0.005454</td>\n",
       "      <td id=\"T_223f9_row1_col16\" class=\"data row1 col16\" >0.016056</td>\n",
       "      <td id=\"T_223f9_row1_col17\" class=\"data row1 col17\" >0.004456</td>\n",
       "      <td id=\"T_223f9_row1_col18\" class=\"data row1 col18\" >0.019340</td>\n",
       "    </tr>\n",
       "    <tr>\n",
       "      <th id=\"T_223f9_level0_row2\" class=\"row_heading level0 row2\" >Heart Rate</th>\n",
       "      <td id=\"T_223f9_row2_col0\" class=\"data row2 col0\" >-0.003844</td>\n",
       "      <td id=\"T_223f9_row2_col1\" class=\"data row2 col1\" >0.000315</td>\n",
       "      <td id=\"T_223f9_row2_col2\" class=\"data row2 col2\" >1.000000</td>\n",
       "      <td id=\"T_223f9_row2_col3\" class=\"data row2 col3\" >0.006764</td>\n",
       "      <td id=\"T_223f9_row2_col4\" class=\"data row2 col4\" >-0.013470</td>\n",
       "      <td id=\"T_223f9_row2_col5\" class=\"data row2 col5\" >-0.012331</td>\n",
       "      <td id=\"T_223f9_row2_col6\" class=\"data row2 col6\" >0.012725</td>\n",
       "      <td id=\"T_223f9_row2_col7\" class=\"data row2 col7\" >0.003459</td>\n",
       "      <td id=\"T_223f9_row2_col8\" class=\"data row2 col8\" >0.008276</td>\n",
       "      <td id=\"T_223f9_row2_col9\" class=\"data row2 col9\" >-0.004956</td>\n",
       "      <td id=\"T_223f9_row2_col10\" class=\"data row2 col10\" >0.009244</td>\n",
       "      <td id=\"T_223f9_row2_col11\" class=\"data row2 col11\" >-0.004547</td>\n",
       "      <td id=\"T_223f9_row2_col12\" class=\"data row2 col12\" >-0.010232</td>\n",
       "      <td id=\"T_223f9_row2_col13\" class=\"data row2 col13\" >0.004873</td>\n",
       "      <td id=\"T_223f9_row2_col14\" class=\"data row2 col14\" >0.005299</td>\n",
       "      <td id=\"T_223f9_row2_col15\" class=\"data row2 col15\" >0.012244</td>\n",
       "      <td id=\"T_223f9_row2_col16\" class=\"data row2 col16\" >0.000834</td>\n",
       "      <td id=\"T_223f9_row2_col17\" class=\"data row2 col17\" >0.001811</td>\n",
       "      <td id=\"T_223f9_row2_col18\" class=\"data row2 col18\" >-0.004251</td>\n",
       "    </tr>\n",
       "    <tr>\n",
       "      <th id=\"T_223f9_level0_row3\" class=\"row_heading level0 row3\" >Diabetes</th>\n",
       "      <td id=\"T_223f9_row3_col0\" class=\"data row3 col0\" >-0.014105</td>\n",
       "      <td id=\"T_223f9_row3_col1\" class=\"data row3 col1\" >-0.013428</td>\n",
       "      <td id=\"T_223f9_row3_col2\" class=\"data row3 col2\" >0.006764</td>\n",
       "      <td id=\"T_223f9_row3_col3\" class=\"data row3 col3\" >1.000000</td>\n",
       "      <td id=\"T_223f9_row3_col4\" class=\"data row3 col4\" >-0.013844</td>\n",
       "      <td id=\"T_223f9_row3_col5\" class=\"data row3 col5\" >0.000527</td>\n",
       "      <td id=\"T_223f9_row3_col6\" class=\"data row3 col6\" >0.012866</td>\n",
       "      <td id=\"T_223f9_row3_col7\" class=\"data row3 col7\" >0.005551</td>\n",
       "      <td id=\"T_223f9_row3_col8\" class=\"data row3 col8\" >-0.007014</td>\n",
       "      <td id=\"T_223f9_row3_col9\" class=\"data row3 col9\" >0.000867</td>\n",
       "      <td id=\"T_223f9_row3_col10\" class=\"data row3 col10\" >-0.002656</td>\n",
       "      <td id=\"T_223f9_row3_col11\" class=\"data row3 col11\" >0.006719</td>\n",
       "      <td id=\"T_223f9_row3_col12\" class=\"data row3 col12\" >0.004705</td>\n",
       "      <td id=\"T_223f9_row3_col13\" class=\"data row3 col13\" >-0.000759</td>\n",
       "      <td id=\"T_223f9_row3_col14\" class=\"data row3 col14\" >-0.002852</td>\n",
       "      <td id=\"T_223f9_row3_col15\" class=\"data row3 col15\" >0.010431</td>\n",
       "      <td id=\"T_223f9_row3_col16\" class=\"data row3 col16\" >-0.002411</td>\n",
       "      <td id=\"T_223f9_row3_col17\" class=\"data row3 col17\" >-0.012457</td>\n",
       "      <td id=\"T_223f9_row3_col18\" class=\"data row3 col18\" >0.017225</td>\n",
       "    </tr>\n",
       "    <tr>\n",
       "      <th id=\"T_223f9_level0_row4\" class=\"row_heading level0 row4\" >Family History</th>\n",
       "      <td id=\"T_223f9_row4_col0\" class=\"data row4 col0\" >0.008353</td>\n",
       "      <td id=\"T_223f9_row4_col1\" class=\"data row4 col1\" >-0.021608</td>\n",
       "      <td id=\"T_223f9_row4_col2\" class=\"data row4 col2\" >-0.013470</td>\n",
       "      <td id=\"T_223f9_row4_col3\" class=\"data row4 col3\" >-0.013844</td>\n",
       "      <td id=\"T_223f9_row4_col4\" class=\"data row4 col4\" >1.000000</td>\n",
       "      <td id=\"T_223f9_row4_col5\" class=\"data row4 col5\" >0.011748</td>\n",
       "      <td id=\"T_223f9_row4_col6\" class=\"data row4 col6\" >-0.001444</td>\n",
       "      <td id=\"T_223f9_row4_col7\" class=\"data row4 col7\" >0.012701</td>\n",
       "      <td id=\"T_223f9_row4_col8\" class=\"data row4 col8\" >-0.006378</td>\n",
       "      <td id=\"T_223f9_row4_col9\" class=\"data row4 col9\" >-0.004568</td>\n",
       "      <td id=\"T_223f9_row4_col10\" class=\"data row4 col10\" >0.000981</td>\n",
       "      <td id=\"T_223f9_row4_col11\" class=\"data row4 col11\" >0.015637</td>\n",
       "      <td id=\"T_223f9_row4_col12\" class=\"data row4 col12\" >0.002561</td>\n",
       "      <td id=\"T_223f9_row4_col13\" class=\"data row4 col13\" >-0.000401</td>\n",
       "      <td id=\"T_223f9_row4_col14\" class=\"data row4 col14\" >-0.011492</td>\n",
       "      <td id=\"T_223f9_row4_col15\" class=\"data row4 col15\" >-0.001904</td>\n",
       "      <td id=\"T_223f9_row4_col16\" class=\"data row4 col16\" >0.009561</td>\n",
       "      <td id=\"T_223f9_row4_col17\" class=\"data row4 col17\" >-0.011199</td>\n",
       "      <td id=\"T_223f9_row4_col18\" class=\"data row4 col18\" >-0.001652</td>\n",
       "    </tr>\n",
       "    <tr>\n",
       "      <th id=\"T_223f9_level0_row5\" class=\"row_heading level0 row5\" >Smoking</th>\n",
       "      <td id=\"T_223f9_row5_col0\" class=\"data row5 col0\" >0.394891</td>\n",
       "      <td id=\"T_223f9_row5_col1\" class=\"data row5 col1\" >0.016342</td>\n",
       "      <td id=\"T_223f9_row5_col2\" class=\"data row5 col2\" >-0.012331</td>\n",
       "      <td id=\"T_223f9_row5_col3\" class=\"data row5 col3\" >0.000527</td>\n",
       "      <td id=\"T_223f9_row5_col4\" class=\"data row5 col4\" >0.011748</td>\n",
       "      <td id=\"T_223f9_row5_col5\" class=\"data row5 col5\" >1.000000</td>\n",
       "      <td id=\"T_223f9_row5_col6\" class=\"data row5 col6\" >0.003969</td>\n",
       "      <td id=\"T_223f9_row5_col7\" class=\"data row5 col7\" >0.012754</td>\n",
       "      <td id=\"T_223f9_row5_col8\" class=\"data row5 col8\" >-0.000150</td>\n",
       "      <td id=\"T_223f9_row5_col9\" class=\"data row5 col9\" >-0.000574</td>\n",
       "      <td id=\"T_223f9_row5_col10\" class=\"data row5 col10\" >-0.010877</td>\n",
       "      <td id=\"T_223f9_row5_col11\" class=\"data row5 col11\" >-0.001757</td>\n",
       "      <td id=\"T_223f9_row5_col12\" class=\"data row5 col12\" >0.015311</td>\n",
       "      <td id=\"T_223f9_row5_col13\" class=\"data row5 col13\" >0.003096</td>\n",
       "      <td id=\"T_223f9_row5_col14\" class=\"data row5 col14\" >0.007670</td>\n",
       "      <td id=\"T_223f9_row5_col15\" class=\"data row5 col15\" >0.004650</td>\n",
       "      <td id=\"T_223f9_row5_col16\" class=\"data row5 col16\" >-0.006465</td>\n",
       "      <td id=\"T_223f9_row5_col17\" class=\"data row5 col17\" >-0.005424</td>\n",
       "      <td id=\"T_223f9_row5_col18\" class=\"data row5 col18\" >-0.004051</td>\n",
       "    </tr>\n",
       "    <tr>\n",
       "      <th id=\"T_223f9_level0_row6\" class=\"row_heading level0 row6\" >Obesity</th>\n",
       "      <td id=\"T_223f9_row6_col0\" class=\"data row6 col0\" >-0.008140</td>\n",
       "      <td id=\"T_223f9_row6_col1\" class=\"data row6 col1\" >-0.014843</td>\n",
       "      <td id=\"T_223f9_row6_col2\" class=\"data row6 col2\" >0.012725</td>\n",
       "      <td id=\"T_223f9_row6_col3\" class=\"data row6 col3\" >0.012866</td>\n",
       "      <td id=\"T_223f9_row6_col4\" class=\"data row6 col4\" >-0.001444</td>\n",
       "      <td id=\"T_223f9_row6_col5\" class=\"data row6 col5\" >0.003969</td>\n",
       "      <td id=\"T_223f9_row6_col6\" class=\"data row6 col6\" >1.000000</td>\n",
       "      <td id=\"T_223f9_row6_col7\" class=\"data row6 col7\" >-0.024195</td>\n",
       "      <td id=\"T_223f9_row6_col8\" class=\"data row6 col8\" >0.002099</td>\n",
       "      <td id=\"T_223f9_row6_col9\" class=\"data row6 col9\" >0.005159</td>\n",
       "      <td id=\"T_223f9_row6_col10\" class=\"data row6 col10\" >-0.006267</td>\n",
       "      <td id=\"T_223f9_row6_col11\" class=\"data row6 col11\" >0.010626</td>\n",
       "      <td id=\"T_223f9_row6_col12\" class=\"data row6 col12\" >-0.001333</td>\n",
       "      <td id=\"T_223f9_row6_col13\" class=\"data row6 col13\" >-0.003870</td>\n",
       "      <td id=\"T_223f9_row6_col14\" class=\"data row6 col14\" >-0.006058</td>\n",
       "      <td id=\"T_223f9_row6_col15\" class=\"data row6 col15\" >0.001467</td>\n",
       "      <td id=\"T_223f9_row6_col16\" class=\"data row6 col16\" >0.005337</td>\n",
       "      <td id=\"T_223f9_row6_col17\" class=\"data row6 col17\" >-0.005314</td>\n",
       "      <td id=\"T_223f9_row6_col18\" class=\"data row6 col18\" >-0.013318</td>\n",
       "    </tr>\n",
       "    <tr>\n",
       "      <th id=\"T_223f9_level0_row7\" class=\"row_heading level0 row7\" >Alcohol Consumption</th>\n",
       "      <td id=\"T_223f9_row7_col0\" class=\"data row7 col0\" >-0.006666</td>\n",
       "      <td id=\"T_223f9_row7_col1\" class=\"data row7 col1\" >-0.007261</td>\n",
       "      <td id=\"T_223f9_row7_col2\" class=\"data row7 col2\" >0.003459</td>\n",
       "      <td id=\"T_223f9_row7_col3\" class=\"data row7 col3\" >0.005551</td>\n",
       "      <td id=\"T_223f9_row7_col4\" class=\"data row7 col4\" >0.012701</td>\n",
       "      <td id=\"T_223f9_row7_col5\" class=\"data row7 col5\" >0.012754</td>\n",
       "      <td id=\"T_223f9_row7_col6\" class=\"data row7 col6\" >-0.024195</td>\n",
       "      <td id=\"T_223f9_row7_col7\" class=\"data row7 col7\" >1.000000</td>\n",
       "      <td id=\"T_223f9_row7_col8\" class=\"data row7 col8\" >-0.008514</td>\n",
       "      <td id=\"T_223f9_row7_col9\" class=\"data row7 col9\" >0.010395</td>\n",
       "      <td id=\"T_223f9_row7_col10\" class=\"data row7 col10\" >0.003339</td>\n",
       "      <td id=\"T_223f9_row7_col11\" class=\"data row7 col11\" >-0.005023</td>\n",
       "      <td id=\"T_223f9_row7_col12\" class=\"data row7 col12\" >-0.012828</td>\n",
       "      <td id=\"T_223f9_row7_col13\" class=\"data row7 col13\" >-0.022396</td>\n",
       "      <td id=\"T_223f9_row7_col14\" class=\"data row7 col14\" >0.010562</td>\n",
       "      <td id=\"T_223f9_row7_col15\" class=\"data row7 col15\" >0.006169</td>\n",
       "      <td id=\"T_223f9_row7_col16\" class=\"data row7 col16\" >0.001593</td>\n",
       "      <td id=\"T_223f9_row7_col17\" class=\"data row7 col17\" >-0.000843</td>\n",
       "      <td id=\"T_223f9_row7_col18\" class=\"data row7 col18\" >-0.013778</td>\n",
       "    </tr>\n",
       "    <tr>\n",
       "      <th id=\"T_223f9_level0_row8\" class=\"row_heading level0 row8\" >Exercise Hours Per Week</th>\n",
       "      <td id=\"T_223f9_row8_col0\" class=\"data row8 col0\" >0.001206</td>\n",
       "      <td id=\"T_223f9_row8_col1\" class=\"data row8 col1\" >0.021517</td>\n",
       "      <td id=\"T_223f9_row8_col2\" class=\"data row8 col2\" >0.008276</td>\n",
       "      <td id=\"T_223f9_row8_col3\" class=\"data row8 col3\" >-0.007014</td>\n",
       "      <td id=\"T_223f9_row8_col4\" class=\"data row8 col4\" >-0.006378</td>\n",
       "      <td id=\"T_223f9_row8_col5\" class=\"data row8 col5\" >-0.000150</td>\n",
       "      <td id=\"T_223f9_row8_col6\" class=\"data row8 col6\" >0.002099</td>\n",
       "      <td id=\"T_223f9_row8_col7\" class=\"data row8 col7\" >-0.008514</td>\n",
       "      <td id=\"T_223f9_row8_col8\" class=\"data row8 col8\" >1.000000</td>\n",
       "      <td id=\"T_223f9_row8_col9\" class=\"data row8 col9\" >0.005253</td>\n",
       "      <td id=\"T_223f9_row8_col10\" class=\"data row8 col10\" >-0.007119</td>\n",
       "      <td id=\"T_223f9_row8_col11\" class=\"data row8 col11\" >-0.009102</td>\n",
       "      <td id=\"T_223f9_row8_col12\" class=\"data row8 col12\" >0.008756</td>\n",
       "      <td id=\"T_223f9_row8_col13\" class=\"data row8 col13\" >-0.023414</td>\n",
       "      <td id=\"T_223f9_row8_col14\" class=\"data row8 col14\" >0.003777</td>\n",
       "      <td id=\"T_223f9_row8_col15\" class=\"data row8 col15\" >0.001717</td>\n",
       "      <td id=\"T_223f9_row8_col16\" class=\"data row8 col16\" >0.007725</td>\n",
       "      <td id=\"T_223f9_row8_col17\" class=\"data row8 col17\" >-0.001245</td>\n",
       "      <td id=\"T_223f9_row8_col18\" class=\"data row8 col18\" >0.011133</td>\n",
       "    </tr>\n",
       "    <tr>\n",
       "      <th id=\"T_223f9_level0_row9\" class=\"row_heading level0 row9\" >Previous Heart Problems</th>\n",
       "      <td id=\"T_223f9_row9_col0\" class=\"data row9 col0\" >0.000868</td>\n",
       "      <td id=\"T_223f9_row9_col1\" class=\"data row9 col1\" >-0.006070</td>\n",
       "      <td id=\"T_223f9_row9_col2\" class=\"data row9 col2\" >-0.004956</td>\n",
       "      <td id=\"T_223f9_row9_col3\" class=\"data row9 col3\" >0.000867</td>\n",
       "      <td id=\"T_223f9_row9_col4\" class=\"data row9 col4\" >-0.004568</td>\n",
       "      <td id=\"T_223f9_row9_col5\" class=\"data row9 col5\" >-0.000574</td>\n",
       "      <td id=\"T_223f9_row9_col6\" class=\"data row9 col6\" >0.005159</td>\n",
       "      <td id=\"T_223f9_row9_col7\" class=\"data row9 col7\" >0.010395</td>\n",
       "      <td id=\"T_223f9_row9_col8\" class=\"data row9 col8\" >0.005253</td>\n",
       "      <td id=\"T_223f9_row9_col9\" class=\"data row9 col9\" >1.000000</td>\n",
       "      <td id=\"T_223f9_row9_col10\" class=\"data row9 col10\" >0.005336</td>\n",
       "      <td id=\"T_223f9_row9_col11\" class=\"data row9 col11\" >-0.017629</td>\n",
       "      <td id=\"T_223f9_row9_col12\" class=\"data row9 col12\" >-0.002694</td>\n",
       "      <td id=\"T_223f9_row9_col13\" class=\"data row9 col13\" >-0.003281</td>\n",
       "      <td id=\"T_223f9_row9_col14\" class=\"data row9 col14\" >0.015718</td>\n",
       "      <td id=\"T_223f9_row9_col15\" class=\"data row9 col15\" >-0.019029</td>\n",
       "      <td id=\"T_223f9_row9_col16\" class=\"data row9 col16\" >0.008537</td>\n",
       "      <td id=\"T_223f9_row9_col17\" class=\"data row9 col17\" >0.004460</td>\n",
       "      <td id=\"T_223f9_row9_col18\" class=\"data row9 col18\" >0.000274</td>\n",
       "    </tr>\n",
       "    <tr>\n",
       "      <th id=\"T_223f9_level0_row10\" class=\"row_heading level0 row10\" >Medication Use</th>\n",
       "      <td id=\"T_223f9_row10_col0\" class=\"data row10 col0\" >0.000980</td>\n",
       "      <td id=\"T_223f9_row10_col1\" class=\"data row10 col1\" >-0.000905</td>\n",
       "      <td id=\"T_223f9_row10_col2\" class=\"data row10 col2\" >0.009244</td>\n",
       "      <td id=\"T_223f9_row10_col3\" class=\"data row10 col3\" >-0.002656</td>\n",
       "      <td id=\"T_223f9_row10_col4\" class=\"data row10 col4\" >0.000981</td>\n",
       "      <td id=\"T_223f9_row10_col5\" class=\"data row10 col5\" >-0.010877</td>\n",
       "      <td id=\"T_223f9_row10_col6\" class=\"data row10 col6\" >-0.006267</td>\n",
       "      <td id=\"T_223f9_row10_col7\" class=\"data row10 col7\" >0.003339</td>\n",
       "      <td id=\"T_223f9_row10_col8\" class=\"data row10 col8\" >-0.007119</td>\n",
       "      <td id=\"T_223f9_row10_col9\" class=\"data row10 col9\" >0.005336</td>\n",
       "      <td id=\"T_223f9_row10_col10\" class=\"data row10 col10\" >1.000000</td>\n",
       "      <td id=\"T_223f9_row10_col11\" class=\"data row10 col11\" >0.000863</td>\n",
       "      <td id=\"T_223f9_row10_col12\" class=\"data row10 col12\" >0.022513</td>\n",
       "      <td id=\"T_223f9_row10_col13\" class=\"data row10 col13\" >-0.003464</td>\n",
       "      <td id=\"T_223f9_row10_col14\" class=\"data row10 col14\" >0.009514</td>\n",
       "      <td id=\"T_223f9_row10_col15\" class=\"data row10 col15\" >-0.011095</td>\n",
       "      <td id=\"T_223f9_row10_col16\" class=\"data row10 col16\" >-0.011139</td>\n",
       "      <td id=\"T_223f9_row10_col17\" class=\"data row10 col17\" >-0.020393</td>\n",
       "      <td id=\"T_223f9_row10_col18\" class=\"data row10 col18\" >0.002234</td>\n",
       "    </tr>\n",
       "    <tr>\n",
       "      <th id=\"T_223f9_level0_row11\" class=\"row_heading level0 row11\" >Stress Level</th>\n",
       "      <td id=\"T_223f9_row11_col0\" class=\"data row11 col0\" >0.018307</td>\n",
       "      <td id=\"T_223f9_row11_col1\" class=\"data row11 col1\" >-0.024487</td>\n",
       "      <td id=\"T_223f9_row11_col2\" class=\"data row11 col2\" >-0.004547</td>\n",
       "      <td id=\"T_223f9_row11_col3\" class=\"data row11 col3\" >0.006719</td>\n",
       "      <td id=\"T_223f9_row11_col4\" class=\"data row11 col4\" >0.015637</td>\n",
       "      <td id=\"T_223f9_row11_col5\" class=\"data row11 col5\" >-0.001757</td>\n",
       "      <td id=\"T_223f9_row11_col6\" class=\"data row11 col6\" >0.010626</td>\n",
       "      <td id=\"T_223f9_row11_col7\" class=\"data row11 col7\" >-0.005023</td>\n",
       "      <td id=\"T_223f9_row11_col8\" class=\"data row11 col8\" >-0.009102</td>\n",
       "      <td id=\"T_223f9_row11_col9\" class=\"data row11 col9\" >-0.017629</td>\n",
       "      <td id=\"T_223f9_row11_col10\" class=\"data row11 col10\" >0.000863</td>\n",
       "      <td id=\"T_223f9_row11_col11\" class=\"data row11 col11\" >1.000000</td>\n",
       "      <td id=\"T_223f9_row11_col12\" class=\"data row11 col12\" >-0.005397</td>\n",
       "      <td id=\"T_223f9_row11_col13\" class=\"data row11 col13\" >-0.002760</td>\n",
       "      <td id=\"T_223f9_row11_col14\" class=\"data row11 col14\" >-0.003250</td>\n",
       "      <td id=\"T_223f9_row11_col15\" class=\"data row11 col15\" >-0.003921</td>\n",
       "      <td id=\"T_223f9_row11_col16\" class=\"data row11 col16\" >0.007405</td>\n",
       "      <td id=\"T_223f9_row11_col17\" class=\"data row11 col17\" >-0.014205</td>\n",
       "      <td id=\"T_223f9_row11_col18\" class=\"data row11 col18\" >-0.004111</td>\n",
       "    </tr>\n",
       "    <tr>\n",
       "      <th id=\"T_223f9_level0_row12\" class=\"row_heading level0 row12\" >Sedentary Hours Per Day</th>\n",
       "      <td id=\"T_223f9_row12_col0\" class=\"data row12 col0\" >0.017280</td>\n",
       "      <td id=\"T_223f9_row12_col1\" class=\"data row12 col1\" >0.018914</td>\n",
       "      <td id=\"T_223f9_row12_col2\" class=\"data row12 col2\" >-0.010232</td>\n",
       "      <td id=\"T_223f9_row12_col3\" class=\"data row12 col3\" >0.004705</td>\n",
       "      <td id=\"T_223f9_row12_col4\" class=\"data row12 col4\" >0.002561</td>\n",
       "      <td id=\"T_223f9_row12_col5\" class=\"data row12 col5\" >0.015311</td>\n",
       "      <td id=\"T_223f9_row12_col6\" class=\"data row12 col6\" >-0.001333</td>\n",
       "      <td id=\"T_223f9_row12_col7\" class=\"data row12 col7\" >-0.012828</td>\n",
       "      <td id=\"T_223f9_row12_col8\" class=\"data row12 col8\" >0.008756</td>\n",
       "      <td id=\"T_223f9_row12_col9\" class=\"data row12 col9\" >-0.002694</td>\n",
       "      <td id=\"T_223f9_row12_col10\" class=\"data row12 col10\" >0.022513</td>\n",
       "      <td id=\"T_223f9_row12_col11\" class=\"data row12 col11\" >-0.005397</td>\n",
       "      <td id=\"T_223f9_row12_col12\" class=\"data row12 col12\" >1.000000</td>\n",
       "      <td id=\"T_223f9_row12_col13\" class=\"data row12 col13\" >0.003511</td>\n",
       "      <td id=\"T_223f9_row12_col14\" class=\"data row12 col14\" >-0.000024</td>\n",
       "      <td id=\"T_223f9_row12_col15\" class=\"data row12 col15\" >-0.005785</td>\n",
       "      <td id=\"T_223f9_row12_col16\" class=\"data row12 col16\" >-0.006178</td>\n",
       "      <td id=\"T_223f9_row12_col17\" class=\"data row12 col17\" >0.004792</td>\n",
       "      <td id=\"T_223f9_row12_col18\" class=\"data row12 col18\" >-0.005613</td>\n",
       "    </tr>\n",
       "    <tr>\n",
       "      <th id=\"T_223f9_level0_row13\" class=\"row_heading level0 row13\" >Income</th>\n",
       "      <td id=\"T_223f9_row13_col0\" class=\"data row13 col0\" >-0.001733</td>\n",
       "      <td id=\"T_223f9_row13_col1\" class=\"data row13 col1\" >0.000007</td>\n",
       "      <td id=\"T_223f9_row13_col2\" class=\"data row13 col2\" >0.004873</td>\n",
       "      <td id=\"T_223f9_row13_col3\" class=\"data row13 col3\" >-0.000759</td>\n",
       "      <td id=\"T_223f9_row13_col4\" class=\"data row13 col4\" >-0.000401</td>\n",
       "      <td id=\"T_223f9_row13_col5\" class=\"data row13 col5\" >0.003096</td>\n",
       "      <td id=\"T_223f9_row13_col6\" class=\"data row13 col6\" >-0.003870</td>\n",
       "      <td id=\"T_223f9_row13_col7\" class=\"data row13 col7\" >-0.022396</td>\n",
       "      <td id=\"T_223f9_row13_col8\" class=\"data row13 col8\" >-0.023414</td>\n",
       "      <td id=\"T_223f9_row13_col9\" class=\"data row13 col9\" >-0.003281</td>\n",
       "      <td id=\"T_223f9_row13_col10\" class=\"data row13 col10\" >-0.003464</td>\n",
       "      <td id=\"T_223f9_row13_col11\" class=\"data row13 col11\" >-0.002760</td>\n",
       "      <td id=\"T_223f9_row13_col12\" class=\"data row13 col12\" >0.003511</td>\n",
       "      <td id=\"T_223f9_row13_col13\" class=\"data row13 col13\" >1.000000</td>\n",
       "      <td id=\"T_223f9_row13_col14\" class=\"data row13 col14\" >0.008836</td>\n",
       "      <td id=\"T_223f9_row13_col15\" class=\"data row13 col15\" >0.010739</td>\n",
       "      <td id=\"T_223f9_row13_col16\" class=\"data row13 col16\" >0.000130</td>\n",
       "      <td id=\"T_223f9_row13_col17\" class=\"data row13 col17\" >-0.006598</td>\n",
       "      <td id=\"T_223f9_row13_col18\" class=\"data row13 col18\" >0.009628</td>\n",
       "    </tr>\n",
       "    <tr>\n",
       "      <th id=\"T_223f9_level0_row14\" class=\"row_heading level0 row14\" >BMI</th>\n",
       "      <td id=\"T_223f9_row14_col0\" class=\"data row14 col0\" >-0.002612</td>\n",
       "      <td id=\"T_223f9_row14_col1\" class=\"data row14 col1\" >0.017292</td>\n",
       "      <td id=\"T_223f9_row14_col2\" class=\"data row14 col2\" >0.005299</td>\n",
       "      <td id=\"T_223f9_row14_col3\" class=\"data row14 col3\" >-0.002852</td>\n",
       "      <td id=\"T_223f9_row14_col4\" class=\"data row14 col4\" >-0.011492</td>\n",
       "      <td id=\"T_223f9_row14_col5\" class=\"data row14 col5\" >0.007670</td>\n",
       "      <td id=\"T_223f9_row14_col6\" class=\"data row14 col6\" >-0.006058</td>\n",
       "      <td id=\"T_223f9_row14_col7\" class=\"data row14 col7\" >0.010562</td>\n",
       "      <td id=\"T_223f9_row14_col8\" class=\"data row14 col8\" >0.003777</td>\n",
       "      <td id=\"T_223f9_row14_col9\" class=\"data row14 col9\" >0.015718</td>\n",
       "      <td id=\"T_223f9_row14_col10\" class=\"data row14 col10\" >0.009514</td>\n",
       "      <td id=\"T_223f9_row14_col11\" class=\"data row14 col11\" >-0.003250</td>\n",
       "      <td id=\"T_223f9_row14_col12\" class=\"data row14 col12\" >-0.000024</td>\n",
       "      <td id=\"T_223f9_row14_col13\" class=\"data row14 col13\" >0.008836</td>\n",
       "      <td id=\"T_223f9_row14_col14\" class=\"data row14 col14\" >1.000000</td>\n",
       "      <td id=\"T_223f9_row14_col15\" class=\"data row14 col15\" >-0.005964</td>\n",
       "      <td id=\"T_223f9_row14_col16\" class=\"data row14 col16\" >0.008110</td>\n",
       "      <td id=\"T_223f9_row14_col17\" class=\"data row14 col17\" >-0.010030</td>\n",
       "      <td id=\"T_223f9_row14_col18\" class=\"data row14 col18\" >0.000020</td>\n",
       "    </tr>\n",
       "    <tr>\n",
       "      <th id=\"T_223f9_level0_row15\" class=\"row_heading level0 row15\" >Triglycerides</th>\n",
       "      <td id=\"T_223f9_row15_col0\" class=\"data row15 col0\" >0.003415</td>\n",
       "      <td id=\"T_223f9_row15_col1\" class=\"data row15 col1\" >-0.005454</td>\n",
       "      <td id=\"T_223f9_row15_col2\" class=\"data row15 col2\" >0.012244</td>\n",
       "      <td id=\"T_223f9_row15_col3\" class=\"data row15 col3\" >0.010431</td>\n",
       "      <td id=\"T_223f9_row15_col4\" class=\"data row15 col4\" >-0.001904</td>\n",
       "      <td id=\"T_223f9_row15_col5\" class=\"data row15 col5\" >0.004650</td>\n",
       "      <td id=\"T_223f9_row15_col6\" class=\"data row15 col6\" >0.001467</td>\n",
       "      <td id=\"T_223f9_row15_col7\" class=\"data row15 col7\" >0.006169</td>\n",
       "      <td id=\"T_223f9_row15_col8\" class=\"data row15 col8\" >0.001717</td>\n",
       "      <td id=\"T_223f9_row15_col9\" class=\"data row15 col9\" >-0.019029</td>\n",
       "      <td id=\"T_223f9_row15_col10\" class=\"data row15 col10\" >-0.011095</td>\n",
       "      <td id=\"T_223f9_row15_col11\" class=\"data row15 col11\" >-0.003921</td>\n",
       "      <td id=\"T_223f9_row15_col12\" class=\"data row15 col12\" >-0.005785</td>\n",
       "      <td id=\"T_223f9_row15_col13\" class=\"data row15 col13\" >0.010739</td>\n",
       "      <td id=\"T_223f9_row15_col14\" class=\"data row15 col14\" >-0.005964</td>\n",
       "      <td id=\"T_223f9_row15_col15\" class=\"data row15 col15\" >1.000000</td>\n",
       "      <td id=\"T_223f9_row15_col16\" class=\"data row15 col16\" >-0.007556</td>\n",
       "      <td id=\"T_223f9_row15_col17\" class=\"data row15 col17\" >-0.029216</td>\n",
       "      <td id=\"T_223f9_row15_col18\" class=\"data row15 col18\" >0.010471</td>\n",
       "    </tr>\n",
       "    <tr>\n",
       "      <th id=\"T_223f9_level0_row16\" class=\"row_heading level0 row16\" >Physical Activity Days Per Week</th>\n",
       "      <td id=\"T_223f9_row16_col0\" class=\"data row16 col0\" >0.001384</td>\n",
       "      <td id=\"T_223f9_row16_col1\" class=\"data row16 col1\" >0.016056</td>\n",
       "      <td id=\"T_223f9_row16_col2\" class=\"data row16 col2\" >0.000834</td>\n",
       "      <td id=\"T_223f9_row16_col3\" class=\"data row16 col3\" >-0.002411</td>\n",
       "      <td id=\"T_223f9_row16_col4\" class=\"data row16 col4\" >0.009561</td>\n",
       "      <td id=\"T_223f9_row16_col5\" class=\"data row16 col5\" >-0.006465</td>\n",
       "      <td id=\"T_223f9_row16_col6\" class=\"data row16 col6\" >0.005337</td>\n",
       "      <td id=\"T_223f9_row16_col7\" class=\"data row16 col7\" >0.001593</td>\n",
       "      <td id=\"T_223f9_row16_col8\" class=\"data row16 col8\" >0.007725</td>\n",
       "      <td id=\"T_223f9_row16_col9\" class=\"data row16 col9\" >0.008537</td>\n",
       "      <td id=\"T_223f9_row16_col10\" class=\"data row16 col10\" >-0.011139</td>\n",
       "      <td id=\"T_223f9_row16_col11\" class=\"data row16 col11\" >0.007405</td>\n",
       "      <td id=\"T_223f9_row16_col12\" class=\"data row16 col12\" >-0.006178</td>\n",
       "      <td id=\"T_223f9_row16_col13\" class=\"data row16 col13\" >0.000130</td>\n",
       "      <td id=\"T_223f9_row16_col14\" class=\"data row16 col14\" >0.008110</td>\n",
       "      <td id=\"T_223f9_row16_col15\" class=\"data row16 col15\" >-0.007556</td>\n",
       "      <td id=\"T_223f9_row16_col16\" class=\"data row16 col16\" >1.000000</td>\n",
       "      <td id=\"T_223f9_row16_col17\" class=\"data row16 col17\" >0.014033</td>\n",
       "      <td id=\"T_223f9_row16_col18\" class=\"data row16 col18\" >-0.005014</td>\n",
       "    </tr>\n",
       "    <tr>\n",
       "      <th id=\"T_223f9_level0_row17\" class=\"row_heading level0 row17\" >Sleep Hours Per Day</th>\n",
       "      <td id=\"T_223f9_row17_col0\" class=\"data row17 col0\" >-0.002185</td>\n",
       "      <td id=\"T_223f9_row17_col1\" class=\"data row17 col1\" >0.004456</td>\n",
       "      <td id=\"T_223f9_row17_col2\" class=\"data row17 col2\" >0.001811</td>\n",
       "      <td id=\"T_223f9_row17_col3\" class=\"data row17 col3\" >-0.012457</td>\n",
       "      <td id=\"T_223f9_row17_col4\" class=\"data row17 col4\" >-0.011199</td>\n",
       "      <td id=\"T_223f9_row17_col5\" class=\"data row17 col5\" >-0.005424</td>\n",
       "      <td id=\"T_223f9_row17_col6\" class=\"data row17 col6\" >-0.005314</td>\n",
       "      <td id=\"T_223f9_row17_col7\" class=\"data row17 col7\" >-0.000843</td>\n",
       "      <td id=\"T_223f9_row17_col8\" class=\"data row17 col8\" >-0.001245</td>\n",
       "      <td id=\"T_223f9_row17_col9\" class=\"data row17 col9\" >0.004460</td>\n",
       "      <td id=\"T_223f9_row17_col10\" class=\"data row17 col10\" >-0.020393</td>\n",
       "      <td id=\"T_223f9_row17_col11\" class=\"data row17 col11\" >-0.014205</td>\n",
       "      <td id=\"T_223f9_row17_col12\" class=\"data row17 col12\" >0.004792</td>\n",
       "      <td id=\"T_223f9_row17_col13\" class=\"data row17 col13\" >-0.006598</td>\n",
       "      <td id=\"T_223f9_row17_col14\" class=\"data row17 col14\" >-0.010030</td>\n",
       "      <td id=\"T_223f9_row17_col15\" class=\"data row17 col15\" >-0.029216</td>\n",
       "      <td id=\"T_223f9_row17_col16\" class=\"data row17 col16\" >0.014033</td>\n",
       "      <td id=\"T_223f9_row17_col17\" class=\"data row17 col17\" >1.000000</td>\n",
       "      <td id=\"T_223f9_row17_col18\" class=\"data row17 col18\" >-0.018528</td>\n",
       "    </tr>\n",
       "    <tr>\n",
       "      <th id=\"T_223f9_level0_row18\" class=\"row_heading level0 row18\" >Heart Attack Risk</th>\n",
       "      <td id=\"T_223f9_row18_col0\" class=\"data row18 col0\" >0.006403</td>\n",
       "      <td id=\"T_223f9_row18_col1\" class=\"data row18 col1\" >0.019340</td>\n",
       "      <td id=\"T_223f9_row18_col2\" class=\"data row18 col2\" >-0.004251</td>\n",
       "      <td id=\"T_223f9_row18_col3\" class=\"data row18 col3\" >0.017225</td>\n",
       "      <td id=\"T_223f9_row18_col4\" class=\"data row18 col4\" >-0.001652</td>\n",
       "      <td id=\"T_223f9_row18_col5\" class=\"data row18 col5\" >-0.004051</td>\n",
       "      <td id=\"T_223f9_row18_col6\" class=\"data row18 col6\" >-0.013318</td>\n",
       "      <td id=\"T_223f9_row18_col7\" class=\"data row18 col7\" >-0.013778</td>\n",
       "      <td id=\"T_223f9_row18_col8\" class=\"data row18 col8\" >0.011133</td>\n",
       "      <td id=\"T_223f9_row18_col9\" class=\"data row18 col9\" >0.000274</td>\n",
       "      <td id=\"T_223f9_row18_col10\" class=\"data row18 col10\" >0.002234</td>\n",
       "      <td id=\"T_223f9_row18_col11\" class=\"data row18 col11\" >-0.004111</td>\n",
       "      <td id=\"T_223f9_row18_col12\" class=\"data row18 col12\" >-0.005613</td>\n",
       "      <td id=\"T_223f9_row18_col13\" class=\"data row18 col13\" >0.009628</td>\n",
       "      <td id=\"T_223f9_row18_col14\" class=\"data row18 col14\" >0.000020</td>\n",
       "      <td id=\"T_223f9_row18_col15\" class=\"data row18 col15\" >0.010471</td>\n",
       "      <td id=\"T_223f9_row18_col16\" class=\"data row18 col16\" >-0.005014</td>\n",
       "      <td id=\"T_223f9_row18_col17\" class=\"data row18 col17\" >-0.018528</td>\n",
       "      <td id=\"T_223f9_row18_col18\" class=\"data row18 col18\" >1.000000</td>\n",
       "    </tr>\n",
       "  </tbody>\n",
       "</table>\n"
      ],
      "text/plain": [
       "<pandas.io.formats.style.Styler at 0x2a90c41bb10>"
      ]
     },
     "execution_count": 11,
     "metadata": {},
     "output_type": "execute_result"
    }
   ],
   "source": [
    "datacorr= project_data.corr()\n",
    "\n",
    "datacorr.style.background_gradient()"
   ]
  },
  {
   "cell_type": "code",
   "execution_count": 12,
   "id": "ca73a5c4",
   "metadata": {},
   "outputs": [],
   "source": [
    "## The risk of heart attack increases with age, cholesterol, heart rate, diabetes, family history, smoking, obesity, alcohol consumption, sedentary hours per day, BMI, and triglycerides. The risk of heart attack decreases with exercise hours per week, previous heart problems, medication use, stress level, income, physical activity days per week, and sleep hours per day.\n",
    "\n",
    "## It is important to note that these are just correlations, and do not necessarily mean that one factor causes the other. For example, just because people who smoke have a higher risk of heart attack does not mean that smoking causes heart attack. There may be other factors, such as genetics or lifestyle choices, that play a role.\n",
    "\n",
    "## If you are concerned about your risk of heart attack, talk to your doctor. They can help you assess your risk and develop a plan to reduce it."
   ]
  },
  {
   "cell_type": "code",
   "execution_count": 13,
   "id": "9d0e87d9",
   "metadata": {},
   "outputs": [
    {
     "data": {
      "text/html": [
       "<div>\n",
       "<style scoped>\n",
       "    .dataframe tbody tr th:only-of-type {\n",
       "        vertical-align: middle;\n",
       "    }\n",
       "\n",
       "    .dataframe tbody tr th {\n",
       "        vertical-align: top;\n",
       "    }\n",
       "\n",
       "    .dataframe thead th {\n",
       "        text-align: right;\n",
       "    }\n",
       "</style>\n",
       "<table border=\"1\" class=\"dataframe\">\n",
       "  <thead>\n",
       "    <tr style=\"text-align: right;\">\n",
       "      <th></th>\n",
       "      <th>Age</th>\n",
       "      <th>Cholesterol</th>\n",
       "      <th>Heart Rate</th>\n",
       "      <th>Diabetes</th>\n",
       "      <th>Family History</th>\n",
       "      <th>Smoking</th>\n",
       "      <th>Obesity</th>\n",
       "      <th>Alcohol Consumption</th>\n",
       "      <th>Exercise Hours Per Week</th>\n",
       "      <th>Previous Heart Problems</th>\n",
       "      <th>Medication Use</th>\n",
       "      <th>Stress Level</th>\n",
       "      <th>Sedentary Hours Per Day</th>\n",
       "      <th>Income</th>\n",
       "      <th>BMI</th>\n",
       "      <th>Triglycerides</th>\n",
       "      <th>Physical Activity Days Per Week</th>\n",
       "      <th>Sleep Hours Per Day</th>\n",
       "      <th>Heart Attack Risk</th>\n",
       "    </tr>\n",
       "  </thead>\n",
       "  <tbody>\n",
       "    <tr>\n",
       "      <th>Age</th>\n",
       "      <td>1.000000</td>\n",
       "      <td>-0.009107</td>\n",
       "      <td>-0.003844</td>\n",
       "      <td>-0.014105</td>\n",
       "      <td>0.008353</td>\n",
       "      <td>0.394891</td>\n",
       "      <td>-0.008140</td>\n",
       "      <td>-0.006666</td>\n",
       "      <td>0.001206</td>\n",
       "      <td>0.000868</td>\n",
       "      <td>0.000980</td>\n",
       "      <td>0.018307</td>\n",
       "      <td>0.017280</td>\n",
       "      <td>-0.001733</td>\n",
       "      <td>-0.002612</td>\n",
       "      <td>0.003415</td>\n",
       "      <td>0.001384</td>\n",
       "      <td>-0.002185</td>\n",
       "      <td>0.006403</td>\n",
       "    </tr>\n",
       "    <tr>\n",
       "      <th>Cholesterol</th>\n",
       "      <td>-0.009107</td>\n",
       "      <td>1.000000</td>\n",
       "      <td>0.000315</td>\n",
       "      <td>-0.013428</td>\n",
       "      <td>-0.021608</td>\n",
       "      <td>0.016342</td>\n",
       "      <td>-0.014843</td>\n",
       "      <td>-0.007261</td>\n",
       "      <td>0.021517</td>\n",
       "      <td>-0.006070</td>\n",
       "      <td>-0.000905</td>\n",
       "      <td>-0.024487</td>\n",
       "      <td>0.018914</td>\n",
       "      <td>0.000007</td>\n",
       "      <td>0.017292</td>\n",
       "      <td>-0.005454</td>\n",
       "      <td>0.016056</td>\n",
       "      <td>0.004456</td>\n",
       "      <td>0.019340</td>\n",
       "    </tr>\n",
       "    <tr>\n",
       "      <th>Heart Rate</th>\n",
       "      <td>-0.003844</td>\n",
       "      <td>0.000315</td>\n",
       "      <td>1.000000</td>\n",
       "      <td>0.006764</td>\n",
       "      <td>-0.013470</td>\n",
       "      <td>-0.012331</td>\n",
       "      <td>0.012725</td>\n",
       "      <td>0.003459</td>\n",
       "      <td>0.008276</td>\n",
       "      <td>-0.004956</td>\n",
       "      <td>0.009244</td>\n",
       "      <td>-0.004547</td>\n",
       "      <td>-0.010232</td>\n",
       "      <td>0.004873</td>\n",
       "      <td>0.005299</td>\n",
       "      <td>0.012244</td>\n",
       "      <td>0.000834</td>\n",
       "      <td>0.001811</td>\n",
       "      <td>-0.004251</td>\n",
       "    </tr>\n",
       "    <tr>\n",
       "      <th>Diabetes</th>\n",
       "      <td>-0.014105</td>\n",
       "      <td>-0.013428</td>\n",
       "      <td>0.006764</td>\n",
       "      <td>1.000000</td>\n",
       "      <td>-0.013844</td>\n",
       "      <td>0.000527</td>\n",
       "      <td>0.012866</td>\n",
       "      <td>0.005551</td>\n",
       "      <td>-0.007014</td>\n",
       "      <td>0.000867</td>\n",
       "      <td>-0.002656</td>\n",
       "      <td>0.006719</td>\n",
       "      <td>0.004705</td>\n",
       "      <td>-0.000759</td>\n",
       "      <td>-0.002852</td>\n",
       "      <td>0.010431</td>\n",
       "      <td>-0.002411</td>\n",
       "      <td>-0.012457</td>\n",
       "      <td>0.017225</td>\n",
       "    </tr>\n",
       "    <tr>\n",
       "      <th>Family History</th>\n",
       "      <td>0.008353</td>\n",
       "      <td>-0.021608</td>\n",
       "      <td>-0.013470</td>\n",
       "      <td>-0.013844</td>\n",
       "      <td>1.000000</td>\n",
       "      <td>0.011748</td>\n",
       "      <td>-0.001444</td>\n",
       "      <td>0.012701</td>\n",
       "      <td>-0.006378</td>\n",
       "      <td>-0.004568</td>\n",
       "      <td>0.000981</td>\n",
       "      <td>0.015637</td>\n",
       "      <td>0.002561</td>\n",
       "      <td>-0.000401</td>\n",
       "      <td>-0.011492</td>\n",
       "      <td>-0.001904</td>\n",
       "      <td>0.009561</td>\n",
       "      <td>-0.011199</td>\n",
       "      <td>-0.001652</td>\n",
       "    </tr>\n",
       "    <tr>\n",
       "      <th>Smoking</th>\n",
       "      <td>0.394891</td>\n",
       "      <td>0.016342</td>\n",
       "      <td>-0.012331</td>\n",
       "      <td>0.000527</td>\n",
       "      <td>0.011748</td>\n",
       "      <td>1.000000</td>\n",
       "      <td>0.003969</td>\n",
       "      <td>0.012754</td>\n",
       "      <td>-0.000150</td>\n",
       "      <td>-0.000574</td>\n",
       "      <td>-0.010877</td>\n",
       "      <td>-0.001757</td>\n",
       "      <td>0.015311</td>\n",
       "      <td>0.003096</td>\n",
       "      <td>0.007670</td>\n",
       "      <td>0.004650</td>\n",
       "      <td>-0.006465</td>\n",
       "      <td>-0.005424</td>\n",
       "      <td>-0.004051</td>\n",
       "    </tr>\n",
       "    <tr>\n",
       "      <th>Obesity</th>\n",
       "      <td>-0.008140</td>\n",
       "      <td>-0.014843</td>\n",
       "      <td>0.012725</td>\n",
       "      <td>0.012866</td>\n",
       "      <td>-0.001444</td>\n",
       "      <td>0.003969</td>\n",
       "      <td>1.000000</td>\n",
       "      <td>-0.024195</td>\n",
       "      <td>0.002099</td>\n",
       "      <td>0.005159</td>\n",
       "      <td>-0.006267</td>\n",
       "      <td>0.010626</td>\n",
       "      <td>-0.001333</td>\n",
       "      <td>-0.003870</td>\n",
       "      <td>-0.006058</td>\n",
       "      <td>0.001467</td>\n",
       "      <td>0.005337</td>\n",
       "      <td>-0.005314</td>\n",
       "      <td>-0.013318</td>\n",
       "    </tr>\n",
       "    <tr>\n",
       "      <th>Alcohol Consumption</th>\n",
       "      <td>-0.006666</td>\n",
       "      <td>-0.007261</td>\n",
       "      <td>0.003459</td>\n",
       "      <td>0.005551</td>\n",
       "      <td>0.012701</td>\n",
       "      <td>0.012754</td>\n",
       "      <td>-0.024195</td>\n",
       "      <td>1.000000</td>\n",
       "      <td>-0.008514</td>\n",
       "      <td>0.010395</td>\n",
       "      <td>0.003339</td>\n",
       "      <td>-0.005023</td>\n",
       "      <td>-0.012828</td>\n",
       "      <td>-0.022396</td>\n",
       "      <td>0.010562</td>\n",
       "      <td>0.006169</td>\n",
       "      <td>0.001593</td>\n",
       "      <td>-0.000843</td>\n",
       "      <td>-0.013778</td>\n",
       "    </tr>\n",
       "    <tr>\n",
       "      <th>Exercise Hours Per Week</th>\n",
       "      <td>0.001206</td>\n",
       "      <td>0.021517</td>\n",
       "      <td>0.008276</td>\n",
       "      <td>-0.007014</td>\n",
       "      <td>-0.006378</td>\n",
       "      <td>-0.000150</td>\n",
       "      <td>0.002099</td>\n",
       "      <td>-0.008514</td>\n",
       "      <td>1.000000</td>\n",
       "      <td>0.005253</td>\n",
       "      <td>-0.007119</td>\n",
       "      <td>-0.009102</td>\n",
       "      <td>0.008756</td>\n",
       "      <td>-0.023414</td>\n",
       "      <td>0.003777</td>\n",
       "      <td>0.001717</td>\n",
       "      <td>0.007725</td>\n",
       "      <td>-0.001245</td>\n",
       "      <td>0.011133</td>\n",
       "    </tr>\n",
       "    <tr>\n",
       "      <th>Previous Heart Problems</th>\n",
       "      <td>0.000868</td>\n",
       "      <td>-0.006070</td>\n",
       "      <td>-0.004956</td>\n",
       "      <td>0.000867</td>\n",
       "      <td>-0.004568</td>\n",
       "      <td>-0.000574</td>\n",
       "      <td>0.005159</td>\n",
       "      <td>0.010395</td>\n",
       "      <td>0.005253</td>\n",
       "      <td>1.000000</td>\n",
       "      <td>0.005336</td>\n",
       "      <td>-0.017629</td>\n",
       "      <td>-0.002694</td>\n",
       "      <td>-0.003281</td>\n",
       "      <td>0.015718</td>\n",
       "      <td>-0.019029</td>\n",
       "      <td>0.008537</td>\n",
       "      <td>0.004460</td>\n",
       "      <td>0.000274</td>\n",
       "    </tr>\n",
       "    <tr>\n",
       "      <th>Medication Use</th>\n",
       "      <td>0.000980</td>\n",
       "      <td>-0.000905</td>\n",
       "      <td>0.009244</td>\n",
       "      <td>-0.002656</td>\n",
       "      <td>0.000981</td>\n",
       "      <td>-0.010877</td>\n",
       "      <td>-0.006267</td>\n",
       "      <td>0.003339</td>\n",
       "      <td>-0.007119</td>\n",
       "      <td>0.005336</td>\n",
       "      <td>1.000000</td>\n",
       "      <td>0.000863</td>\n",
       "      <td>0.022513</td>\n",
       "      <td>-0.003464</td>\n",
       "      <td>0.009514</td>\n",
       "      <td>-0.011095</td>\n",
       "      <td>-0.011139</td>\n",
       "      <td>-0.020393</td>\n",
       "      <td>0.002234</td>\n",
       "    </tr>\n",
       "    <tr>\n",
       "      <th>Stress Level</th>\n",
       "      <td>0.018307</td>\n",
       "      <td>-0.024487</td>\n",
       "      <td>-0.004547</td>\n",
       "      <td>0.006719</td>\n",
       "      <td>0.015637</td>\n",
       "      <td>-0.001757</td>\n",
       "      <td>0.010626</td>\n",
       "      <td>-0.005023</td>\n",
       "      <td>-0.009102</td>\n",
       "      <td>-0.017629</td>\n",
       "      <td>0.000863</td>\n",
       "      <td>1.000000</td>\n",
       "      <td>-0.005397</td>\n",
       "      <td>-0.002760</td>\n",
       "      <td>-0.003250</td>\n",
       "      <td>-0.003921</td>\n",
       "      <td>0.007405</td>\n",
       "      <td>-0.014205</td>\n",
       "      <td>-0.004111</td>\n",
       "    </tr>\n",
       "    <tr>\n",
       "      <th>Sedentary Hours Per Day</th>\n",
       "      <td>0.017280</td>\n",
       "      <td>0.018914</td>\n",
       "      <td>-0.010232</td>\n",
       "      <td>0.004705</td>\n",
       "      <td>0.002561</td>\n",
       "      <td>0.015311</td>\n",
       "      <td>-0.001333</td>\n",
       "      <td>-0.012828</td>\n",
       "      <td>0.008756</td>\n",
       "      <td>-0.002694</td>\n",
       "      <td>0.022513</td>\n",
       "      <td>-0.005397</td>\n",
       "      <td>1.000000</td>\n",
       "      <td>0.003511</td>\n",
       "      <td>-0.000024</td>\n",
       "      <td>-0.005785</td>\n",
       "      <td>-0.006178</td>\n",
       "      <td>0.004792</td>\n",
       "      <td>-0.005613</td>\n",
       "    </tr>\n",
       "    <tr>\n",
       "      <th>Income</th>\n",
       "      <td>-0.001733</td>\n",
       "      <td>0.000007</td>\n",
       "      <td>0.004873</td>\n",
       "      <td>-0.000759</td>\n",
       "      <td>-0.000401</td>\n",
       "      <td>0.003096</td>\n",
       "      <td>-0.003870</td>\n",
       "      <td>-0.022396</td>\n",
       "      <td>-0.023414</td>\n",
       "      <td>-0.003281</td>\n",
       "      <td>-0.003464</td>\n",
       "      <td>-0.002760</td>\n",
       "      <td>0.003511</td>\n",
       "      <td>1.000000</td>\n",
       "      <td>0.008836</td>\n",
       "      <td>0.010739</td>\n",
       "      <td>0.000130</td>\n",
       "      <td>-0.006598</td>\n",
       "      <td>0.009628</td>\n",
       "    </tr>\n",
       "    <tr>\n",
       "      <th>BMI</th>\n",
       "      <td>-0.002612</td>\n",
       "      <td>0.017292</td>\n",
       "      <td>0.005299</td>\n",
       "      <td>-0.002852</td>\n",
       "      <td>-0.011492</td>\n",
       "      <td>0.007670</td>\n",
       "      <td>-0.006058</td>\n",
       "      <td>0.010562</td>\n",
       "      <td>0.003777</td>\n",
       "      <td>0.015718</td>\n",
       "      <td>0.009514</td>\n",
       "      <td>-0.003250</td>\n",
       "      <td>-0.000024</td>\n",
       "      <td>0.008836</td>\n",
       "      <td>1.000000</td>\n",
       "      <td>-0.005964</td>\n",
       "      <td>0.008110</td>\n",
       "      <td>-0.010030</td>\n",
       "      <td>0.000020</td>\n",
       "    </tr>\n",
       "    <tr>\n",
       "      <th>Triglycerides</th>\n",
       "      <td>0.003415</td>\n",
       "      <td>-0.005454</td>\n",
       "      <td>0.012244</td>\n",
       "      <td>0.010431</td>\n",
       "      <td>-0.001904</td>\n",
       "      <td>0.004650</td>\n",
       "      <td>0.001467</td>\n",
       "      <td>0.006169</td>\n",
       "      <td>0.001717</td>\n",
       "      <td>-0.019029</td>\n",
       "      <td>-0.011095</td>\n",
       "      <td>-0.003921</td>\n",
       "      <td>-0.005785</td>\n",
       "      <td>0.010739</td>\n",
       "      <td>-0.005964</td>\n",
       "      <td>1.000000</td>\n",
       "      <td>-0.007556</td>\n",
       "      <td>-0.029216</td>\n",
       "      <td>0.010471</td>\n",
       "    </tr>\n",
       "    <tr>\n",
       "      <th>Physical Activity Days Per Week</th>\n",
       "      <td>0.001384</td>\n",
       "      <td>0.016056</td>\n",
       "      <td>0.000834</td>\n",
       "      <td>-0.002411</td>\n",
       "      <td>0.009561</td>\n",
       "      <td>-0.006465</td>\n",
       "      <td>0.005337</td>\n",
       "      <td>0.001593</td>\n",
       "      <td>0.007725</td>\n",
       "      <td>0.008537</td>\n",
       "      <td>-0.011139</td>\n",
       "      <td>0.007405</td>\n",
       "      <td>-0.006178</td>\n",
       "      <td>0.000130</td>\n",
       "      <td>0.008110</td>\n",
       "      <td>-0.007556</td>\n",
       "      <td>1.000000</td>\n",
       "      <td>0.014033</td>\n",
       "      <td>-0.005014</td>\n",
       "    </tr>\n",
       "    <tr>\n",
       "      <th>Sleep Hours Per Day</th>\n",
       "      <td>-0.002185</td>\n",
       "      <td>0.004456</td>\n",
       "      <td>0.001811</td>\n",
       "      <td>-0.012457</td>\n",
       "      <td>-0.011199</td>\n",
       "      <td>-0.005424</td>\n",
       "      <td>-0.005314</td>\n",
       "      <td>-0.000843</td>\n",
       "      <td>-0.001245</td>\n",
       "      <td>0.004460</td>\n",
       "      <td>-0.020393</td>\n",
       "      <td>-0.014205</td>\n",
       "      <td>0.004792</td>\n",
       "      <td>-0.006598</td>\n",
       "      <td>-0.010030</td>\n",
       "      <td>-0.029216</td>\n",
       "      <td>0.014033</td>\n",
       "      <td>1.000000</td>\n",
       "      <td>-0.018528</td>\n",
       "    </tr>\n",
       "    <tr>\n",
       "      <th>Heart Attack Risk</th>\n",
       "      <td>0.006403</td>\n",
       "      <td>0.019340</td>\n",
       "      <td>-0.004251</td>\n",
       "      <td>0.017225</td>\n",
       "      <td>-0.001652</td>\n",
       "      <td>-0.004051</td>\n",
       "      <td>-0.013318</td>\n",
       "      <td>-0.013778</td>\n",
       "      <td>0.011133</td>\n",
       "      <td>0.000274</td>\n",
       "      <td>0.002234</td>\n",
       "      <td>-0.004111</td>\n",
       "      <td>-0.005613</td>\n",
       "      <td>0.009628</td>\n",
       "      <td>0.000020</td>\n",
       "      <td>0.010471</td>\n",
       "      <td>-0.005014</td>\n",
       "      <td>-0.018528</td>\n",
       "      <td>1.000000</td>\n",
       "    </tr>\n",
       "  </tbody>\n",
       "</table>\n",
       "</div>"
      ],
      "text/plain": [
       "                                      Age  Cholesterol  Heart Rate  Diabetes  \\\n",
       "Age                              1.000000    -0.009107   -0.003844 -0.014105   \n",
       "Cholesterol                     -0.009107     1.000000    0.000315 -0.013428   \n",
       "Heart Rate                      -0.003844     0.000315    1.000000  0.006764   \n",
       "Diabetes                        -0.014105    -0.013428    0.006764  1.000000   \n",
       "Family History                   0.008353    -0.021608   -0.013470 -0.013844   \n",
       "Smoking                          0.394891     0.016342   -0.012331  0.000527   \n",
       "Obesity                         -0.008140    -0.014843    0.012725  0.012866   \n",
       "Alcohol Consumption             -0.006666    -0.007261    0.003459  0.005551   \n",
       "Exercise Hours Per Week          0.001206     0.021517    0.008276 -0.007014   \n",
       "Previous Heart Problems          0.000868    -0.006070   -0.004956  0.000867   \n",
       "Medication Use                   0.000980    -0.000905    0.009244 -0.002656   \n",
       "Stress Level                     0.018307    -0.024487   -0.004547  0.006719   \n",
       "Sedentary Hours Per Day          0.017280     0.018914   -0.010232  0.004705   \n",
       "Income                          -0.001733     0.000007    0.004873 -0.000759   \n",
       "BMI                             -0.002612     0.017292    0.005299 -0.002852   \n",
       "Triglycerides                    0.003415    -0.005454    0.012244  0.010431   \n",
       "Physical Activity Days Per Week  0.001384     0.016056    0.000834 -0.002411   \n",
       "Sleep Hours Per Day             -0.002185     0.004456    0.001811 -0.012457   \n",
       "Heart Attack Risk                0.006403     0.019340   -0.004251  0.017225   \n",
       "\n",
       "                                 Family History   Smoking   Obesity  \\\n",
       "Age                                    0.008353  0.394891 -0.008140   \n",
       "Cholesterol                           -0.021608  0.016342 -0.014843   \n",
       "Heart Rate                            -0.013470 -0.012331  0.012725   \n",
       "Diabetes                              -0.013844  0.000527  0.012866   \n",
       "Family History                         1.000000  0.011748 -0.001444   \n",
       "Smoking                                0.011748  1.000000  0.003969   \n",
       "Obesity                               -0.001444  0.003969  1.000000   \n",
       "Alcohol Consumption                    0.012701  0.012754 -0.024195   \n",
       "Exercise Hours Per Week               -0.006378 -0.000150  0.002099   \n",
       "Previous Heart Problems               -0.004568 -0.000574  0.005159   \n",
       "Medication Use                         0.000981 -0.010877 -0.006267   \n",
       "Stress Level                           0.015637 -0.001757  0.010626   \n",
       "Sedentary Hours Per Day                0.002561  0.015311 -0.001333   \n",
       "Income                                -0.000401  0.003096 -0.003870   \n",
       "BMI                                   -0.011492  0.007670 -0.006058   \n",
       "Triglycerides                         -0.001904  0.004650  0.001467   \n",
       "Physical Activity Days Per Week        0.009561 -0.006465  0.005337   \n",
       "Sleep Hours Per Day                   -0.011199 -0.005424 -0.005314   \n",
       "Heart Attack Risk                     -0.001652 -0.004051 -0.013318   \n",
       "\n",
       "                                 Alcohol Consumption  Exercise Hours Per Week  \\\n",
       "Age                                        -0.006666                 0.001206   \n",
       "Cholesterol                                -0.007261                 0.021517   \n",
       "Heart Rate                                  0.003459                 0.008276   \n",
       "Diabetes                                    0.005551                -0.007014   \n",
       "Family History                              0.012701                -0.006378   \n",
       "Smoking                                     0.012754                -0.000150   \n",
       "Obesity                                    -0.024195                 0.002099   \n",
       "Alcohol Consumption                         1.000000                -0.008514   \n",
       "Exercise Hours Per Week                    -0.008514                 1.000000   \n",
       "Previous Heart Problems                     0.010395                 0.005253   \n",
       "Medication Use                              0.003339                -0.007119   \n",
       "Stress Level                               -0.005023                -0.009102   \n",
       "Sedentary Hours Per Day                    -0.012828                 0.008756   \n",
       "Income                                     -0.022396                -0.023414   \n",
       "BMI                                         0.010562                 0.003777   \n",
       "Triglycerides                               0.006169                 0.001717   \n",
       "Physical Activity Days Per Week             0.001593                 0.007725   \n",
       "Sleep Hours Per Day                        -0.000843                -0.001245   \n",
       "Heart Attack Risk                          -0.013778                 0.011133   \n",
       "\n",
       "                                 Previous Heart Problems  Medication Use  \\\n",
       "Age                                             0.000868        0.000980   \n",
       "Cholesterol                                    -0.006070       -0.000905   \n",
       "Heart Rate                                     -0.004956        0.009244   \n",
       "Diabetes                                        0.000867       -0.002656   \n",
       "Family History                                 -0.004568        0.000981   \n",
       "Smoking                                        -0.000574       -0.010877   \n",
       "Obesity                                         0.005159       -0.006267   \n",
       "Alcohol Consumption                             0.010395        0.003339   \n",
       "Exercise Hours Per Week                         0.005253       -0.007119   \n",
       "Previous Heart Problems                         1.000000        0.005336   \n",
       "Medication Use                                  0.005336        1.000000   \n",
       "Stress Level                                   -0.017629        0.000863   \n",
       "Sedentary Hours Per Day                        -0.002694        0.022513   \n",
       "Income                                         -0.003281       -0.003464   \n",
       "BMI                                             0.015718        0.009514   \n",
       "Triglycerides                                  -0.019029       -0.011095   \n",
       "Physical Activity Days Per Week                 0.008537       -0.011139   \n",
       "Sleep Hours Per Day                             0.004460       -0.020393   \n",
       "Heart Attack Risk                               0.000274        0.002234   \n",
       "\n",
       "                                 Stress Level  Sedentary Hours Per Day  \\\n",
       "Age                                  0.018307                 0.017280   \n",
       "Cholesterol                         -0.024487                 0.018914   \n",
       "Heart Rate                          -0.004547                -0.010232   \n",
       "Diabetes                             0.006719                 0.004705   \n",
       "Family History                       0.015637                 0.002561   \n",
       "Smoking                             -0.001757                 0.015311   \n",
       "Obesity                              0.010626                -0.001333   \n",
       "Alcohol Consumption                 -0.005023                -0.012828   \n",
       "Exercise Hours Per Week             -0.009102                 0.008756   \n",
       "Previous Heart Problems             -0.017629                -0.002694   \n",
       "Medication Use                       0.000863                 0.022513   \n",
       "Stress Level                         1.000000                -0.005397   \n",
       "Sedentary Hours Per Day             -0.005397                 1.000000   \n",
       "Income                              -0.002760                 0.003511   \n",
       "BMI                                 -0.003250                -0.000024   \n",
       "Triglycerides                       -0.003921                -0.005785   \n",
       "Physical Activity Days Per Week      0.007405                -0.006178   \n",
       "Sleep Hours Per Day                 -0.014205                 0.004792   \n",
       "Heart Attack Risk                   -0.004111                -0.005613   \n",
       "\n",
       "                                   Income       BMI  Triglycerides  \\\n",
       "Age                             -0.001733 -0.002612       0.003415   \n",
       "Cholesterol                      0.000007  0.017292      -0.005454   \n",
       "Heart Rate                       0.004873  0.005299       0.012244   \n",
       "Diabetes                        -0.000759 -0.002852       0.010431   \n",
       "Family History                  -0.000401 -0.011492      -0.001904   \n",
       "Smoking                          0.003096  0.007670       0.004650   \n",
       "Obesity                         -0.003870 -0.006058       0.001467   \n",
       "Alcohol Consumption             -0.022396  0.010562       0.006169   \n",
       "Exercise Hours Per Week         -0.023414  0.003777       0.001717   \n",
       "Previous Heart Problems         -0.003281  0.015718      -0.019029   \n",
       "Medication Use                  -0.003464  0.009514      -0.011095   \n",
       "Stress Level                    -0.002760 -0.003250      -0.003921   \n",
       "Sedentary Hours Per Day          0.003511 -0.000024      -0.005785   \n",
       "Income                           1.000000  0.008836       0.010739   \n",
       "BMI                              0.008836  1.000000      -0.005964   \n",
       "Triglycerides                    0.010739 -0.005964       1.000000   \n",
       "Physical Activity Days Per Week  0.000130  0.008110      -0.007556   \n",
       "Sleep Hours Per Day             -0.006598 -0.010030      -0.029216   \n",
       "Heart Attack Risk                0.009628  0.000020       0.010471   \n",
       "\n",
       "                                 Physical Activity Days Per Week  \\\n",
       "Age                                                     0.001384   \n",
       "Cholesterol                                             0.016056   \n",
       "Heart Rate                                              0.000834   \n",
       "Diabetes                                               -0.002411   \n",
       "Family History                                          0.009561   \n",
       "Smoking                                                -0.006465   \n",
       "Obesity                                                 0.005337   \n",
       "Alcohol Consumption                                     0.001593   \n",
       "Exercise Hours Per Week                                 0.007725   \n",
       "Previous Heart Problems                                 0.008537   \n",
       "Medication Use                                         -0.011139   \n",
       "Stress Level                                            0.007405   \n",
       "Sedentary Hours Per Day                                -0.006178   \n",
       "Income                                                  0.000130   \n",
       "BMI                                                     0.008110   \n",
       "Triglycerides                                          -0.007556   \n",
       "Physical Activity Days Per Week                         1.000000   \n",
       "Sleep Hours Per Day                                     0.014033   \n",
       "Heart Attack Risk                                      -0.005014   \n",
       "\n",
       "                                 Sleep Hours Per Day  Heart Attack Risk  \n",
       "Age                                        -0.002185           0.006403  \n",
       "Cholesterol                                 0.004456           0.019340  \n",
       "Heart Rate                                  0.001811          -0.004251  \n",
       "Diabetes                                   -0.012457           0.017225  \n",
       "Family History                             -0.011199          -0.001652  \n",
       "Smoking                                    -0.005424          -0.004051  \n",
       "Obesity                                    -0.005314          -0.013318  \n",
       "Alcohol Consumption                        -0.000843          -0.013778  \n",
       "Exercise Hours Per Week                    -0.001245           0.011133  \n",
       "Previous Heart Problems                     0.004460           0.000274  \n",
       "Medication Use                             -0.020393           0.002234  \n",
       "Stress Level                               -0.014205          -0.004111  \n",
       "Sedentary Hours Per Day                     0.004792          -0.005613  \n",
       "Income                                     -0.006598           0.009628  \n",
       "BMI                                        -0.010030           0.000020  \n",
       "Triglycerides                              -0.029216           0.010471  \n",
       "Physical Activity Days Per Week             0.014033          -0.005014  \n",
       "Sleep Hours Per Day                         1.000000          -0.018528  \n",
       "Heart Attack Risk                          -0.018528           1.000000  "
      ]
     },
     "execution_count": 13,
     "metadata": {},
     "output_type": "execute_result"
    }
   ],
   "source": [
    "# To calculate correlations between input feature\n",
    "project_data.corr(numeric_only=True)"
   ]
  },
  {
   "cell_type": "code",
   "execution_count": 14,
   "id": "f4106323",
   "metadata": {},
   "outputs": [
    {
     "name": "stdout",
     "output_type": "stream",
     "text": [
      "count    8763.000000\n",
      "mean        0.358211\n",
      "std         0.479502\n",
      "min         0.000000\n",
      "25%         0.000000\n",
      "50%         0.000000\n",
      "75%         1.000000\n",
      "max         1.000000\n",
      "Name: Heart Attack Risk, dtype: float64\n"
     ]
    }
   ],
   "source": [
    "#Target Summary\n",
    "\n",
    "target_summary = project_data['Heart Attack Risk'].describe()\n",
    "\n",
    "print(target_summary)"
   ]
  },
  {
   "cell_type": "code",
   "execution_count": 15,
   "id": "1cee2bfe",
   "metadata": {},
   "outputs": [],
   "source": [
    "\n",
    "## This shows that the heart attack risk scores in your dataset range from 0 to 1, with a mean of 0.3582 and a standard deviation of 0.4795. The median score is 0, meaning that half of the people in the dataset have a heart attack risk score lower than 0 and half have a score higher than 0. The 25th and 75th percentiles are also 0 and 1, respectively, meaning that the distribution of heart attack risk scores is skewed to the right."
   ]
  },
  {
   "cell_type": "code",
   "execution_count": 16,
   "id": "c5e11077",
   "metadata": {},
   "outputs": [],
   "source": [
    "#modifying the origional dataset to only include numerical values (to be used in KNN classification)\n",
    "project_data_mod = project_data.select_dtypes(include=['float64', 'int64'])"
   ]
  },
  {
   "cell_type": "code",
   "execution_count": 17,
   "id": "239c1cb2",
   "metadata": {},
   "outputs": [],
   "source": [
    "x = project_data_mod.loc[:, project_data_mod.columns!='Heart Attack Risk']\n",
    "y = project_data_mod['Heart Attack Risk']"
   ]
  },
  {
   "cell_type": "code",
   "execution_count": 18,
   "id": "b1c89f6c",
   "metadata": {},
   "outputs": [],
   "source": [
    "#spliting into the test and train variables\n",
    "x_train, x_test, y_train, y_test = train_test_split(x, y, random_state=80, train_size=.8)"
   ]
  },
  {
   "cell_type": "code",
   "execution_count": 19,
   "id": "62ccf112",
   "metadata": {},
   "outputs": [],
   "source": [
    "scaler = MinMaxScaler()\n",
    "\n",
    "x_train_scaled = scaler.fit_transform(x_train)\n",
    "x_test_scaled = scaler.transform(x_test)"
   ]
  },
  {
   "cell_type": "code",
   "execution_count": 20,
   "id": "7e0763d8",
   "metadata": {},
   "outputs": [],
   "source": [
    "##REGRESSIONS"
   ]
  },
  {
   "cell_type": "code",
   "execution_count": 21,
   "id": "0c4f3e3d",
   "metadata": {},
   "outputs": [],
   "source": [
    "##1. LINEAR REGRESSION"
   ]
  },
  {
   "cell_type": "code",
   "execution_count": 22,
   "id": "725d82ff",
   "metadata": {},
   "outputs": [
    {
     "name": "stdout",
     "output_type": "stream",
     "text": [
      "Test R2 for Linear Regression =  -0.0048217673247723525\n",
      "Test RMSE for Linear Regression =  0.4772921149702422\n"
     ]
    }
   ],
   "source": [
    "# Create a linear regression model\n",
    "classifier_LR = LinearRegression()\n",
    "\n",
    "x_train_with_const = sm.add_constant(x_train_scaled)\n",
    "\n",
    "# Fit the model to our data\n",
    "classifier_LR.fit(x_train_with_const, y_train)\n",
    "\n",
    "# Add a constant term (intercept) to the test data\n",
    "x_test_with_const = sm.add_constant(x_test_scaled)\n",
    "\n",
    "# Make predictions on the test and training data\n",
    "pred_test_LR = classifier_LR.predict(x_test_with_const)\n",
    "\n",
    "# Calculate RMSE (Root Mean Squared Error)\n",
    "RMSE_test_LR = np.sqrt(mean_squared_error(y_test, pred_test_LR))\n",
    "\n",
    "# Calculate R-squared\n",
    "R2_test_LR = r2_score(y_test, pred_test_LR)\n",
    "\n",
    "print(\"Test R2 for Linear Regression = \", R2_test_LR)\n",
    "print(\"Test RMSE for Linear Regression = \", RMSE_test_LR)\n",
    "\n"
   ]
  },
  {
   "cell_type": "code",
   "execution_count": 23,
   "id": "ace3d78c",
   "metadata": {},
   "outputs": [],
   "source": [
    "## 1.Test R2 for Linear Regression = -0.0048217673247723525:\n",
    "## - The R2 value measures the goodness of fit of a regression model. It represents the proportion of the variance in the dependent \n",
    "## variable that is explained by the independent variables. \n",
    "## - A negative R2 indicates that the model is performing poorly and is worse than a horizontal line. In this case, the model might \n",
    "## not capture any useful information, or it might be overfitting.\n",
    "## - An R2 close to zero suggests that the model does not explain much of the variance in the data, which means it's a poor fit.\n",
    "\n",
    "## 2.Test RMSE for Linear Regression = 0.4772921149702422:\n",
    "## - The RMSE is a measure of the root mean square difference between the predicted and actual values. It quantifies the average \n",
    "## error of the model's predictions.\n",
    "## - The lower the RMSE, the better the model's predictions align with the actual values. In this case, an RMSE of 0.477 indicates \n",
    "## relatively small errors.\n",
    "\n",
    "\n",
    "### Interpretation:\n",
    "## - The model's performance, based on the provided metrics, is not satisfactory.\n",
    "## - The negative test R2 value and the test RMSE of 0.477 suggest that the model is not explaining the variance in the test data, \n",
    "## and its predictions are not accurate.\n",
    "## - It's possible that the Linear Regression model is not a good choice for this specific dataset, and other models or feature \n",
    "## engineering might be necessary to improve predictive performance.\n",
    "\n",
    "## Overall, the negative R2 value and relatively high RMSE values suggest that the model needs improvement, and further analysis \n",
    "## or a different modeling approach may be required."
   ]
  },
  {
   "cell_type": "code",
   "execution_count": 24,
   "id": "490ab1b0",
   "metadata": {},
   "outputs": [
    {
     "name": "stdout",
     "output_type": "stream",
     "text": [
      "Linear Regression Model Summary:\n",
      "                            OLS Regression Results                            \n",
      "==============================================================================\n",
      "Dep. Variable:      Heart Attack Risk   R-squared:                       0.003\n",
      "Model:                            OLS   Adj. R-squared:                  0.000\n",
      "Method:                 Least Squares   F-statistic:                     1.063\n",
      "Date:                Wed, 25 Oct 2023   Prob (F-statistic):              0.384\n",
      "Time:                        23:54:31   Log-Likelihood:                -4795.9\n",
      "No. Observations:                7010   AIC:                             9630.\n",
      "Df Residuals:                    6991   BIC:                             9760.\n",
      "Df Model:                          18                                         \n",
      "Covariance Type:            nonrobust                                         \n",
      "==============================================================================\n",
      "                 coef    std err          t      P>|t|      [0.025      0.975]\n",
      "------------------------------------------------------------------------------\n",
      "const          0.3495      0.038      9.122      0.000       0.274       0.425\n",
      "x1             0.0089      0.021      0.418      0.676      -0.033       0.051\n",
      "x2             0.0328      0.020      1.661      0.097      -0.006       0.072\n",
      "x3            -0.0040      0.020     -0.205      0.837      -0.042       0.034\n",
      "x4             0.0182      0.012      1.510      0.131      -0.005       0.042\n",
      "x5            -0.0032      0.011     -0.276      0.782      -0.026       0.019\n",
      "x6            -0.0084      0.020     -0.411      0.681      -0.048       0.032\n",
      "x7            -0.0141      0.011     -1.225      0.220      -0.037       0.008\n",
      "x8            -0.0162      0.012     -1.384      0.166      -0.039       0.007\n",
      "x9             0.0031      0.020      0.157      0.875      -0.036       0.042\n",
      "x10           -0.0029      0.011     -0.251      0.802      -0.025       0.020\n",
      "x11           -0.0021      0.011     -0.183      0.855      -0.025       0.020\n",
      "x12           -0.0116      0.018     -0.641      0.521      -0.047       0.024\n",
      "x13           -0.0086      0.020     -0.431      0.666      -0.048       0.030\n",
      "x14            0.0368      0.020      1.836      0.066      -0.002       0.076\n",
      "x15            0.0178      0.020      0.888      0.375      -0.022       0.057\n",
      "x16            0.0210      0.020      1.064      0.287      -0.018       0.060\n",
      "x17           -0.0057      0.018     -0.324      0.746      -0.040       0.029\n",
      "x18           -0.0343      0.017     -1.978      0.048      -0.068      -0.000\n",
      "==============================================================================\n",
      "Omnibus:                    32653.526   Durbin-Watson:                   1.957\n",
      "Prob(Omnibus):                  0.000   Jarque-Bera (JB):             1189.288\n",
      "Skew:                           0.577   Prob(JB):                    5.62e-259\n",
      "Kurtosis:                       1.345   Cond. No.                         18.7\n",
      "==============================================================================\n",
      "\n",
      "Notes:\n",
      "[1] Standard Errors assume that the covariance matrix of the errors is correctly specified.\n"
     ]
    }
   ],
   "source": [
    "# Model Summary\n",
    "model_summary = sm.OLS(y_train, x_train_with_const).fit()\n",
    "\n",
    "# Print the model summary\n",
    "print(\"Linear Regression Model Summary:\")\n",
    "print(model_summary.summary())"
   ]
  },
  {
   "cell_type": "code",
   "execution_count": 25,
   "id": "cd65a896",
   "metadata": {},
   "outputs": [],
   "source": [
    "## R-squared: The R-squared value is a measure of how well the model fits the data. A value of 0.003 indicates that the model only explains a very small proportion of the variation in heart attack risk.\n",
    "\n",
    "## Adjusted R-squared: The adjusted R-squared value takes into account the number of independent variables in the model. It is a more accurate measure of the model's fit than the R-squared value, especially when there are many independent variables. The adjusted R-squared value for this model is 0.000, which is very close to zero. This suggests that the model is not very effective at predicting heart attack risk, even after adjusting for the number of independent variables.\n",
    "\n",
    "## Coefficients: The coefficients for the independent variables represent the change in heart attack risk for a one-unit increase in the independent variable. For example, the coefficient for the first independent variable (x1) is 0.0089. This means that a one-unit increase in x1 is associated with an increase in heart attack risk of 0.0089. However, it is important to note that none of the coefficients are statistically significant, meaning that there is no evidence to suggest that any of the independent variables are associated with heart attack risk.\n",
    "\n",
    "## P-values: The P-values for the coefficients represent the probability of obtaining a coefficient as large or larger than the one observed, assuming that the null hypothesis is true (i.e., the independent variable is not associated with heart attack risk). P-values less than 0.05 are generally considered to be statistically significant. However, as mentioned above, none of the P-values for the coefficients in this model are statistically significant.\n",
    "\n",
    "## Overall, the linear regression model summary suggests that the model is not very effective at predicting heart attack risk. This is likely due to the fact that heart attack risk is a complex phenomenon that is influenced by many factors, including genetics, lifestyle, and medical history."
   ]
  },
  {
   "cell_type": "code",
   "execution_count": 26,
   "id": "ebd3b1bc",
   "metadata": {},
   "outputs": [
    {
     "data": {
      "image/png": "[encoded data removed]",
      "text/plain": [
       "<Figure size 640x480 with 1 Axes>"
      ]
     },
     "metadata": {},
     "output_type": "display_data"
    }
   ],
   "source": [
    "# Plot residuals for the Linear Regression test set\n",
    "residuals = y_test - pred_test_LR \n",
    "plt.scatter(pred_test_LR, residuals)\n",
    "plt.xlabel(\"Predicted Values\")\n",
    "plt.ylabel(\"Residuals\")\n",
    "plt.title(\"Residuals Plot\")\n",
    "plt.axhline(y=0, color='r', linestyle='--')\n",
    "plt.show()"
   ]
  },
  {
   "cell_type": "code",
   "execution_count": 27,
   "id": "56f29036",
   "metadata": {},
   "outputs": [],
   "source": [
    "## The linear regression residuals plot shows that the residuals are positively related to the predicted values. \n",
    "\n",
    "## This means that the model is systematically underestimating the response variable for low predicted values and overestimating the response variable for high predicted values. This pattern suggests that the linear model is not a good fit for the data.\n",
    "\n",
    "## Here are some additional observations about the residuals plot:\n",
    "\n",
    "## The residuals are not evenly scattered around zero, which suggests that the model is not homoscedastic. This means that the \n",
    "## variance of the residuals is not constant across all values of the predicted variable.\n",
    "\n",
    "## There is a slight upward trend in the residuals, which suggests that the model is not capturing all of the non-linearities in \n",
    "## the data.\n",
    "\n",
    "## Overall, the residuals plot suggests that the linear regression model is not a good fit for the data. A non-linear model may be \n",
    "## a better choice for this dataset."
   ]
  },
  {
   "cell_type": "code",
   "execution_count": 28,
   "id": "e9b35b0a",
   "metadata": {},
   "outputs": [],
   "source": [
    "### 2. PERFORMING THE RIDGE REGRESSSION"
   ]
  },
  {
   "cell_type": "code",
   "execution_count": 29,
   "id": "8efe6723",
   "metadata": {},
   "outputs": [
    {
     "name": "stdout",
     "output_type": "stream",
     "text": [
      "Optimal Alpha identified for ridge is 30679.536367065877\n"
     ]
    }
   ],
   "source": [
    "# Create a list of alpha values to test\n",
    "alphas = 10 ** np.linspace(10, -2, 100) * 0.5\n",
    "\n",
    "# Create a RidgeCV model\n",
    "ridgecv = RidgeCV(alphas=alphas, scoring='neg_mean_squared_error')\n",
    "\n",
    "# Add a constant term (intercept) to the training data\n",
    "x_train_with_const = sm.add_constant(x_train_scaled)\n",
    "\n",
    "# Add a constant term (intercept) to the test data\n",
    "x_test_with_const = sm.add_constant(x_test_scaled)\n",
    "\n",
    "# Fit the RidgeCV model to your data\n",
    "ridgecv.fit(x_train_with_const, y_train)  # Fit the model with training data\n",
    "\n",
    "# Get the optimal alpha identified by RidgeCV\n",
    "alpha_r = ridgecv.alpha_\n",
    "\n",
    "print(\"Optimal Alpha identified for ridge is {}\".format(alpha_r))"
   ]
  },
  {
   "cell_type": "code",
   "execution_count": 30,
   "id": "0aeb92c4",
   "metadata": {},
   "outputs": [
    {
     "name": "stdout",
     "output_type": "stream",
     "text": [
      "RMSE for Ridge Regression =  0.47634020742414246\n",
      "R2 for Ridge Regression =  -0.0008177472395589636\n"
     ]
    }
   ],
   "source": [
    "# create a Ridge model using the optimal alpha\n",
    "ridge = Ridge(alpha=alpha_r)\n",
    "\n",
    "# Fit the Ridge model with the training data\n",
    "ridge.fit(x_train_with_const, y_train)\n",
    "\n",
    "# Make predictions on the test and training data\n",
    "pred_test_RR = ridge.predict(x_test_with_const)\n",
    "pred_train_RR = ridge.predict(x_train_with_const)\n",
    "# Calculate RMSE and R-squared for Ridge\n",
    "RMSE_test_RR = np.sqrt(mean_squared_error(y_test, pred_test_RR))\n",
    "R2_test_RR = r2_score(y_test, pred_test_RR)\n",
    "\n",
    "print(\"RMSE for Ridge Regression = \",RMSE_test_RR)\n",
    "print(\"R2 for Ridge Regression = \", R2_test_RR)"
   ]
  },
  {
   "cell_type": "code",
   "execution_count": 31,
   "id": "5dbcb04c",
   "metadata": {},
   "outputs": [],
   "source": [
    "## 1.RMSE for Ridge Regression = 0.47634020742414246:\n",
    "## - The RMSE is a measure of the root mean square difference between the predicted values and the actual values. \n",
    "## It quantifies the average error of the model's predictions.\n",
    "## - In this context, an RMSE of 0.476 suggests that, on average, the model's predictions have an error of approximately 0.476 \n",
    "## units. Lower RMSE values are generally desirable, indicating smaller prediction errors.\n",
    "\n",
    "## 2. R2 for Ridge Regression = -0.0008177472395589636:\n",
    "## - The R2 value measures the goodness of fit of the Ridge Regression model. It represents the proportion of the variance in the \n",
    "## dependent variable that is explained by the independent variables.\n",
    "## - A negative R2 indicates that the model's performance is worse than a horizontal line, and it may not explain any useful \n",
    "## information in the data. An R2 close to zero suggests that the model does not explain much of the variance in the data, which \n",
    "## means it's a poor fit.\n",
    "\n",
    "## Interpretation:\n",
    "## - The Ridge Regression model's performance, based on the provided metrics, is not satisfactory.\n",
    "## - The negative R2 value (-0.0008) suggests that the model does not explain any meaningful variance in the data and performs \n",
    "## worse than a horizontal line.\n",
    "## - The RMSE value of 0.476 indicates that the model's predictions have a moderate average error of approximately 0.476 units, \n",
    "## which is not particularly high but should be interpreted in conjunction with the R2 value.\n",
    "\n",
    "## In summary, the Ridge Regression model, as indicated by these metrics, does not seem to be a good fit for the data, and it may \n",
    "## require further refinement or alternative modeling approaches to improve its performance."
   ]
  },
  {
   "cell_type": "code",
   "execution_count": 32,
   "id": "940703bd",
   "metadata": {},
   "outputs": [
    {
     "data": {
      "image/png": "[encoded data removed]",
      "text/plain": [
       "<Figure size 640x480 with 1 Axes>"
      ]
     },
     "metadata": {},
     "output_type": "display_data"
    }
   ],
   "source": [
    "# Plot residuals for the Ridge Regression test set\n",
    "residuals = y_test - pred_test_RR \n",
    "plt.scatter(pred_test_RR, residuals)\n",
    "plt.xlabel(\"Predicted Values\")\n",
    "plt.ylabel(\"Residuals\")\n",
    "plt.title(\"Residuals Plot\")\n",
    "plt.axhline(y=0, color='r', linestyle='--')\n",
    "plt.show()"
   ]
  },
  {
   "cell_type": "code",
   "execution_count": 33,
   "id": "923b7b7a",
   "metadata": {},
   "outputs": [],
   "source": [
    "## The Ridge Regression residuals plot suggests that the model is a good fit for the data. The residuals are randomly scattered around zero, which suggests that the model is not misspecifying the relationship between the independent and dependent variables, and the model is not biased or heteroscedastic."
   ]
  },
  {
   "cell_type": "code",
   "execution_count": 34,
   "id": "cf9b0479",
   "metadata": {},
   "outputs": [],
   "source": [
    "## 3. PERFORMING THE LASSO REGRESSSION"
   ]
  },
  {
   "cell_type": "code",
   "execution_count": 88,
   "id": "2687d3e0",
   "metadata": {},
   "outputs": [
    {
     "name": "stdout",
     "output_type": "stream",
     "text": [
      "Lasso score is 0.0017152330273343397 & Lasso alpha is 0.0017320295300305801\n"
     ]
    }
   ],
   "source": [
    "lasso_model = LassoCV(alphas=None, cv=10, max_iter=100000)\n",
    "lasso_model.fit(x_train_with_const, y_train)\n",
    "lasso_score = lasso_model.score(x_train_with_const, y_train)\n",
    "lasso_alpha = lasso_model.alpha_\n",
    "print(\"Lasso score is {} & Lasso alpha is {}\".format(lasso_score, lasso_alpha))"
   ]
  },
  {
   "cell_type": "code",
   "execution_count": 91,
   "id": "8fa877f6",
   "metadata": {},
   "outputs": [
    {
     "name": "stdout",
     "output_type": "stream",
     "text": [
      "RMSE for Lasso Regression = 0.4765248025858558\n",
      "R2 for Lasso Regression = -0.0015935873142036705\n"
     ]
    }
   ],
   "source": [
    "# Add a constant term (intercept) to the test data\n",
    "X_test_with_const = sm.add_constant(x_test_scaled)\n",
    "\n",
    "# Make predictions on the test and training data\n",
    "pred_test_LS = lasso_model.predict(X_test_with_const)\n",
    "\n",
    "# Calculate RMSE and R-squared for Lasso\n",
    "RMSE_test_LS = np.sqrt(mean_squared_error(y_test, pred_test_LS))\n",
    "\n",
    "R2_test_LS = r2_score(y_test, pred_test_LS)\n",
    "\n",
    "print(\"RMSE for Lasso Regression = {}\".format(RMSE_test_LS))\n",
    "print(\"R2 for Lasso Regression = {}\".format(R2_test_LS))"
   ]
  },
  {
   "cell_type": "code",
   "execution_count": 37,
   "id": "6a5b5b3f",
   "metadata": {},
   "outputs": [],
   "source": [
    "## 1.RMSE for Lasso Regression = 0.4765248025858558:\n",
    "## - The RMSE is a measure of the root mean square difference between the predicted values and the actual values. \n",
    "## It quantifies the average error of the model's predictions.\n",
    "## - In this context, an RMSE of 0.4765 suggests that, on average, the model's predictions have an error of approximately 0.4765 \n",
    "## units. Lower RMSE values are generally desirable, indicating smaller prediction errors.\n",
    "\n",
    "### 2. R2 for Lasso Regression = -0.0015935873142036705:\n",
    "## - The R2 value measures the goodness of fit of the Lasso Regression model. It represents the proportion of the variance in the \n",
    "## dependent variable that is explained by the independent variables.\n",
    "## - A negative R2 indicates that the model's performance is worse than a horizontal line and may not explain any useful \n",
    "## information in the data. An R2 close to zero suggests that the model does not explain much of the variance in the data, which \n",
    "## means it's a poor fit.\n",
    "\n",
    "## Interpretation:\n",
    "## - The Lasso Regression model's performance, based on the provided metrics, is not satisfactory.\n",
    "## - The negative R2 value (-0.0016) suggests that the model does not explain any meaningful variance in the data and performs \n",
    "## worse than a horizontal line.\n",
    "## - The RMSE value of 0.4765 indicates that the model's predictions have a moderate average error of approximately 0.4765 units, \n",
    "## which is not particularly high but should be interpreted in conjunction with the R2 value.\n",
    "\n",
    "## In summary, the Lasso Regression model, as indicated by these metrics, does not seem to be a good fit for the data, and it may \n",
    "## require further refinement or alternative modeling approaches to improve its performance."
   ]
  },
  {
   "cell_type": "code",
   "execution_count": 38,
   "id": "c8d51cd7",
   "metadata": {},
   "outputs": [
    {
     "data": {
      "image/png": "[encoded data removed]",
      "text/plain": [
       "<Figure size 640x480 with 1 Axes>"
      ]
     },
     "metadata": {},
     "output_type": "display_data"
    }
   ],
   "source": [
    "# Plot residuals for the lasso Regression set\n",
    "residuals = y_test - pred_test_LS \n",
    "plt.scatter(pred_test_LS, residuals)\n",
    "plt.xlabel(\"Predicted Values\")\n",
    "plt.ylabel(\"Residuals\")\n",
    "plt.title(\"Residuals Plot\")\n",
    "plt.axhline(y=0, color='r', linestyle='--')\n",
    "plt.show()"
   ]
  },
  {
   "cell_type": "code",
   "execution_count": 39,
   "id": "18a1c324",
   "metadata": {},
   "outputs": [],
   "source": [
    "## The Lasso Regression residuals plot you sent shows that the residuals are positively related to the predicted values. \n",
    "## This means that, as the predicted values increase, the residuals also tend to increase. This pattern can be seen in the plot, \n",
    "## where the residuals are generally higher for higher predicted values."
   ]
  },
  {
   "cell_type": "code",
   "execution_count": 40,
   "id": "c2560694",
   "metadata": {},
   "outputs": [],
   "source": [
    "##LOGISTIC REGRESSION"
   ]
  },
  {
   "cell_type": "code",
   "execution_count": 83,
   "id": "f577c048",
   "metadata": {},
   "outputs": [
    {
     "name": "stdout",
     "output_type": "stream",
     "text": [
      "Test R2 for Logistic Regression =  -0.5323426573426571\n",
      "Test RMSE for Logistic Regression =  0.5894102556921765\n",
      "Accuracy of logistic regression model is 65.3%\n"
     ]
    }
   ],
   "source": [
    "from sklearn.linear_model import LogisticRegression\n",
    "from sklearn.metrics import mean_squared_error, r2_score\n",
    "import statsmodels.api as sm\n",
    "import numpy as np\n",
    "\n",
    "# Create a logistic regression model\n",
    "classifier_logistic = LogisticRegression()\n",
    "\n",
    "# Fit the model to your data\n",
    "classifier_logistic.fit(x_train_scaled, y_train)\n",
    "\n",
    "# Make predictions on the test and training data\n",
    "pred_test_logistic = classifier_logistic.predict(x_test_scaled)\n",
    "\n",
    "# Confusion Matrix\n",
    "lr_matrix = confusion_matrix(y_test, pred_test_logistic)\n",
    "\n",
    "# Evaluate the model's accuracy\n",
    "lr_acc = round(accuracy_score(y_test, pred_test_logistic), 3)\n",
    "\n",
    "# Calculate R-squared\n",
    "R2_test_logistic = r2_score(y_test, pred_test_logistic)\n",
    "\n",
    "# Calculate RMSE\n",
    "RMSE_test_logistic = np.sqrt(mean_squared_error(y_test, pred_test_logistic))\n",
    "\n",
    "print(\"Test R2 for Logistic Regression = \", R2_test_logistic)\n",
    "print(\"Test RMSE for Logistic Regression = \", RMSE_test_logistic)\n",
    "print(f'Accuracy of logistic regression model is {lr_acc * 100}%')"
   ]
  },
  {
   "cell_type": "code",
   "execution_count": 42,
   "id": "6b87c338",
   "metadata": {},
   "outputs": [],
   "source": [
    "##setting up our parameters for KNN\n",
    "\n",
    "#loop to test for being no. of neighbors\n",
    "max_1 = len(project_data)**0.5\n",
    "num_neighbors = range(1,int(max_1))\n",
    "\n",
    "#lists to capture scores for each no. of neighbors instance\n",
    "train_acc = []\n",
    "test_acc = []"
   ]
  },
  {
   "cell_type": "code",
   "execution_count": 43,
   "id": "369776fa",
   "metadata": {},
   "outputs": [],
   "source": [
    "##4. KNN"
   ]
  },
  {
   "cell_type": "code",
   "execution_count": 44,
   "id": "e404e751",
   "metadata": {},
   "outputs": [
    {
     "data": {
      "image/png": "[encoded data removed]",
      "text/plain": [
       "<Figure size 800x600 with 2 Axes>"
      ]
     },
     "metadata": {},
     "output_type": "display_data"
    },
    {
     "name": "stdout",
     "output_type": "stream",
     "text": [
      "Accuracy of KNN model is 65.031374786081%\n",
      "Confusion Matrix:\n",
      "[[1140    4]\n",
      " [ 609    0]]\n"
     ]
    }
   ],
   "source": [
    "from sklearn.metrics import confusion_matrix, accuracy_score\n",
    "import seaborn as sns\n",
    "import matplotlib.pyplot as plt\n",
    "\n",
    "# Create and fit a KNN model with the desired number of neighbors\n",
    "knn = KNeighborsClassifier(n_neighbors=80)\n",
    "knn.fit(x_train_scaled, y_train)\n",
    "\n",
    "# Make predictions on the test data\n",
    "y_pred = knn.predict(x_test_scaled)\n",
    "\n",
    "# Calculate the confusion matrix\n",
    "knn_conf_matrix = confusion_matrix(y_test, y_pred)\n",
    "\n",
    "# Calculate the accuracy\n",
    "accuracy = accuracy_score(y_test, y_pred)\n",
    "\n",
    "# Plot the confusion matrix as a heatmap\n",
    "plt.figure(figsize=(8, 6))\n",
    "sns.heatmap(knn_conf_matrix, annot=True, fmt='d', cmap='Blues', xticklabels=['Predicted Negative', 'Predicted Positive'], yticklabels=['Actual Negative', 'Actual Positive'])\n",
    "plt.xlabel('Predicted')\n",
    "plt.ylabel('Actual')\n",
    "plt.title('Confusion Matrix')\n",
    "plt.show()\n",
    "\n",
    "print(f'Accuracy of KNN model is {accuracy * 100}%')\n",
    "print('Confusion Matrix:')\n",
    "print(knn_conf_matrix)"
   ]
  },
  {
   "cell_type": "code",
   "execution_count": 45,
   "id": "858b35ee",
   "metadata": {},
   "outputs": [],
   "source": [
    "## Accuracy: The accuracy of a machine learning model is the proportion of predictions that the model makes correctly.\n",
    "          ## The KNN model has an accuracy of 0.6503, which means that it has correctly predicted 65.03% of the data points in \n",
    "          ## the test set.\n",
    "\n",
    "## Confusion matrix: A confusion matrix is a table that shows the number of correct and incorrect predictions made by a machine \n",
    "                 ## learning model. The confusion matrix you provided shows that the KNN model has correctly predicted 1140 \n",
    "               ##   positive cases and 609 negative cases. It has also incorrectly predicted 4 positive cases and 0 negative cases.\n",
    "\n",
    "##Overall, the KNN model is performing well on the test set, with an accuracy of 0.6503.\n",
    "\n",
    "##Here is a more detailed interpretation of the confusion matrix:\n",
    "\n",
    "## True positives (TP): These are the cases where the model correctly predicts a positive outcome. In this case, the TP value is 1140.\n",
    "## False positives (FP): These are the cases where the model incorrectly predicts a positive outcome. In this case, the FP value is 4.\n",
    "## True negatives (TN): These are the cases where the model correctly predicts a negative outcome. In this case, the TN value is 0.\n",
    "## False negatives (FN): These are the cases where the model incorrectly predicts a negative outcome. In this case, the FN value is 609.\n",
    "## The following metrics can be calculated from the confusion matrix:\n",
    "\n",
    "## Precision: This metric measures the proportion of positive predictions that are actually correct. In this case, the precision is calculated as follows:\n",
    "## Precision = TP / (TP + FP) = 1140 / (1140 + 4) = 0.996\n",
    "## Recall: This metric measures the proportion of actual positive cases that are correctly predicted. In this case, the recall is calculated as follows:\n",
    "## Recall = TP / (TP + FN) = 1140 / (1140 + 609) = 0.6503\n",
    "## The precision and recall metrics are both important, and they should be considered together when evaluating the performance of a machine learning model. In this case, the KNN model has a high precision, which means that most of its positive predictions are correct. However, the recall is lower, which means that the model is missing some actual positive cases.\n",
    "\n",
    "## Overall, the KNN model is performing well on the test set."
   ]
  },
  {
   "cell_type": "code",
   "execution_count": 46,
   "id": "2cd3b211",
   "metadata": {},
   "outputs": [
    {
     "name": "stdout",
     "output_type": "stream",
     "text": [
      "KNN Model with 80 Neighbors:\n",
      "Accuracy of KNN model is 65.031374786081%\n"
     ]
    }
   ],
   "source": [
    "from sklearn.metrics import accuracy_score\n",
    "\n",
    "# Create and fit a KNN model with 80 neighbors\n",
    "knn = KNeighborsClassifier(n_neighbors=80)\n",
    "knn.fit(x_train_scaled, y_train)\n",
    "\n",
    "# Make predictions on the training and test data\n",
    "y_test_pred = knn.predict(x_test_scaled)\n",
    "\n",
    "#confusion matrix\n",
    "# Calculate the accuracy on the training and test data\n",
    "knn_test_accuracy = accuracy_score(y_test, y_test_pred)\n",
    "\n",
    "knn_matrix = confusion_matrix(y_test, y_pred)\n",
    "\n",
    "print(\"KNN Model with 80 Neighbors:\")\n",
    "print(f'Accuracy of KNN model is {knn_test_accuracy * 100}%')"
   ]
  },
  {
   "cell_type": "code",
   "execution_count": 47,
   "id": "ce4c5326",
   "metadata": {},
   "outputs": [
    {
     "data": {
      "image/png": "[encoded data removed]",
      "text/plain": [
       "<Figure size 1000x600 with 1 Axes>"
      ]
     },
     "metadata": {},
     "output_type": "display_data"
    }
   ],
   "source": [
    "from sklearn.neighbors import KNeighborsClassifier\n",
    "import matplotlib.pyplot as plt\n",
    "\n",
    "# Initialize empty lists to store accuracy values\n",
    "train_accuracies = []\n",
    "test_accuracies = []\n",
    "\n",
    "# Create a list of the number of neighbors to test\n",
    "k_values = list(range(1, 101))\n",
    "\n",
    "# Loop through different values of k\n",
    "for k in k_values:\n",
    "    # Create and fit a KNN model with k neighbors\n",
    "    knn = KNeighborsClassifier(n_neighbors=k)\n",
    "    knn.fit(x_train_scaled, y_train)\n",
    "    \n",
    "    # Calculate the accuracy on the training and test data\n",
    "    train_accuracy = knn.score(x_train_scaled, y_train)\n",
    "    test_accuracy = knn.score(x_test_scaled, y_test)\n",
    "    \n",
    "    train_accuracies.append(train_accuracy)\n",
    "    test_accuracies.append(knn_test_accuracy)\n",
    "\n",
    "# Plot accuracy against the number of neighbors\n",
    "plt.figure(figsize=(10, 6))\n",
    "plt.plot(k_values, train_accuracies, label='Train Accuracy', marker='o')\n",
    "plt.plot(k_values, test_accuracies, label='Test Accuracy', marker='o')\n",
    "plt.title('Accuracy vs. Number of Neighbors (K)')\n",
    "plt.xlabel('Number of Neighbors (K)')\n",
    "plt.ylabel('Accuracy')\n",
    "plt.legend()\n",
    "plt.grid(True)\n",
    "plt.show()"
   ]
  },
  {
   "cell_type": "code",
   "execution_count": 48,
   "id": "b3af7df9",
   "metadata": {},
   "outputs": [],
   "source": [
    "## The plot shows that the accuracy of the model increases as the number of neighbors increases, up to a point. After that, the accuracy starts to decrease. This is because, with a larger number of neighbors, the model is more likely to be influenced by outliers in the training data.\n",
    "\n",
    "## The best value of K for this model is 8, as it gives the highest accuracy on the held-out test set. This means that, to classify a new data point, the model will find the 8 most similar data points in the training set and then assign the new data point to the class that is most common among those 8 data points.\n",
    "\n",
    "## Overall, the plot shows that the KNN model is able to learn from the training data and make accurate predictions on new data. However, it is important to choose the right value of K, as this can have a significant impact on the performance of the model.\n",
    "\n",
    "## Here is a more detailed interpretation of the plot:\n",
    "\n",
    "## The Accuracy measure is the proportion of data points that the model predicts correctly. In this case, the accuracy of the model is 0.6503 when K=8. This means that the model is able to predict the class of a new data point correctly 65.03% of the time.\n",
    "\n",
    "## The Number of Neighbors (K) is a parameter that controls how many data points are used to make a prediction. In this case, the plot shows the accuracy of the model for different values of K.\n",
    "\n",
    "## The Training Accuracy is the accuracy of the model on the training data. In this case, the training accuracy of the model is 0.6399. This means that the model is able to predict the class of a training data point correctly 63.99% of the time.\n",
    "\n",
    "## The Test Accuracy is the accuracy of the model on the held-out test set. In this case, the test accuracy of the model is 0.6503. This means that the model is able to predict the class of a test data point correctly 65.03% of the time.\n",
    "\n",
    "## The fact that the test accuracy of the model is higher than the training accuracy is a good sign. It suggests that the model is not overfitting the training data and is able to generalize well to new data."
   ]
  },
  {
   "cell_type": "code",
   "execution_count": 49,
   "id": "e8f2d04c",
   "metadata": {},
   "outputs": [],
   "source": [
    "##FEATURE RANKING"
   ]
  },
  {
   "cell_type": "code",
   "execution_count": 50,
   "id": "341f2aed",
   "metadata": {},
   "outputs": [
    {
     "name": "stdout",
     "output_type": "stream",
     "text": [
      "Rank 1: Feature 5, Importance: 0.06878800690174103\n",
      "Rank 2: Feature 10, Importance: 0.06388190388679504\n",
      "Rank 3: Feature 1, Importance: 0.05873865261673927\n",
      "Rank 4: Feature 2, Importance: 0.0573212169110775\n",
      "Rank 5: Feature 3, Importance: 0.056982483714818954\n",
      "Rank 6: Feature 15, Importance: 0.05678156763315201\n",
      "Rank 7: Feature 0, Importance: 0.05566376820206642\n",
      "Rank 8: Feature 12, Importance: 0.05534452572464943\n",
      "Rank 9: Feature 13, Importance: 0.05511891841888428\n",
      "Rank 10: Feature 14, Importance: 0.05489208176732063\n",
      "Rank 11: Feature 8, Importance: 0.05473950132727623\n",
      "Rank 12: Feature 4, Importance: 0.053155988454818726\n",
      "Rank 13: Feature 16, Importance: 0.052927710115909576\n",
      "Rank 14: Feature 7, Importance: 0.05292196944355965\n",
      "Rank 15: Feature 11, Importance: 0.0529213473200798\n",
      "Rank 16: Feature 17, Importance: 0.05244191363453865\n",
      "Rank 17: Feature 9, Importance: 0.048830803483724594\n",
      "Rank 18: Feature 6, Importance: 0.04854761064052582\n"
     ]
    }
   ],
   "source": [
    "from xgboost import XGBClassifier\n",
    "\n",
    "# Create an XGBoost classifier\n",
    "classifier_xgboost = XGBClassifier()\n",
    "\n",
    "# Fit the model to your data\n",
    "classifier_xgboost.fit(x_train_scaled, y_train)\n",
    "\n",
    "# Get feature importances\n",
    "feature_importances = classifier_xgboost.feature_importances_\n",
    "\n",
    "# Rank features by importance scores\n",
    "feature_ranking = sorted(range(len(feature_importances)), key=lambda i: feature_importances[i], reverse=True)\n",
    "\n",
    "# Display feature ranking\n",
    "for rank, index in enumerate(feature_ranking):\n",
    "    print(f\"Rank {rank + 1}: Feature {index}, Importance: {feature_importances[index]}\")\n"
   ]
  },
  {
   "cell_type": "code",
   "execution_count": 51,
   "id": "63a98cc8",
   "metadata": {},
   "outputs": [],
   "source": [
    "##XG BOOST"
   ]
  },
  {
   "cell_type": "code",
   "execution_count": 92,
   "id": "6c0cd516",
   "metadata": {},
   "outputs": [
    {
     "name": "stdout",
     "output_type": "stream",
     "text": [
      "Test Accuracy for XGBoost = 57.84%\n",
      "Confusion Matrix for XGBoost:\n",
      "[[867 277]\n",
      " [462 147]]\n"
     ]
    }
   ],
   "source": [
    "from xgboost import XGBClassifier\n",
    "from sklearn.metrics import accuracy_score, confusion_matrix\n",
    "import statsmodels.api as sm\n",
    "\n",
    "# Create an XGBoost classifier\n",
    "classifier_xgboost = XGBClassifier()\n",
    "\n",
    "# Fit the model to your data\n",
    "classifier_xgboost.fit(x_train_scaled, y_train)\n",
    "\n",
    "# Make predictions on the test and training data\n",
    "pred_test_xgboost = classifier_xgboost.predict(x_test_scaled)\n",
    "\n",
    "# Calculate accuracy (classification metric)\n",
    "accuracy_test_xgboost = accuracy_score(y_test, pred_test_xgboost)\n",
    "\n",
    "# Calculate the confusion matrix\n",
    "confusion_matrix_xgboost = confusion_matrix(y_test, pred_test_xgboost)\n",
    "\n",
    "print(\"Test Accuracy for XGBoost = {:.2f}%\".format(accuracy_test_xgboost * 100))\n",
    "print(\"Confusion Matrix for XGBoost:\")\n",
    "print(confusion_matrix_xgboost)"
   ]
  },
  {
   "cell_type": "code",
   "execution_count": 53,
   "id": "720c983f",
   "metadata": {},
   "outputs": [],
   "source": [
    "##DECISION TREE"
   ]
  },
  {
   "cell_type": "code",
   "execution_count": 54,
   "id": "922c399d",
   "metadata": {},
   "outputs": [
    {
     "name": "stdout",
     "output_type": "stream",
     "text": [
      "Accuracy of Decision tree model is 55.00000000000001%\n"
     ]
    }
   ],
   "source": [
    "from sklearn.tree import DecisionTreeClassifier\n",
    "\n",
    "# Train a Decision tree model\n",
    "tree_model = DecisionTreeClassifier()\n",
    "tree_model.fit(x_train_scaled, y_train)\n",
    "\n",
    "# Predict target values for test data\n",
    "y_pred = tree_model.predict(x_test_scaled)\n",
    "\n",
    "# Confusion Matrix\n",
    "tree_matrix = confusion_matrix(y_test, y_pred)\n",
    "\n",
    "# Evaluate the model's accuracy\n",
    "tree_acc = round(accuracy_score(y_test, y_pred), 3)\n",
    "print(f'Accuracy of Decision tree model is {tree_acc * 100}%')"
   ]
  },
  {
   "cell_type": "code",
   "execution_count": 55,
   "id": "d78d8d24",
   "metadata": {},
   "outputs": [],
   "source": [
    "##SVC"
   ]
  },
  {
   "cell_type": "code",
   "execution_count": 56,
   "id": "69771596",
   "metadata": {},
   "outputs": [
    {
     "name": "stdout",
     "output_type": "stream",
     "text": [
      "{'linear': 0.652595550484883, 'poly': 0.638904734740445, 'rbf': 0.6514546491728466, 'sigmoid': 0.5521962350256703}\n"
     ]
    }
   ],
   "source": [
    "kernels = ['linear', 'poly', 'rbf', 'sigmoid']\n",
    "score_list = {}  # Create an empty dictionary to store scores\n",
    "\n",
    "from sklearn.svm import SVC\n",
    "\n",
    "for k in kernels:\n",
    "    svm_model = SVC(kernel=k)\n",
    "    svm_model.fit(x_train_scaled, y_train)\n",
    "    f_score = svm_model.score(x_test_scaled, y_test)\n",
    "    score_list[k] = f_score  # Use the kernel type 'k' as the key to update the scores\n",
    "\n",
    "print(score_list)"
   ]
  },
  {
   "cell_type": "code",
   "execution_count": 57,
   "id": "c83cf0f3",
   "metadata": {},
   "outputs": [
    {
     "name": "stdout",
     "output_type": "stream",
     "text": [
      "Accuracy of Support vector classifier model is 65.10000000000001%\n"
     ]
    }
   ],
   "source": [
    "# Train a SVC model\n",
    "svm_model = SVC(kernel = 'rbf')\n",
    "svm_model.fit(x_train_scaled, y_train)\n",
    "\n",
    "# Predict target values for test data\n",
    "y_pred = svm_model.predict(x_test_scaled)\n",
    "\n",
    "# Confusion Matrix\n",
    "svm_matrix = confusion_matrix(y_test, y_pred)\n",
    "\n",
    "# Evaluate the model's accuracy\n",
    "svm_acc = round(accuracy_score(y_test, y_pred),3)\n",
    "print(f'Accuracy of Support vector classifier model is {svm_acc * 100}%')"
   ]
  },
  {
   "cell_type": "code",
   "execution_count": null,
   "id": "983e0da1",
   "metadata": {},
   "outputs": [],
   "source": [
    "##RANDOM FOREST"
   ]
  },
  {
   "cell_type": "code",
   "execution_count": 58,
   "id": "b2fe7012",
   "metadata": {},
   "outputs": [
    {
     "name": "stdout",
     "output_type": "stream",
     "text": [
      "Accuracy of Random forest classifier model is 65.10000000000001%\n"
     ]
    }
   ],
   "source": [
    "from sklearn.ensemble import RandomForestClassifier\n",
    "\n",
    "# Train a Random forest model\n",
    "rf_model = RandomForestClassifier()\n",
    "rf_model.fit(x_train, y_train)\n",
    "\n",
    "# Predict target values for test data\n",
    "y_pred = rf_model.predict(x_test)\n",
    "\n",
    "# Confusion Matrix\n",
    "rf_matrix = confusion_matrix(y_test, y_pred)\n",
    "\n",
    "# Evaluate the model's accuracy\n",
    "rf_acc = round(accuracy_score(y_test, y_pred), 3)\n",
    "print(f'Accuracy of Random forest classifier model is {svm_acc * 100}%')"
   ]
  },
  {
   "cell_type": "code",
   "execution_count": 59,
   "id": "5255122d",
   "metadata": {},
   "outputs": [],
   "source": [
    "##Confusion matrix for each classification model"
   ]
  },
  {
   "cell_type": "code",
   "execution_count": 102,
   "id": "89dd259e",
   "metadata": {},
   "outputs": [
    {
     "data": {
      "application/vnd.plotly.v1+json": {
       "config": {
        "plotlyServerURL": "https://plot.ly"
       },
       "data": [
        {
         "alignmentgroup": "True",
         "hovertemplate": "Classifier=%{x}<br>Accuracy=%{marker.color}<extra></extra>",
         "legendgroup": "",
         "marker": {
          "color": [
           0.651,
           0.636,
           0.6503137478608101,
           0.55,
           0.653,
           0.57843696520251
          ],
          "coloraxis": "coloraxis",
          "pattern": {
           "shape": ""
          }
         },
         "name": "",
         "offsetgroup": "",
         "orientation": "v",
         "showlegend": false,
         "text": [
          0.651,
          0.636,
          0.6503137478608101,
          0.55,
          0.653,
          0.57843696520251
         ],
         "textposition": "auto",
         "type": "bar",
         "x": [
          "SVC",
          "Random Forest",
          "KNN",
          "Decision Tree",
          "XG BOOST",
          "Logistic Regression"
         ],
         "xaxis": "x",
         "y": [
          0.651,
          0.636,
          0.6503137478608101,
          0.55,
          0.653,
          0.57843696520251
         ],
         "yaxis": "y"
        }
       ],
       "layout": {
        "barmode": "relative",
        "coloraxis": {
         "colorbar": {
          "title": {
           "text": "Accuracy"
          }
         },
         "colorscale": [
          [
           0,
           "rgb(103,0,31)"
          ],
          [
           0.1,
           "rgb(178,24,43)"
          ],
          [
           0.2,
           "rgb(214,96,77)"
          ],
          [
           0.3,
           "rgb(244,165,130)"
          ],
          [
           0.4,
           "rgb(253,219,199)"
          ],
          [
           0.5,
           "rgb(247,247,247)"
          ],
          [
           0.6,
           "rgb(209,229,240)"
          ],
          [
           0.7,
           "rgb(146,197,222)"
          ],
          [
           0.8,
           "rgb(67,147,195)"
          ],
          [
           0.9,
           "rgb(33,102,172)"
          ],
          [
           1,
           "rgb(5,48,97)"
          ]
         ]
        },
        "legend": {
         "tracegroupgap": 0
        },
        "margin": {
         "t": 60
        },
        "template": {
         "data": {
          "bar": [
           {
            "error_x": {
             "color": "#2a3f5f"
            },
            "error_y": {
             "color": "#2a3f5f"
            },
            "marker": {
             "line": {
              "color": "#E5ECF6",
              "width": 0.5
             },
             "pattern": {
              "fillmode": "overlay",
              "size": 10,
              "solidity": 0.2
             }
            },
            "type": "bar"
           }
          ],
          "barpolar": [
           {
            "marker": {
             "line": {
              "color": "#E5ECF6",
              "width": 0.5
             },
             "pattern": {
              "fillmode": "overlay",
              "size": 10,
              "solidity": 0.2
             }
            },
            "type": "barpolar"
           }
          ],
          "carpet": [
           {
            "aaxis": {
             "endlinecolor": "#2a3f5f",
             "gridcolor": "white",
             "linecolor": "white",
             "minorgridcolor": "white",
             "startlinecolor": "#2a3f5f"
            },
            "baxis": {
             "endlinecolor": "#2a3f5f",
             "gridcolor": "white",
             "linecolor": "white",
             "minorgridcolor": "white",
             "startlinecolor": "#2a3f5f"
            },
            "type": "carpet"
           }
          ],
          "choropleth": [
           {
            "colorbar": {
             "outlinewidth": 0,
             "ticks": ""
            },
            "type": "choropleth"
           }
          ],
          "contour": [
           {
            "colorbar": {
             "outlinewidth": 0,
             "ticks": ""
            },
            "colorscale": [
             [
              0,
              "#0d0887"
             ],
             [
              0.1111111111111111,
              "#46039f"
             ],
             [
              0.2222222222222222,
              "#7201a8"
             ],
             [
              0.3333333333333333,
              "#9c179e"
             ],
             [
              0.4444444444444444,
              "#bd3786"
             ],
             [
              0.5555555555555556,
              "#d8576b"
             ],
             [
              0.6666666666666666,
              "#ed7953"
             ],
             [
              0.7777777777777778,
              "#fb9f3a"
             ],
             [
              0.8888888888888888,
              "#fdca26"
             ],
             [
              1,
              "#f0f921"
             ]
            ],
            "type": "contour"
           }
          ],
          "contourcarpet": [
           {
            "colorbar": {
             "outlinewidth": 0,
             "ticks": ""
            },
            "type": "contourcarpet"
           }
          ],
          "heatmap": [
           {
            "colorbar": {
             "outlinewidth": 0,
             "ticks": ""
            },
            "colorscale": [
             [
              0,
              "#0d0887"
             ],
             [
              0.1111111111111111,
              "#46039f"
             ],
             [
              0.2222222222222222,
              "#7201a8"
             ],
             [
              0.3333333333333333,
              "#9c179e"
             ],
             [
              0.4444444444444444,
              "#bd3786"
             ],
             [
              0.5555555555555556,
              "#d8576b"
             ],
             [
              0.6666666666666666,
              "#ed7953"
             ],
             [
              0.7777777777777778,
              "#fb9f3a"
             ],
             [
              0.8888888888888888,
              "#fdca26"
             ],
             [
              1,
              "#f0f921"
             ]
            ],
            "type": "heatmap"
           }
          ],
          "heatmapgl": [
           {
            "colorbar": {
             "outlinewidth": 0,
             "ticks": ""
            },
            "colorscale": [
             [
              0,
              "#0d0887"
             ],
             [
              0.1111111111111111,
              "#46039f"
             ],
             [
              0.2222222222222222,
              "#7201a8"
             ],
             [
              0.3333333333333333,
              "#9c179e"
             ],
             [
              0.4444444444444444,
              "#bd3786"
             ],
             [
              0.5555555555555556,
              "#d8576b"
             ],
             [
              0.6666666666666666,
              "#ed7953"
             ],
             [
              0.7777777777777778,
              "#fb9f3a"
             ],
             [
              0.8888888888888888,
              "#fdca26"
             ],
             [
              1,
              "#f0f921"
             ]
            ],
            "type": "heatmapgl"
           }
          ],
          "histogram": [
           {
            "marker": {
             "pattern": {
              "fillmode": "overlay",
              "size": 10,
              "solidity": 0.2
             }
            },
            "type": "histogram"
           }
          ],
          "histogram2d": [
           {
            "colorbar": {
             "outlinewidth": 0,
             "ticks": ""
            },
            "colorscale": [
             [
              0,
              "#0d0887"
             ],
             [
              0.1111111111111111,
              "#46039f"
             ],
             [
              0.2222222222222222,
              "#7201a8"
             ],
             [
              0.3333333333333333,
              "#9c179e"
             ],
             [
              0.4444444444444444,
              "#bd3786"
             ],
             [
              0.5555555555555556,
              "#d8576b"
             ],
             [
              0.6666666666666666,
              "#ed7953"
             ],
             [
              0.7777777777777778,
              "#fb9f3a"
             ],
             [
              0.8888888888888888,
              "#fdca26"
             ],
             [
              1,
              "#f0f921"
             ]
            ],
            "type": "histogram2d"
           }
          ],
          "histogram2dcontour": [
           {
            "colorbar": {
             "outlinewidth": 0,
             "ticks": ""
            },
            "colorscale": [
             [
              0,
              "#0d0887"
             ],
             [
              0.1111111111111111,
              "#46039f"
             ],
             [
              0.2222222222222222,
              "#7201a8"
             ],
             [
              0.3333333333333333,
              "#9c179e"
             ],
             [
              0.4444444444444444,
              "#bd3786"
             ],
             [
              0.5555555555555556,
              "#d8576b"
             ],
             [
              0.6666666666666666,
              "#ed7953"
             ],
             [
              0.7777777777777778,
              "#fb9f3a"
             ],
             [
              0.8888888888888888,
              "#fdca26"
             ],
             [
              1,
              "#f0f921"
             ]
            ],
            "type": "histogram2dcontour"
           }
          ],
          "mesh3d": [
           {
            "colorbar": {
             "outlinewidth": 0,
             "ticks": ""
            },
            "type": "mesh3d"
           }
          ],
          "parcoords": [
           {
            "line": {
             "colorbar": {
              "outlinewidth": 0,
              "ticks": ""
             }
            },
            "type": "parcoords"
           }
          ],
          "pie": [
           {
            "automargin": true,
            "type": "pie"
           }
          ],
          "scatter": [
           {
            "fillpattern": {
             "fillmode": "overlay",
             "size": 10,
             "solidity": 0.2
            },
            "type": "scatter"
           }
          ],
          "scatter3d": [
           {
            "line": {
             "colorbar": {
              "outlinewidth": 0,
              "ticks": ""
             }
            },
            "marker": {
             "colorbar": {
              "outlinewidth": 0,
              "ticks": ""
             }
            },
            "type": "scatter3d"
           }
          ],
          "scattercarpet": [
           {
            "marker": {
             "colorbar": {
              "outlinewidth": 0,
              "ticks": ""
             }
            },
            "type": "scattercarpet"
           }
          ],
          "scattergeo": [
           {
            "marker": {
             "colorbar": {
              "outlinewidth": 0,
              "ticks": ""
             }
            },
            "type": "scattergeo"
           }
          ],
          "scattergl": [
           {
            "marker": {
             "colorbar": {
              "outlinewidth": 0,
              "ticks": ""
             }
            },
            "type": "scattergl"
           }
          ],
          "scattermapbox": [
           {
            "marker": {
             "colorbar": {
              "outlinewidth": 0,
              "ticks": ""
             }
            },
            "type": "scattermapbox"
           }
          ],
          "scatterpolar": [
           {
            "marker": {
             "colorbar": {
              "outlinewidth": 0,
              "ticks": ""
             }
            },
            "type": "scatterpolar"
           }
          ],
          "scatterpolargl": [
           {
            "marker": {
             "colorbar": {
              "outlinewidth": 0,
              "ticks": ""
             }
            },
            "type": "scatterpolargl"
           }
          ],
          "scatterternary": [
           {
            "marker": {
             "colorbar": {
              "outlinewidth": 0,
              "ticks": ""
             }
            },
            "type": "scatterternary"
           }
          ],
          "surface": [
           {
            "colorbar": {
             "outlinewidth": 0,
             "ticks": ""
            },
            "colorscale": [
             [
              0,
              "#0d0887"
             ],
             [
              0.1111111111111111,
              "#46039f"
             ],
             [
              0.2222222222222222,
              "#7201a8"
             ],
             [
              0.3333333333333333,
              "#9c179e"
             ],
             [
              0.4444444444444444,
              "#bd3786"
             ],
             [
              0.5555555555555556,
              "#d8576b"
             ],
             [
              0.6666666666666666,
              "#ed7953"
             ],
             [
              0.7777777777777778,
              "#fb9f3a"
             ],
             [
              0.8888888888888888,
              "#fdca26"
             ],
             [
              1,
              "#f0f921"
             ]
            ],
            "type": "surface"
           }
          ],
          "table": [
           {
            "cells": {
             "fill": {
              "color": "#EBF0F8"
             },
             "line": {
              "color": "white"
             }
            },
            "header": {
             "fill": {
              "color": "#C8D4E3"
             },
             "line": {
              "color": "white"
             }
            },
            "type": "table"
           }
          ]
         },
         "layout": {
          "annotationdefaults": {
           "arrowcolor": "#2a3f5f",
           "arrowhead": 0,
           "arrowwidth": 1
          },
          "autotypenumbers": "strict",
          "coloraxis": {
           "colorbar": {
            "outlinewidth": 0,
            "ticks": ""
           }
          },
          "colorscale": {
           "diverging": [
            [
             0,
             "#8e0152"
            ],
            [
             0.1,
             "#c51b7d"
            ],
            [
             0.2,
             "#de77ae"
            ],
            [
             0.3,
             "#f1b6da"
            ],
            [
             0.4,
             "#fde0ef"
            ],
            [
             0.5,
             "#f7f7f7"
            ],
            [
             0.6,
             "#e6f5d0"
            ],
            [
             0.7,
             "#b8e186"
            ],
            [
             0.8,
             "#7fbc41"
            ],
            [
             0.9,
             "#4d9221"
            ],
            [
             1,
             "#276419"
            ]
           ],
           "sequential": [
            [
             0,
             "#0d0887"
            ],
            [
             0.1111111111111111,
             "#46039f"
            ],
            [
             0.2222222222222222,
             "#7201a8"
            ],
            [
             0.3333333333333333,
             "#9c179e"
            ],
            [
             0.4444444444444444,
             "#bd3786"
            ],
            [
             0.5555555555555556,
             "#d8576b"
            ],
            [
             0.6666666666666666,
             "#ed7953"
            ],
            [
             0.7777777777777778,
             "#fb9f3a"
            ],
            [
             0.8888888888888888,
             "#fdca26"
            ],
            [
             1,
             "#f0f921"
            ]
           ],
           "sequentialminus": [
            [
             0,
             "#0d0887"
            ],
            [
             0.1111111111111111,
             "#46039f"
            ],
            [
             0.2222222222222222,
             "#7201a8"
            ],
            [
             0.3333333333333333,
             "#9c179e"
            ],
            [
             0.4444444444444444,
             "#bd3786"
            ],
            [
             0.5555555555555556,
             "#d8576b"
            ],
            [
             0.6666666666666666,
             "#ed7953"
            ],
            [
             0.7777777777777778,
             "#fb9f3a"
            ],
            [
             0.8888888888888888,
             "#fdca26"
            ],
            [
             1,
             "#f0f921"
            ]
           ]
          },
          "colorway": [
           "#636efa",
           "#EF553B",
           "#00cc96",
           "#ab63fa",
           "#FFA15A",
           "#19d3f3",
           "#FF6692",
           "#B6E880",
           "#FF97FF",
           "#FECB52"
          ],
          "font": {
           "color": "#2a3f5f"
          },
          "geo": {
           "bgcolor": "white",
           "lakecolor": "white",
           "landcolor": "#E5ECF6",
           "showlakes": true,
           "showland": true,
           "subunitcolor": "white"
          },
          "hoverlabel": {
           "align": "left"
          },
          "hovermode": "closest",
          "mapbox": {
           "style": "light"
          },
          "paper_bgcolor": "white",
          "plot_bgcolor": "#E5ECF6",
          "polar": {
           "angularaxis": {
            "gridcolor": "white",
            "linecolor": "white",
            "ticks": ""
           },
           "bgcolor": "#E5ECF6",
           "radialaxis": {
            "gridcolor": "white",
            "linecolor": "white",
            "ticks": ""
           }
          },
          "scene": {
           "xaxis": {
            "backgroundcolor": "#E5ECF6",
            "gridcolor": "white",
            "gridwidth": 2,
            "linecolor": "white",
            "showbackground": true,
            "ticks": "",
            "zerolinecolor": "white"
           },
           "yaxis": {
            "backgroundcolor": "#E5ECF6",
            "gridcolor": "white",
            "gridwidth": 2,
            "linecolor": "white",
            "showbackground": true,
            "ticks": "",
            "zerolinecolor": "white"
           },
           "zaxis": {
            "backgroundcolor": "#E5ECF6",
            "gridcolor": "white",
            "gridwidth": 2,
            "linecolor": "white",
            "showbackground": true,
            "ticks": "",
            "zerolinecolor": "white"
           }
          },
          "shapedefaults": {
           "line": {
            "color": "#2a3f5f"
           }
          },
          "ternary": {
           "aaxis": {
            "gridcolor": "white",
            "linecolor": "white",
            "ticks": ""
           },
           "baxis": {
            "gridcolor": "white",
            "linecolor": "white",
            "ticks": ""
           },
           "bgcolor": "#E5ECF6",
           "caxis": {
            "gridcolor": "white",
            "linecolor": "white",
            "ticks": ""
           }
          },
          "title": {
           "x": 0.05
          },
          "xaxis": {
           "automargin": true,
           "gridcolor": "white",
           "linecolor": "white",
           "ticks": "",
           "title": {
            "standoff": 15
           },
           "zerolinecolor": "white",
           "zerolinewidth": 2
          },
          "yaxis": {
           "automargin": true,
           "gridcolor": "white",
           "linecolor": "white",
           "ticks": "",
           "title": {
            "standoff": 15
           },
           "zerolinecolor": "white",
           "zerolinewidth": 2
          }
         }
        },
        "title": {
         "text": "Accuracy performance of classification models",
         "x": 0.5
        },
        "xaxis": {
         "anchor": "y",
         "domain": [
          0,
          1
         ],
         "title": {
          "text": "Classifier"
         }
        },
        "yaxis": {
         "anchor": "x",
         "domain": [
          0,
          1
         ],
         "title": {
          "text": "Accuracy"
         }
        }
       }
      },
      "text/html": [
       "<div>                            <div id=\"c724e0ac-9c63-4d53-84b1-b322cfae67b2\" class=\"plotly-graph-div\" style=\"height:525px; width:100%;\"></div>            <script type=\"text/javascript\">                require([\"plotly\"], function(Plotly) {                    window.PLOTLYENV=window.PLOTLYENV || {};                                    if (document.getElementById(\"c724e0ac-9c63-4d53-84b1-b322cfae67b2\")) {                    Plotly.newPlot(                        \"c724e0ac-9c63-4d53-84b1-b322cfae67b2\",                        [{\"alignmentgroup\":\"True\",\"hovertemplate\":\"Classifier=%{x}<br>Accuracy=%{marker.color}<extra></extra>\",\"legendgroup\":\"\",\"marker\":{\"color\":[0.651,0.636,0.6503137478608101,0.55,0.653,0.57843696520251],\"coloraxis\":\"coloraxis\",\"pattern\":{\"shape\":\"\"}},\"name\":\"\",\"offsetgroup\":\"\",\"orientation\":\"v\",\"showlegend\":false,\"text\":[0.651,0.636,0.6503137478608101,0.55,0.653,0.57843696520251],\"textposition\":\"auto\",\"x\":[\"SVC\",\"Random Forest\",\"KNN\",\"Decision Tree\",\"XG BOOST\",\"Logistic Regression\"],\"xaxis\":\"x\",\"y\":[0.651,0.636,0.6503137478608101,0.55,0.653,0.57843696520251],\"yaxis\":\"y\",\"type\":\"bar\"}],                        {\"template\":{\"data\":{\"histogram2dcontour\":[{\"type\":\"histogram2dcontour\",\"colorbar\":{\"outlinewidth\":0,\"ticks\":\"\"},\"colorscale\":[[0.0,\"#0d0887\"],[0.1111111111111111,\"#46039f\"],[0.2222222222222222,\"#7201a8\"],[0.3333333333333333,\"#9c179e\"],[0.4444444444444444,\"#bd3786\"],[0.5555555555555556,\"#d8576b\"],[0.6666666666666666,\"#ed7953\"],[0.7777777777777778,\"#fb9f3a\"],[0.8888888888888888,\"#fdca26\"],[1.0,\"#f0f921\"]]}],\"choropleth\":[{\"type\":\"choropleth\",\"colorbar\":{\"outlinewidth\":0,\"ticks\":\"\"}}],\"histogram2d\":[{\"type\":\"histogram2d\",\"colorbar\":{\"outlinewidth\":0,\"ticks\":\"\"},\"colorscale\":[[0.0,\"#0d0887\"],[0.1111111111111111,\"#46039f\"],[0.2222222222222222,\"#7201a8\"],[0.3333333333333333,\"#9c179e\"],[0.4444444444444444,\"#bd3786\"],[0.5555555555555556,\"#d8576b\"],[0.6666666666666666,\"#ed7953\"],[0.7777777777777778,\"#fb9f3a\"],[0.8888888888888888,\"#fdca26\"],[1.0,\"#f0f921\"]]}],\"heatmap\":[{\"type\":\"heatmap\",\"colorbar\":{\"outlinewidth\":0,\"ticks\":\"\"},\"colorscale\":[[0.0,\"#0d0887\"],[0.1111111111111111,\"#46039f\"],[0.2222222222222222,\"#7201a8\"],[0.3333333333333333,\"#9c179e\"],[0.4444444444444444,\"#bd3786\"],[0.5555555555555556,\"#d8576b\"],[0.6666666666666666,\"#ed7953\"],[0.7777777777777778,\"#fb9f3a\"],[0.8888888888888888,\"#fdca26\"],[1.0,\"#f0f921\"]]}],\"heatmapgl\":[{\"type\":\"heatmapgl\",\"colorbar\":{\"outlinewidth\":0,\"ticks\":\"\"},\"colorscale\":[[0.0,\"#0d0887\"],[0.1111111111111111,\"#46039f\"],[0.2222222222222222,\"#7201a8\"],[0.3333333333333333,\"#9c179e\"],[0.4444444444444444,\"#bd3786\"],[0.5555555555555556,\"#d8576b\"],[0.6666666666666666,\"#ed7953\"],[0.7777777777777778,\"#fb9f3a\"],[0.8888888888888888,\"#fdca26\"],[1.0,\"#f0f921\"]]}],\"contourcarpet\":[{\"type\":\"contourcarpet\",\"colorbar\":{\"outlinewidth\":0,\"ticks\":\"\"}}],\"contour\":[{\"type\":\"contour\",\"colorbar\":{\"outlinewidth\":0,\"ticks\":\"\"},\"colorscale\":[[0.0,\"#0d0887\"],[0.1111111111111111,\"#46039f\"],[0.2222222222222222,\"#7201a8\"],[0.3333333333333333,\"#9c179e\"],[0.4444444444444444,\"#bd3786\"],[0.5555555555555556,\"#d8576b\"],[0.6666666666666666,\"#ed7953\"],[0.7777777777777778,\"#fb9f3a\"],[0.8888888888888888,\"#fdca26\"],[1.0,\"#f0f921\"]]}],\"surface\":[{\"type\":\"surface\",\"colorbar\":{\"outlinewidth\":0,\"ticks\":\"\"},\"colorscale\":[[0.0,\"#0d0887\"],[0.1111111111111111,\"#46039f\"],[0.2222222222222222,\"#7201a8\"],[0.3333333333333333,\"#9c179e\"],[0.4444444444444444,\"#bd3786\"],[0.5555555555555556,\"#d8576b\"],[0.6666666666666666,\"#ed7953\"],[0.7777777777777778,\"#fb9f3a\"],[0.8888888888888888,\"#fdca26\"],[1.0,\"#f0f921\"]]}],\"mesh3d\":[{\"type\":\"mesh3d\",\"colorbar\":{\"outlinewidth\":0,\"ticks\":\"\"}}],\"scatter\":[{\"fillpattern\":{\"fillmode\":\"overlay\",\"size\":10,\"solidity\":0.2},\"type\":\"scatter\"}],\"parcoords\":[{\"type\":\"parcoords\",\"line\":{\"colorbar\":{\"outlinewidth\":0,\"ticks\":\"\"}}}],\"scatterpolargl\":[{\"type\":\"scatterpolargl\",\"marker\":{\"colorbar\":{\"outlinewidth\":0,\"ticks\":\"\"}}}],\"bar\":[{\"error_x\":{\"color\":\"#2a3f5f\"},\"error_y\":{\"color\":\"#2a3f5f\"},\"marker\":{\"line\":{\"color\":\"#E5ECF6\",\"width\":0.5},\"pattern\":{\"fillmode\":\"overlay\",\"size\":10,\"solidity\":0.2}},\"type\":\"bar\"}],\"scattergeo\":[{\"type\":\"scattergeo\",\"marker\":{\"colorbar\":{\"outlinewidth\":0,\"ticks\":\"\"}}}],\"scatterpolar\":[{\"type\":\"scatterpolar\",\"marker\":{\"colorbar\":{\"outlinewidth\":0,\"ticks\":\"\"}}}],\"histogram\":[{\"marker\":{\"pattern\":{\"fillmode\":\"overlay\",\"size\":10,\"solidity\":0.2}},\"type\":\"histogram\"}],\"scattergl\":[{\"type\":\"scattergl\",\"marker\":{\"colorbar\":{\"outlinewidth\":0,\"ticks\":\"\"}}}],\"scatter3d\":[{\"type\":\"scatter3d\",\"line\":{\"colorbar\":{\"outlinewidth\":0,\"ticks\":\"\"}},\"marker\":{\"colorbar\":{\"outlinewidth\":0,\"ticks\":\"\"}}}],\"scattermapbox\":[{\"type\":\"scattermapbox\",\"marker\":{\"colorbar\":{\"outlinewidth\":0,\"ticks\":\"\"}}}],\"scatterternary\":[{\"type\":\"scatterternary\",\"marker\":{\"colorbar\":{\"outlinewidth\":0,\"ticks\":\"\"}}}],\"scattercarpet\":[{\"type\":\"scattercarpet\",\"marker\":{\"colorbar\":{\"outlinewidth\":0,\"ticks\":\"\"}}}],\"carpet\":[{\"aaxis\":{\"endlinecolor\":\"#2a3f5f\",\"gridcolor\":\"white\",\"linecolor\":\"white\",\"minorgridcolor\":\"white\",\"startlinecolor\":\"#2a3f5f\"},\"baxis\":{\"endlinecolor\":\"#2a3f5f\",\"gridcolor\":\"white\",\"linecolor\":\"white\",\"minorgridcolor\":\"white\",\"startlinecolor\":\"#2a3f5f\"},\"type\":\"carpet\"}],\"table\":[{\"cells\":{\"fill\":{\"color\":\"#EBF0F8\"},\"line\":{\"color\":\"white\"}},\"header\":{\"fill\":{\"color\":\"#C8D4E3\"},\"line\":{\"color\":\"white\"}},\"type\":\"table\"}],\"barpolar\":[{\"marker\":{\"line\":{\"color\":\"#E5ECF6\",\"width\":0.5},\"pattern\":{\"fillmode\":\"overlay\",\"size\":10,\"solidity\":0.2}},\"type\":\"barpolar\"}],\"pie\":[{\"automargin\":true,\"type\":\"pie\"}]},\"layout\":{\"autotypenumbers\":\"strict\",\"colorway\":[\"#636efa\",\"#EF553B\",\"#00cc96\",\"#ab63fa\",\"#FFA15A\",\"#19d3f3\",\"#FF6692\",\"#B6E880\",\"#FF97FF\",\"#FECB52\"],\"font\":{\"color\":\"#2a3f5f\"},\"hovermode\":\"closest\",\"hoverlabel\":{\"align\":\"left\"},\"paper_bgcolor\":\"white\",\"plot_bgcolor\":\"#E5ECF6\",\"polar\":{\"bgcolor\":\"#E5ECF6\",\"angularaxis\":{\"gridcolor\":\"white\",\"linecolor\":\"white\",\"ticks\":\"\"},\"radialaxis\":{\"gridcolor\":\"white\",\"linecolor\":\"white\",\"ticks\":\"\"}},\"ternary\":{\"bgcolor\":\"#E5ECF6\",\"aaxis\":{\"gridcolor\":\"white\",\"linecolor\":\"white\",\"ticks\":\"\"},\"baxis\":{\"gridcolor\":\"white\",\"linecolor\":\"white\",\"ticks\":\"\"},\"caxis\":{\"gridcolor\":\"white\",\"linecolor\":\"white\",\"ticks\":\"\"}},\"coloraxis\":{\"colorbar\":{\"outlinewidth\":0,\"ticks\":\"\"}},\"colorscale\":{\"sequential\":[[0.0,\"#0d0887\"],[0.1111111111111111,\"#46039f\"],[0.2222222222222222,\"#7201a8\"],[0.3333333333333333,\"#9c179e\"],[0.4444444444444444,\"#bd3786\"],[0.5555555555555556,\"#d8576b\"],[0.6666666666666666,\"#ed7953\"],[0.7777777777777778,\"#fb9f3a\"],[0.8888888888888888,\"#fdca26\"],[1.0,\"#f0f921\"]],\"sequentialminus\":[[0.0,\"#0d0887\"],[0.1111111111111111,\"#46039f\"],[0.2222222222222222,\"#7201a8\"],[0.3333333333333333,\"#9c179e\"],[0.4444444444444444,\"#bd3786\"],[0.5555555555555556,\"#d8576b\"],[0.6666666666666666,\"#ed7953\"],[0.7777777777777778,\"#fb9f3a\"],[0.8888888888888888,\"#fdca26\"],[1.0,\"#f0f921\"]],\"diverging\":[[0,\"#8e0152\"],[0.1,\"#c51b7d\"],[0.2,\"#de77ae\"],[0.3,\"#f1b6da\"],[0.4,\"#fde0ef\"],[0.5,\"#f7f7f7\"],[0.6,\"#e6f5d0\"],[0.7,\"#b8e186\"],[0.8,\"#7fbc41\"],[0.9,\"#4d9221\"],[1,\"#276419\"]]},\"xaxis\":{\"gridcolor\":\"white\",\"linecolor\":\"white\",\"ticks\":\"\",\"title\":{\"standoff\":15},\"zerolinecolor\":\"white\",\"automargin\":true,\"zerolinewidth\":2},\"yaxis\":{\"gridcolor\":\"white\",\"linecolor\":\"white\",\"ticks\":\"\",\"title\":{\"standoff\":15},\"zerolinecolor\":\"white\",\"automargin\":true,\"zerolinewidth\":2},\"scene\":{\"xaxis\":{\"backgroundcolor\":\"#E5ECF6\",\"gridcolor\":\"white\",\"linecolor\":\"white\",\"showbackground\":true,\"ticks\":\"\",\"zerolinecolor\":\"white\",\"gridwidth\":2},\"yaxis\":{\"backgroundcolor\":\"#E5ECF6\",\"gridcolor\":\"white\",\"linecolor\":\"white\",\"showbackground\":true,\"ticks\":\"\",\"zerolinecolor\":\"white\",\"gridwidth\":2},\"zaxis\":{\"backgroundcolor\":\"#E5ECF6\",\"gridcolor\":\"white\",\"linecolor\":\"white\",\"showbackground\":true,\"ticks\":\"\",\"zerolinecolor\":\"white\",\"gridwidth\":2}},\"shapedefaults\":{\"line\":{\"color\":\"#2a3f5f\"}},\"annotationdefaults\":{\"arrowcolor\":\"#2a3f5f\",\"arrowhead\":0,\"arrowwidth\":1},\"geo\":{\"bgcolor\":\"white\",\"landcolor\":\"#E5ECF6\",\"subunitcolor\":\"white\",\"showland\":true,\"showlakes\":true,\"lakecolor\":\"white\"},\"title\":{\"x\":0.05},\"mapbox\":{\"style\":\"light\"}}},\"xaxis\":{\"anchor\":\"y\",\"domain\":[0.0,1.0],\"title\":{\"text\":\"Classifier\"}},\"yaxis\":{\"anchor\":\"x\",\"domain\":[0.0,1.0],\"title\":{\"text\":\"Accuracy\"}},\"coloraxis\":{\"colorbar\":{\"title\":{\"text\":\"Accuracy\"}},\"colorscale\":[[0.0,\"rgb(103,0,31)\"],[0.1,\"rgb(178,24,43)\"],[0.2,\"rgb(214,96,77)\"],[0.3,\"rgb(244,165,130)\"],[0.4,\"rgb(253,219,199)\"],[0.5,\"rgb(247,247,247)\"],[0.6,\"rgb(209,229,240)\"],[0.7,\"rgb(146,197,222)\"],[0.8,\"rgb(67,147,195)\"],[0.9,\"rgb(33,102,172)\"],[1.0,\"rgb(5,48,97)\"]]},\"legend\":{\"tracegroupgap\":0},\"margin\":{\"t\":60},\"barmode\":\"relative\",\"title\":{\"text\":\"Accuracy performance of classification models\",\"x\":0.5}},                        {\"responsive\": true}                    ).then(function(){\n",
       "                            \n",
       "var gd = document.getElementById('c724e0ac-9c63-4d53-84b1-b322cfae67b2');\n",
       "var x = new MutationObserver(function (mutations, observer) {{\n",
       "        var display = window.getComputedStyle(gd).display;\n",
       "        if (!display || display === 'none') {{\n",
       "            console.log([gd, 'removed!']);\n",
       "            Plotly.purge(gd);\n",
       "            observer.disconnect();\n",
       "        }}\n",
       "}});\n",
       "\n",
       "// Listen for the removal of the full notebook cells\n",
       "var notebookContainer = gd.closest('#notebook-container');\n",
       "if (notebookContainer) {{\n",
       "    x.observe(notebookContainer, {childList: true});\n",
       "}}\n",
       "\n",
       "// Listen for the clearing of the current output cell\n",
       "var outputEl = gd.closest('.output');\n",
       "if (outputEl) {{\n",
       "    x.observe(outputEl, {childList: true});\n",
       "}}\n",
       "\n",
       "                        })                };                });            </script>        </div>"
      ]
     },
     "metadata": {},
     "output_type": "display_data"
    }
   ],
   "source": [
    "import plotly.express as px\n",
    "import pandas as pd\n",
    "\n",
    "# Data for classifier accuracy\n",
    "accuracy_of_models = {'Classifier': ['SVC', 'Random Forest', 'KNN', 'Decision Tree', 'XG BOOST', 'Logistic Regression'],\n",
    "                      'Accuracy': [svm_acc, rf_acc, knn_test_accuracy, tree_acc, lr_acc, accuracy_test_xgboost]}\n",
    "\n",
    "# Convert the data to a DataFrame\n",
    "df = pd.DataFrame(accuracy_of_models)\n",
    "\n",
    "# Create the bar plot\n",
    "fig = px.bar(df, x='Classifier', y='Accuracy',\n",
    "             color='Accuracy',  # Color bars by accuracy\n",
    "             text='Accuracy',  # Display accuracy values on the bars\n",
    "             color_continuous_scale=px.colors.sequential.RdBu,  # Color scale\n",
    "             labels={'Accuracy': 'Accuracy'})\n",
    "\n",
    "# Update the layout to center the title\n",
    "fig.update_layout(\n",
    "    title_text='Accuracy performance of classification models',\n",
    "    title_x=0.5  # Center the title horizontally\n",
    ")\n",
    "\n",
    "fig.show()"
   ]
  },
  {
   "cell_type": "code",
   "execution_count": 62,
   "id": "50a82f49",
   "metadata": {},
   "outputs": [],
   "source": [
    "##Viewing the confusion maxtix of the best classifier"
   ]
  },
  {
   "cell_type": "code",
   "execution_count": 133,
   "id": "3720a3d1",
   "metadata": {},
   "outputs": [
    {
     "data": {
      "image/png": "[encoded data removed]",
      "text/plain": [
       "<Figure size 640x480 with 2 Axes>"
      ]
     },
     "metadata": {},
     "output_type": "display_data"
    }
   ],
   "source": [
    "import matplotlib.pyplot as plt\n",
    "import numpy as np\n",
    "import itertools\n",
    "\n",
    "# Dictionary for each classifier confusion matrix\n",
    "cm_of_models = {\n",
    "    'SVC': svm_matrix,\n",
    "    'Random Forest': rf_matrix,\n",
    "    'KNN': knn_matrix,\n",
    "    'Decision Tree': tree_matrix,\n",
    "    'XG Boost': confusion_matrix_xgboost,\n",
    "    'Logistic Regression': lr_matrix,\n",
    "}\n",
    "\n",
    "\n",
    "# Dictionary for accuracy values\n",
    "accuracy_of_models = {\n",
    "    'SVC': svm_acc,\n",
    "    'Random Forest': rf_acc,\n",
    "    'KNN': knn_test_accuracy,\n",
    "    'Decision Tree': tree_acc,\n",
    "    'XG Boost': accuracy_test_xgboost,\n",
    "    'Logistic Regression': lr_acc,\n",
    "}\n",
    "# Find the best-performing model\n",
    "best_model = max(accuracy_of_models, key=accuracy_of_models.get)\n",
    "\n",
    "# Get the confusion matrix for the best-performing model\n",
    "best_confusion_matrix = cm_of_models[best_model]\n",
    "\n",
    "# Create a heatmap for the best-performing model\n",
    "plt.imshow(best_confusion_matrix, cmap='rainbow', interpolation='nearest')\n",
    "plt.title(f'Confusion Matrix for {best_model}')\n",
    "plt.colorbar()\n",
    "tick_marks = np.arange(2)\n",
    "plt.xticks(tick_marks, ['Not Dropout', 'Dropout'])\n",
    "plt.yticks(tick_marks, ['Not Dropout', 'Dropout'])\n",
    "\n",
    "plt.ylabel('Actual')\n",
    "plt.xlabel('Predicted')\n",
    "\n",
    "# Display the values on the heatmap\n",
    "thresh = best_confusion_matrix.max() / 2.0\n",
    "for i, j in itertools.product(range(best_confusion_matrix.shape[0]), range(best_confusion_matrix.shape[1])):\n",
    "    plt.text(j, i, format(best_confusion_matrix[i, j], 'd'),\n",
    "             horizontalalignment=\"center\",\n",
    "             color=\"white\" if best_confusion_matrix[i, j] > thresh else \"black\")\n",
    "\n",
    "plt.tight_layout()  # Move the figure to the center\n",
    "\n",
    "# Format the accuracy as a percentage with two decimal places\n",
    "formatted_accuracy = f'{accuracy_of_models[best_model] * 100:.2f}%'\n",
    "\n",
    "# Display the result as a text label\n",
    "plt.figtext(0.5, -0.1, f'Accuracy: {formatted_accuracy}', fontsize=12, ha='center')\n",
    "\n",
    "plt.show()"
   ]
  },
  {
   "cell_type": "code",
   "execution_count": 112,
   "id": "44756b70",
   "metadata": {},
   "outputs": [],
   "source": [
    "##Viewing the confusion matrix for other classifiers"
   ]
  },
  {
   "cell_type": "code",
   "execution_count": 134,
   "id": "bb36aebf",
   "metadata": {},
   "outputs": [
    {
     "data": {
      "image/png": "[encoded data removed]",
      "text/plain": [
       "<Figure size 1000x800 with 4 Axes>"
      ]
     },
     "metadata": {},
     "output_type": "display_data"
    }
   ],
   "source": [
    "import matplotlib.pyplot as plt\n",
    "import numpy as np\n",
    "import itertools\n",
    "import random\n",
    "\n",
    "# Dictionary for each classifier confusion matrix\n",
    "cm_of_models = {\n",
    "    'SVC': svm_matrix,\n",
    "    'Random Forest': rf_matrix,\n",
    "    'KNN': knn_matrix,\n",
    "    'Decision Tree': tree_matrix,\n",
    "    'XG Boost': confusion_matrix_xgboost,\n",
    "    'Logistic Regression': lr_matrix,\n",
    "}\n",
    "\n",
    "# Dictionary for accuracy values\n",
    "accuracy_of_models = {\n",
    "    'SVC': svm_acc,\n",
    "    'Random Forest': rf_acc,\n",
    "    'KNN': knn_test_accuracy,\n",
    "    'Decision Tree': tree_acc,\n",
    "    'XG Boost': accuracy_test_xgboost,\n",
    "    'Logistic Regression': lr_acc,\n",
    "}\n",
    "\n",
    "colormaps = ['jet', 'turbo', 'BuPu','PuRd']\n",
    "\n",
    "# Number of classifiers\n",
    "num_classifiers = len(cm_of_models)\n",
    "\n",
    "# Create a subplot with two rows and two columns\n",
    "fig, axes = plt.subplots(2, 2, figsize=(10, 8))  # Adjust the figsize here\n",
    "\n",
    "# Find the best-performing model\n",
    "best_model = max(accuracy_of_models, key=accuracy_of_models.get)\n",
    "best_score = accuracy_of_models[best_model]\n",
    "\n",
    "# Loop through selected classifiers and create heatmaps\n",
    "selected_classifiers = ['SVC', 'Random Forest', 'KNN', 'Decision Tree']  # Add the classifiers you want to display here\n",
    "\n",
    "heatmap_size = 4  # Adjust the size of the heatmaps\n",
    "for idx, model in enumerate(selected_classifiers):\n",
    "    confusion_matrix = cm_of_models[model]\n",
    "    # Randomly select a colormap from the list\n",
    "    random_colormap = random.choice(colormaps)\n",
    "\n",
    "    row = idx // 2\n",
    "    col = idx % 2\n",
    "\n",
    "    ax = axes[row, col]\n",
    "    ax.imshow(confusion_matrix, cmap=random_colormap, interpolation='nearest', aspect='auto')  # Set aspect='auto' to adjust the size\n",
    "    ax.set_title(f'Confusion Matrix for {model}')\n",
    "    ax.tick_params(axis='both', which='both', length=0)\n",
    "    tick_marks = np.arange(2)\n",
    "    ax.set_xticks(tick_marks)\n",
    "    ax.set_yticks(tick_marks)\n",
    "    ax.set_xticklabels(['Not Dropout', 'Dropout'])\n",
    "    ax.set_yticklabels(['Not Dropout', 'Dropout'])\n",
    "\n",
    "    ax.set_ylabel('Actual')\n",
    "    ax.set_xlabel('Predicted')\n",
    "\n",
    "    # Display the values on the heatmap\n",
    "    thresh = confusion_matrix.max() / 2.0\n",
    "    for i, j in itertools.product(range(confusion_matrix.shape[0]), range(confusion_matrix.shape[1])):\n",
    "        ax.text(j, i, format(confusion_matrix[i, j], 'd'),\n",
    "                horizontalalignment=\"center\",\n",
    "                color=\"white\" if confusion_matrix[i, j] > thresh else \"black\")\n",
    "\n",
    "# Format the accuracy as a percentage with two decimal places\n",
    "formatted_accuracy = f'{best_score * 100:.2f}%'\n",
    "\n",
    "# Display the result as a text label\n",
    "plt.figtext(0.5, -0.05, f'Accuracy: {formatted_accuracy}', fontsize=12, ha='center')  # Adjust the y position\n",
    "\n",
    "plt.tight_layout()\n",
    "plt.show()"
   ]
  },
  {
   "cell_type": "code",
   "execution_count": 111,
   "id": "f62c75f4",
   "metadata": {},
   "outputs": [
    {
     "data": {
      "text/markdown": [
       "\n",
       "#### From the results above we can see that Logistic Regression performs best with the highest accuracy of 65.3%\n"
      ],
      "text/plain": [
       "<IPython.core.display.Markdown object>"
      ]
     },
     "execution_count": 111,
     "metadata": {},
     "output_type": "execute_result"
    }
   ],
   "source": [
    "from IPython.display import Markdown\n",
    "\n",
    "# Replace your Markdown text with the following line\n",
    "Markdown(f\"\"\"\n",
    "#### From the results above we can see that {best_model} performs best with the highest accuracy of {round(best_score * 100, 2)}%\n",
    "\"\"\")"
   ]
  },
  {
   "cell_type": "code",
   "execution_count": null,
   "id": "1aff0b46",
   "metadata": {},
   "outputs": [],
   "source": [
    "##FINAL INTERPRETATION:\n",
    "\n",
    "##The best model is Ridge Regression. It has the lowest test RMSE and the highest test R2 among the three models that you have provided.\n",
    "\n",
    "## Here is a summary of the performance of the three models on the test set:\n",
    "\n",
    "## Model\tTest RMSE\tTest R2\n",
    "## KNN with 80 neighbors\t0.4772921149702422\t-0.0048217673247723525\n",
    "## Lasso Regression\t0.4765248025858558\t-0.0015935873142036705\n",
    "## Ridge Regression\t0.47634020742414246\t-0.0008177472395589636\n",
    "## It is important to note that the performance of a model on the test set is not a guarantee of its performance on new data. However, the fact that Ridge Regression has the lowest test RMSE and the highest test R2 suggests that it is the best of the three models at generalizing to new data.\n",
    "\n",
    "## You may also want to consider the following factors when choosing the best model for your needs:\n",
    "\n",
    "## Interpretability: Ridge Regression is a linear model, which means that it is relatively easy to interpret the coefficients of the model. The other two models, KNN and Lasso Regression, are non-linear models, which are more difficult to interpret.\n",
    "\n",
    "## Robustness: Ridge Regression is a relatively robust model, which means that it is not very sensitive to outliers in the data. The other two models, KNN and Lasso Regression, are more sensitive to outliers.\n",
    "\n",
    "## Computational complexity: Ridge Regression is a relatively computationally efficient model. The other two models, KNN and Lasso Regression, can be more computationally expensive to train and predict with.\n",
    "\n",
    "## Overall, Ridge Regression is a good choice for many machine learning tasks. It is a relatively simple model that is easy to interpret and robust to outliers. It is also computationally efficient.\n"
   ]
  }
 ],
 "metadata": {
  "kernelspec": {
   "display_name": "Python 3 (ipykernel)",
   "language": "python",
   "name": "python3"
  },
  "language_info": {
   "codemirror_mode": {
    "name": "ipython",
    "version": 3
   },
   "file_extension": ".py",
   "mimetype": "text/x-python",
   "name": "python",
   "nbconvert_exporter": "python",
   "pygments_lexer": "ipython3",
   "version": "3.11.4"
  }
 },
 "nbformat": 4,
 "nbformat_minor": 5
}
